{
 "cells": [
  {
   "cell_type": "markdown",
   "metadata": {},
   "source": [
    "# Рекомендация тарифов"
   ]
  },
  {
   "cell_type": "markdown",
   "metadata": {},
   "source": [
    "В вашем распоряжении данные о поведении клиентов, которые уже перешли на эти тарифы (из проекта курса «Статистический анализ данных»). Нужно построить модель для задачи классификации, которая выберет подходящий тариф. Предобработка данных не понадобится — вы её уже сделали.\n",
    "\n",
    "Постройте модель с максимально большим значением *accuracy*. Чтобы сдать проект успешно, нужно довести долю правильных ответов по крайней мере до 0.75. Проверьте *accuracy* на тестовой выборке самостоятельно."
   ]
  },
  {
   "cell_type": "markdown",
   "metadata": {},
   "source": [
    "## Импортируем все необдходимое"
   ]
  },
  {
   "cell_type": "code",
   "execution_count": 1,
   "metadata": {},
   "outputs": [],
   "source": [
    "import pandas as pd\n",
    "import numpy as np\n",
    "from sklearn.model_selection import train_test_split\n",
    "from sklearn.linear_model import LogisticRegression\n",
    "from sklearn.ensemble import RandomForestClassifier\n",
    "from sklearn.tree import DecisionTreeClassifier\n",
    "from sklearn.metrics import ConfusionMatrixDisplay, confusion_matrix\n",
    "from sklearn.metrics import accuracy_score\n",
    "from sklearn.metrics import roc_curve\n",
    "from sklearn.metrics import auc\n",
    "import seaborn as sns\n",
    "from tqdm import tqdm\n",
    "import matplotlib.pyplot as plt\n",
    "from imblearn.over_sampling import RandomOverSampler\n",
    "from imblearn.under_sampling import RandomUnderSampler\n",
    "\n",
    "def describe(X: pd.DataFrame, y: pd. Series):\n",
    "    X_copy = X.copy()\n",
    "    X_copy[\"is_ultra\"] = y\n",
    "    return X_copy.describe()\n",
    "\n",
    "\n",
    "RANDOM_SEED = 42"
   ]
  },
  {
   "cell_type": "markdown",
   "metadata": {},
   "source": [
    "##  Откроем и изучим файл"
   ]
  },
  {
   "cell_type": "code",
   "execution_count": 2,
   "metadata": {},
   "outputs": [],
   "source": [
    "frame = pd.read_csv('datasets/users_behavior.csv')"
   ]
  },
  {
   "cell_type": "markdown",
   "metadata": {},
   "source": [
    "<div class=\"alert alert-info\">\n",
    "<b>Вот касаемо нейминга - датафреймы лучше именовать df, тоже общепринятая вещь. примеры во всех бибилотеках именуют так</b> "
   ]
  },
  {
   "cell_type": "code",
   "execution_count": 3,
   "metadata": {},
   "outputs": [
    {
     "data": {
      "text/html": [
       "<div>\n",
       "<style scoped>\n",
       "    .dataframe tbody tr th:only-of-type {\n",
       "        vertical-align: middle;\n",
       "    }\n",
       "\n",
       "    .dataframe tbody tr th {\n",
       "        vertical-align: top;\n",
       "    }\n",
       "\n",
       "    .dataframe thead th {\n",
       "        text-align: right;\n",
       "    }\n",
       "</style>\n",
       "<table border=\"1\" class=\"dataframe\">\n",
       "  <thead>\n",
       "    <tr style=\"text-align: right;\">\n",
       "      <th></th>\n",
       "      <th>calls</th>\n",
       "      <th>minutes</th>\n",
       "      <th>messages</th>\n",
       "      <th>mb_used</th>\n",
       "      <th>is_ultra</th>\n",
       "    </tr>\n",
       "  </thead>\n",
       "  <tbody>\n",
       "    <tr>\n",
       "      <th>0</th>\n",
       "      <td>40.0</td>\n",
       "      <td>311.90</td>\n",
       "      <td>83.0</td>\n",
       "      <td>19915.42</td>\n",
       "      <td>0</td>\n",
       "    </tr>\n",
       "    <tr>\n",
       "      <th>1</th>\n",
       "      <td>85.0</td>\n",
       "      <td>516.75</td>\n",
       "      <td>56.0</td>\n",
       "      <td>22696.96</td>\n",
       "      <td>0</td>\n",
       "    </tr>\n",
       "    <tr>\n",
       "      <th>2</th>\n",
       "      <td>77.0</td>\n",
       "      <td>467.66</td>\n",
       "      <td>86.0</td>\n",
       "      <td>21060.45</td>\n",
       "      <td>0</td>\n",
       "    </tr>\n",
       "    <tr>\n",
       "      <th>3</th>\n",
       "      <td>106.0</td>\n",
       "      <td>745.53</td>\n",
       "      <td>81.0</td>\n",
       "      <td>8437.39</td>\n",
       "      <td>1</td>\n",
       "    </tr>\n",
       "    <tr>\n",
       "      <th>4</th>\n",
       "      <td>66.0</td>\n",
       "      <td>418.74</td>\n",
       "      <td>1.0</td>\n",
       "      <td>14502.75</td>\n",
       "      <td>0</td>\n",
       "    </tr>\n",
       "  </tbody>\n",
       "</table>\n",
       "</div>"
      ],
      "text/plain": [
       "   calls  minutes  messages   mb_used  is_ultra\n",
       "0   40.0   311.90      83.0  19915.42         0\n",
       "1   85.0   516.75      56.0  22696.96         0\n",
       "2   77.0   467.66      86.0  21060.45         0\n",
       "3  106.0   745.53      81.0   8437.39         1\n",
       "4   66.0   418.74       1.0  14502.75         0"
      ]
     },
     "execution_count": 3,
     "metadata": {},
     "output_type": "execute_result"
    }
   ],
   "source": [
    "frame.head()"
   ]
  },
  {
   "cell_type": "markdown",
   "metadata": {},
   "source": [
    "### Проверим типы данных"
   ]
  },
  {
   "cell_type": "code",
   "execution_count": 4,
   "metadata": {},
   "outputs": [
    {
     "name": "stdout",
     "output_type": "stream",
     "text": [
      "<class 'pandas.core.frame.DataFrame'>\n",
      "RangeIndex: 3214 entries, 0 to 3213\n",
      "Data columns (total 5 columns):\n",
      " #   Column    Non-Null Count  Dtype  \n",
      "---  ------    --------------  -----  \n",
      " 0   calls     3214 non-null   float64\n",
      " 1   minutes   3214 non-null   float64\n",
      " 2   messages  3214 non-null   float64\n",
      " 3   mb_used   3214 non-null   float64\n",
      " 4   is_ultra  3214 non-null   int64  \n",
      "dtypes: float64(4), int64(1)\n",
      "memory usage: 125.7 KB\n"
     ]
    }
   ],
   "source": [
    "frame.info()"
   ]
  },
  {
   "cell_type": "markdown",
   "metadata": {},
   "source": [
    "#### Результаты проверки \n",
    "Изменим тип поля messages на int, потому что дробных сообщений быть не может"
   ]
  },
  {
   "cell_type": "code",
   "execution_count": 5,
   "metadata": {},
   "outputs": [],
   "source": [
    "frame['messages']=frame['messages'].astype(\"int\")"
   ]
  },
  {
   "cell_type": "markdown",
   "metadata": {},
   "source": [
    "<div class=\"alert alert-warning\">\n",
    "<b>А звонки (calls) может быть тоже поменять? их тоже дробных не бывает</b> \n",
    "</div>\n"
   ]
  },
  {
   "cell_type": "markdown",
   "metadata": {},
   "source": [
    "### Проверим  дубликаты"
   ]
  },
  {
   "cell_type": "code",
   "execution_count": 6,
   "metadata": {
    "scrolled": true
   },
   "outputs": [
    {
     "data": {
      "text/plain": [
       "0"
      ]
     },
     "execution_count": 6,
     "metadata": {},
     "output_type": "execute_result"
    }
   ],
   "source": [
    "frame.duplicated().sum()"
   ]
  },
  {
   "cell_type": "markdown",
   "metadata": {},
   "source": [
    "<div class=\"alert alert-info\">\n",
    "<b>хорошая практика делать такую проверку</b>\n",
    "</div>"
   ]
  },
  {
   "cell_type": "markdown",
   "metadata": {},
   "source": [
    "#### Результаты проверки \n",
    "Дубликатов не найдено"
   ]
  },
  {
   "cell_type": "markdown",
   "metadata": {},
   "source": [
    "### Проверка на корректность наименований столбцов"
   ]
  },
  {
   "cell_type": "code",
   "execution_count": 7,
   "metadata": {
    "scrolled": true
   },
   "outputs": [
    {
     "data": {
      "text/plain": [
       "Index(['calls', 'minutes', 'messages', 'mb_used', 'is_ultra'], dtype='object')"
      ]
     },
     "execution_count": 7,
     "metadata": {},
     "output_type": "execute_result"
    }
   ],
   "source": [
    "frame.columns"
   ]
  },
  {
   "cell_type": "markdown",
   "metadata": {},
   "source": [
    "#### Результаты проверки \n",
    "Имена столбцов заданы корректно"
   ]
  },
  {
   "cell_type": "markdown",
   "metadata": {},
   "source": [
    "### Проверим значения содержащиеся в столбцах"
   ]
  },
  {
   "cell_type": "code",
   "execution_count": 8,
   "metadata": {
    "scrolled": true
   },
   "outputs": [
    {
     "data": {
      "text/html": [
       "<div>\n",
       "<style scoped>\n",
       "    .dataframe tbody tr th:only-of-type {\n",
       "        vertical-align: middle;\n",
       "    }\n",
       "\n",
       "    .dataframe tbody tr th {\n",
       "        vertical-align: top;\n",
       "    }\n",
       "\n",
       "    .dataframe thead th {\n",
       "        text-align: right;\n",
       "    }\n",
       "</style>\n",
       "<table border=\"1\" class=\"dataframe\">\n",
       "  <thead>\n",
       "    <tr style=\"text-align: right;\">\n",
       "      <th></th>\n",
       "      <th>calls</th>\n",
       "      <th>minutes</th>\n",
       "      <th>messages</th>\n",
       "      <th>mb_used</th>\n",
       "      <th>is_ultra</th>\n",
       "    </tr>\n",
       "  </thead>\n",
       "  <tbody>\n",
       "    <tr>\n",
       "      <th>count</th>\n",
       "      <td>3214.000000</td>\n",
       "      <td>3214.000000</td>\n",
       "      <td>3214.000000</td>\n",
       "      <td>3214.000000</td>\n",
       "      <td>3214.000000</td>\n",
       "    </tr>\n",
       "    <tr>\n",
       "      <th>mean</th>\n",
       "      <td>63.038892</td>\n",
       "      <td>438.208787</td>\n",
       "      <td>38.281269</td>\n",
       "      <td>17207.673836</td>\n",
       "      <td>0.306472</td>\n",
       "    </tr>\n",
       "    <tr>\n",
       "      <th>std</th>\n",
       "      <td>33.236368</td>\n",
       "      <td>234.569872</td>\n",
       "      <td>36.148326</td>\n",
       "      <td>7570.968246</td>\n",
       "      <td>0.461100</td>\n",
       "    </tr>\n",
       "    <tr>\n",
       "      <th>min</th>\n",
       "      <td>0.000000</td>\n",
       "      <td>0.000000</td>\n",
       "      <td>0.000000</td>\n",
       "      <td>0.000000</td>\n",
       "      <td>0.000000</td>\n",
       "    </tr>\n",
       "    <tr>\n",
       "      <th>25%</th>\n",
       "      <td>40.000000</td>\n",
       "      <td>274.575000</td>\n",
       "      <td>9.000000</td>\n",
       "      <td>12491.902500</td>\n",
       "      <td>0.000000</td>\n",
       "    </tr>\n",
       "    <tr>\n",
       "      <th>50%</th>\n",
       "      <td>62.000000</td>\n",
       "      <td>430.600000</td>\n",
       "      <td>30.000000</td>\n",
       "      <td>16943.235000</td>\n",
       "      <td>0.000000</td>\n",
       "    </tr>\n",
       "    <tr>\n",
       "      <th>75%</th>\n",
       "      <td>82.000000</td>\n",
       "      <td>571.927500</td>\n",
       "      <td>57.000000</td>\n",
       "      <td>21424.700000</td>\n",
       "      <td>1.000000</td>\n",
       "    </tr>\n",
       "    <tr>\n",
       "      <th>max</th>\n",
       "      <td>244.000000</td>\n",
       "      <td>1632.060000</td>\n",
       "      <td>224.000000</td>\n",
       "      <td>49745.730000</td>\n",
       "      <td>1.000000</td>\n",
       "    </tr>\n",
       "  </tbody>\n",
       "</table>\n",
       "</div>"
      ],
      "text/plain": [
       "             calls      minutes     messages       mb_used     is_ultra\n",
       "count  3214.000000  3214.000000  3214.000000   3214.000000  3214.000000\n",
       "mean     63.038892   438.208787    38.281269  17207.673836     0.306472\n",
       "std      33.236368   234.569872    36.148326   7570.968246     0.461100\n",
       "min       0.000000     0.000000     0.000000      0.000000     0.000000\n",
       "25%      40.000000   274.575000     9.000000  12491.902500     0.000000\n",
       "50%      62.000000   430.600000    30.000000  16943.235000     0.000000\n",
       "75%      82.000000   571.927500    57.000000  21424.700000     1.000000\n",
       "max     244.000000  1632.060000   224.000000  49745.730000     1.000000"
      ]
     },
     "execution_count": 8,
     "metadata": {},
     "output_type": "execute_result"
    }
   ],
   "source": [
    "frame.describe()"
   ]
  },
  {
   "cell_type": "markdown",
   "metadata": {},
   "source": [
    "<div class=\"alert alert-info\">\n",
    "<b>как по мне - очень удобно смотреть именно транспонированное значение дескрайба, может пригодиться:</b>\n",
    "</div>"
   ]
  },
  {
   "cell_type": "code",
   "execution_count": 6,
   "metadata": {},
   "outputs": [
    {
     "data": {
      "text/html": [
       "<div>\n",
       "<style scoped>\n",
       "    .dataframe tbody tr th:only-of-type {\n",
       "        vertical-align: middle;\n",
       "    }\n",
       "\n",
       "    .dataframe tbody tr th {\n",
       "        vertical-align: top;\n",
       "    }\n",
       "\n",
       "    .dataframe thead th {\n",
       "        text-align: right;\n",
       "    }\n",
       "</style>\n",
       "<table border=\"1\" class=\"dataframe\">\n",
       "  <thead>\n",
       "    <tr style=\"text-align: right;\">\n",
       "      <th></th>\n",
       "      <th>count</th>\n",
       "      <th>mean</th>\n",
       "      <th>std</th>\n",
       "      <th>min</th>\n",
       "      <th>25%</th>\n",
       "      <th>50%</th>\n",
       "      <th>75%</th>\n",
       "      <th>max</th>\n",
       "    </tr>\n",
       "  </thead>\n",
       "  <tbody>\n",
       "    <tr>\n",
       "      <th>calls</th>\n",
       "      <td>3214.0</td>\n",
       "      <td>63.038892</td>\n",
       "      <td>33.236368</td>\n",
       "      <td>0.0</td>\n",
       "      <td>40.0000</td>\n",
       "      <td>62.000</td>\n",
       "      <td>82.0000</td>\n",
       "      <td>244.00</td>\n",
       "    </tr>\n",
       "    <tr>\n",
       "      <th>minutes</th>\n",
       "      <td>3214.0</td>\n",
       "      <td>438.208787</td>\n",
       "      <td>234.569872</td>\n",
       "      <td>0.0</td>\n",
       "      <td>274.5750</td>\n",
       "      <td>430.600</td>\n",
       "      <td>571.9275</td>\n",
       "      <td>1632.06</td>\n",
       "    </tr>\n",
       "    <tr>\n",
       "      <th>messages</th>\n",
       "      <td>3214.0</td>\n",
       "      <td>38.281269</td>\n",
       "      <td>36.148326</td>\n",
       "      <td>0.0</td>\n",
       "      <td>9.0000</td>\n",
       "      <td>30.000</td>\n",
       "      <td>57.0000</td>\n",
       "      <td>224.00</td>\n",
       "    </tr>\n",
       "    <tr>\n",
       "      <th>mb_used</th>\n",
       "      <td>3214.0</td>\n",
       "      <td>17207.673836</td>\n",
       "      <td>7570.968246</td>\n",
       "      <td>0.0</td>\n",
       "      <td>12491.9025</td>\n",
       "      <td>16943.235</td>\n",
       "      <td>21424.7000</td>\n",
       "      <td>49745.73</td>\n",
       "    </tr>\n",
       "    <tr>\n",
       "      <th>is_ultra</th>\n",
       "      <td>3214.0</td>\n",
       "      <td>0.306472</td>\n",
       "      <td>0.461100</td>\n",
       "      <td>0.0</td>\n",
       "      <td>0.0000</td>\n",
       "      <td>0.000</td>\n",
       "      <td>1.0000</td>\n",
       "      <td>1.00</td>\n",
       "    </tr>\n",
       "  </tbody>\n",
       "</table>\n",
       "</div>"
      ],
      "text/plain": [
       "           count          mean          std  min         25%        50%  \\\n",
       "calls     3214.0     63.038892    33.236368  0.0     40.0000     62.000   \n",
       "minutes   3214.0    438.208787   234.569872  0.0    274.5750    430.600   \n",
       "messages  3214.0     38.281269    36.148326  0.0      9.0000     30.000   \n",
       "mb_used   3214.0  17207.673836  7570.968246  0.0  12491.9025  16943.235   \n",
       "is_ultra  3214.0      0.306472     0.461100  0.0      0.0000      0.000   \n",
       "\n",
       "                 75%       max  \n",
       "calls        82.0000    244.00  \n",
       "minutes     571.9275   1632.06  \n",
       "messages     57.0000    224.00  \n",
       "mb_used   21424.7000  49745.73  \n",
       "is_ultra      1.0000      1.00  "
      ]
     },
     "execution_count": 6,
     "metadata": {},
     "output_type": "execute_result"
    }
   ],
   "source": [
    "frame.describe().T"
   ]
  },
  {
   "cell_type": "markdown",
   "metadata": {},
   "source": [
    "### Вывод"
   ]
  },
  {
   "cell_type": "markdown",
   "metadata": {},
   "source": [
    "1. Пропущенных значений нет\n",
    "1. Типы столбцов в порядке\n",
    "1. Дубликатов нет\n",
    "2. Датафрейм не сбалансирован. Позже, надо будет произвести балансировку обучающей выборки с помощью imbalanced-learn"
   ]
  },
  {
   "cell_type": "markdown",
   "metadata": {},
   "source": [
    "<div class=\"alert alert-warning\">\n",
    "<b>целевой признак не сбалансирован, все таки не датафрейм</b> \n",
    "</div>"
   ]
  },
  {
   "cell_type": "markdown",
   "metadata": {},
   "source": [
    "# Разобьем данные на выборки"
   ]
  },
  {
   "cell_type": "markdown",
   "metadata": {},
   "source": [
    "Разделим данные на целевой столбец и матрицу признаков"
   ]
  },
  {
   "cell_type": "code",
   "execution_count": 8,
   "metadata": {},
   "outputs": [],
   "source": [
    "X = frame.copy()\n",
    "X = X.drop(columns=[\"is_ultra\"])\n",
    "y = frame[\"is_ultra\"]"
   ]
  },
  {
   "cell_type": "markdown",
   "metadata": {},
   "source": [
    "<div class=\"alert alert-warning\">\n",
    "<b> мне кажется вот так было бы правильнее, если ты все таки делаешь копию, чтобы избежать мутаций:</b>  \n",
    "\n",
    "X = frame.drop(columns=[\"is_ultra\"]).copy()\n",
    "\n",
    "y = frame[\"is_ultra\"].copy()\n",
    "\n",
    "вообще в пандас предпочтительно использовать цепочки методов, вот хорошая статья:\n",
    "\n",
    "\n",
    "[4 анти-паттерна pandas и способы борьбы с ними](https://habr.com/ru/companies/wunderfund/articles/682388/)\n",
    "\n",
    "</div>"
   ]
  },
  {
   "cell_type": "markdown",
   "metadata": {},
   "source": [
    "Так как у нас нет скрытой тестовой выборки - сделаем свою"
   ]
  },
  {
   "cell_type": "code",
   "execution_count": 9,
   "metadata": {},
   "outputs": [],
   "source": [
    "(X_train,\n",
    " X_test,\n",
    " y_train,\n",
    " y_test) = train_test_split(X,\n",
    "                            y,\n",
    "                            test_size = 0.33,\n",
    "                            random_state = RANDOM_SEED\n",
    "                                       )\n"
   ]
  },
  {
   "cell_type": "markdown",
   "metadata": {},
   "source": [
    "Проведем балансировку"
   ]
  },
  {
   "cell_type": "code",
   "execution_count": 15,
   "metadata": {},
   "outputs": [],
   "source": [
    "# На случай, если балансировка не применяется\n",
    "X_balanced = X_train\n",
    "y_balanced = y_train"
   ]
  },
  {
   "cell_type": "markdown",
   "metadata": {},
   "source": [
    "<div class=\"alert alert-warning\">\n",
    "<b> а вот тут было бы круто оставить признаки без балансировки, чтобы посмотреть как это влияет на качество модели:</b>  \n",
    "то есть обучать модель как на X_train, y_train, так и на X_balanced, y_balanced - это будут две совершенно разные обученные модели.\n",
    "</div>"
   ]
  },
  {
   "cell_type": "markdown",
   "metadata": {},
   "source": [
    "<div class=\"alert alert-warning\">\n",
    "<b> не забывай про мультиколлинеарность, избавление от мультиколлинеарных признаков может сильно повысить качество модели:</b>  \n",
    "</div>"
   ]
  },
  {
   "cell_type": "code",
   "execution_count": 11,
   "metadata": {},
   "outputs": [
    {
     "name": "stdout",
     "output_type": "stream",
     "text": [
      "Requirement already satisfied: seaborn in c:\\users\\igormitrofanov\\anaconda3\\lib\\site-packages (0.12.2)\n",
      "Requirement already satisfied: matplotlib!=3.6.1,>=3.1 in c:\\users\\igormitrofanov\\anaconda3\\lib\\site-packages (from seaborn) (3.7.0)\n",
      "Requirement already satisfied: pandas>=0.25 in c:\\users\\igormitrofanov\\anaconda3\\lib\\site-packages (from seaborn) (2.1.3)\n",
      "Requirement already satisfied: numpy!=1.24.0,>=1.17 in c:\\users\\igormitrofanov\\anaconda3\\lib\\site-packages (from seaborn) (1.26.2)\n",
      "Requirement already satisfied: fonttools>=4.22.0 in c:\\users\\igormitrofanov\\anaconda3\\lib\\site-packages (from matplotlib!=3.6.1,>=3.1->seaborn) (4.25.0)\n",
      "Requirement already satisfied: contourpy>=1.0.1 in c:\\users\\igormitrofanov\\anaconda3\\lib\\site-packages (from matplotlib!=3.6.1,>=3.1->seaborn) (1.0.5)\n",
      "Requirement already satisfied: kiwisolver>=1.0.1 in c:\\users\\igormitrofanov\\anaconda3\\lib\\site-packages (from matplotlib!=3.6.1,>=3.1->seaborn) (1.4.4)\n",
      "Requirement already satisfied: pillow>=6.2.0 in c:\\users\\igormitrofanov\\anaconda3\\lib\\site-packages (from matplotlib!=3.6.1,>=3.1->seaborn) (9.4.0)\n",
      "Requirement already satisfied: pyparsing>=2.3.1 in c:\\users\\igormitrofanov\\anaconda3\\lib\\site-packages (from matplotlib!=3.6.1,>=3.1->seaborn) (3.0.9)\n",
      "Requirement already satisfied: packaging>=20.0 in c:\\users\\igormitrofanov\\anaconda3\\lib\\site-packages (from matplotlib!=3.6.1,>=3.1->seaborn) (22.0)\n",
      "Requirement already satisfied: python-dateutil>=2.7 in c:\\users\\igormitrofanov\\anaconda3\\lib\\site-packages (from matplotlib!=3.6.1,>=3.1->seaborn) (2.8.2)\n",
      "Requirement already satisfied: cycler>=0.10 in c:\\users\\igormitrofanov\\anaconda3\\lib\\site-packages (from matplotlib!=3.6.1,>=3.1->seaborn) (0.11.0)\n",
      "Requirement already satisfied: tzdata>=2022.1 in c:\\users\\igormitrofanov\\anaconda3\\lib\\site-packages (from pandas>=0.25->seaborn) (2023.3)\n",
      "Requirement already satisfied: pytz>=2020.1 in c:\\users\\igormitrofanov\\anaconda3\\lib\\site-packages (from pandas>=0.25->seaborn) (2023.3.post1)\n",
      "Requirement already satisfied: six>=1.5 in c:\\users\\igormitrofanov\\anaconda3\\lib\\site-packages (from python-dateutil>=2.7->matplotlib!=3.6.1,>=3.1->seaborn) (1.16.0)\n",
      "Note: you may need to restart the kernel to use updated packages.\n"
     ]
    }
   ],
   "source": [
    "%pip install seaborn"
   ]
  },
  {
   "cell_type": "code",
   "execution_count": 16,
   "metadata": {},
   "outputs": [
    {
     "data": {
      "text/plain": [
       "<Axes: >"
      ]
     },
     "execution_count": 16,
     "metadata": {},
     "output_type": "execute_result"
    },
    {
     "data": {
      "image/png": "[encoded data removed]",
      "text/plain": [
       "<Figure size 640x480 with 2 Axes>"
      ]
     },
     "metadata": {},
     "output_type": "display_data"
    }
   ],
   "source": [
    "import seaborn as sns\n",
    "\n",
    "sns.heatmap(X_balanced.corr())"
   ]
  },
  {
   "cell_type": "markdown",
   "metadata": {},
   "source": [
    "<div class=\"alert alert-info\">\n",
    "<b> смотри, звонки и минуты сильно скореллированы. можно попробовать стратегии: </b>\n",
    "\n",
    "1. удалить или один, или другой. чтобы понять какой удалить можно либо в тупую попробовать, либо воспользоваться расчетом VIF, либо каким нибудь PCA.\n",
    "\n",
    "2. объединить признаки - это называется feature engineering. то есть по сути придумать формулу, объединяющую эти два признака в один\n",
    "\n",
    "\n",
    "полезные статьи по теме:\n",
    "\n",
    "https://stats.stackexchange.com/questions/361020/why-is-multicollinearity-so-bad-for-machine-learning-models-and-what-can-we-do-a\n",
    "https://habr.com/ru/companies/akbarsdigital/articles/592493/\n",
    "https://medium.com/analytics-vidhya/removing-multi-collinearity-for-linear-and-logistic-regression-f1fa744f3666\n",
    "https://towardsdatascience.com/how-to-remove-multicollinearity-in-dataset-using-pca-4b4561c28d0b\n",
    "https://machinelearningmastery.com/information-gain-and-mutual-information/\n",
    "\n",
    "\n",
    "</div>"
   ]
  },
  {
   "cell_type": "code",
   "execution_count": 17,
   "metadata": {},
   "outputs": [
    {
     "name": "stderr",
     "output_type": "stream",
     "text": [
      "c:\\Users\\IgorMitrofanov\\anaconda3\\lib\\site-packages\\sklearn\\utils\\validation.py:605: FutureWarning: is_sparse is deprecated and will be removed in a future version. Check `isinstance(dtype, pd.SparseDtype)` instead.\n",
      "  if is_sparse(pd_dtype):\n",
      "c:\\Users\\IgorMitrofanov\\anaconda3\\lib\\site-packages\\sklearn\\utils\\validation.py:614: FutureWarning: is_sparse is deprecated and will be removed in a future version. Check `isinstance(dtype, pd.SparseDtype)` instead.\n",
      "  if is_sparse(pd_dtype) or not is_extension_array_dtype(pd_dtype):\n",
      "c:\\Users\\IgorMitrofanov\\anaconda3\\lib\\site-packages\\sklearn\\utils\\validation.py:767: FutureWarning: is_sparse is deprecated and will be removed in a future version. Check `isinstance(dtype, pd.SparseDtype)` instead.\n",
      "  if not hasattr(array, \"sparse\") and array.dtypes.apply(is_sparse).any():\n",
      "c:\\Users\\IgorMitrofanov\\anaconda3\\lib\\site-packages\\sklearn\\utils\\validation.py:605: FutureWarning: is_sparse is deprecated and will be removed in a future version. Check `isinstance(dtype, pd.SparseDtype)` instead.\n",
      "  if is_sparse(pd_dtype):\n",
      "c:\\Users\\IgorMitrofanov\\anaconda3\\lib\\site-packages\\sklearn\\utils\\validation.py:614: FutureWarning: is_sparse is deprecated and will be removed in a future version. Check `isinstance(dtype, pd.SparseDtype)` instead.\n",
      "  if is_sparse(pd_dtype) or not is_extension_array_dtype(pd_dtype):\n"
     ]
    }
   ],
   "source": [
    "over = RandomOverSampler(sampling_strategy=1)\n",
    "X_balanced, y_balanced = over.fit_resample(X_train, y_train)\n",
    "# under = RandomUnderSampler(sampling_strategy=0.7)\n",
    "# X, y = under.fit_resample(X, y)"
   ]
  },
  {
   "cell_type": "markdown",
   "metadata": {},
   "source": [
    "<div class=\"alert alert-info\">\n",
    "<b> прикольно. когда я делал работу пару лет назад, насколько я помню таких штук еще не было. приходилось оверсамплить в ручную) </b>\n",
    "</div>"
   ]
  },
  {
   "cell_type": "markdown",
   "metadata": {},
   "source": [
    "Проведем иследование сформированной выборки"
   ]
  },
  {
   "cell_type": "code",
   "execution_count": 67,
   "metadata": {},
   "outputs": [
    {
     "data": {
      "text/html": [
       "<div>\n",
       "<style scoped>\n",
       "    .dataframe tbody tr th:only-of-type {\n",
       "        vertical-align: middle;\n",
       "    }\n",
       "\n",
       "    .dataframe tbody tr th {\n",
       "        vertical-align: top;\n",
       "    }\n",
       "\n",
       "    .dataframe thead th {\n",
       "        text-align: right;\n",
       "    }\n",
       "</style>\n",
       "<table border=\"1\" class=\"dataframe\">\n",
       "  <thead>\n",
       "    <tr style=\"text-align: right;\">\n",
       "      <th></th>\n",
       "      <th>calls</th>\n",
       "      <th>minutes</th>\n",
       "      <th>messages</th>\n",
       "      <th>mb_used</th>\n",
       "      <th>is_ultra</th>\n",
       "    </tr>\n",
       "  </thead>\n",
       "  <tbody>\n",
       "    <tr>\n",
       "      <th>count</th>\n",
       "      <td>3004.000000</td>\n",
       "      <td>3004.000000</td>\n",
       "      <td>3004.000000</td>\n",
       "      <td>3004.000000</td>\n",
       "      <td>3004.000000</td>\n",
       "    </tr>\n",
       "    <tr>\n",
       "      <th>mean</th>\n",
       "      <td>66.097204</td>\n",
       "      <td>459.955496</td>\n",
       "      <td>42.131824</td>\n",
       "      <td>17739.559790</td>\n",
       "      <td>0.500000</td>\n",
       "    </tr>\n",
       "    <tr>\n",
       "      <th>std</th>\n",
       "      <td>36.696756</td>\n",
       "      <td>259.014059</td>\n",
       "      <td>41.329769</td>\n",
       "      <td>8228.154397</td>\n",
       "      <td>0.500083</td>\n",
       "    </tr>\n",
       "    <tr>\n",
       "      <th>min</th>\n",
       "      <td>0.000000</td>\n",
       "      <td>0.000000</td>\n",
       "      <td>0.000000</td>\n",
       "      <td>0.000000</td>\n",
       "      <td>0.000000</td>\n",
       "    </tr>\n",
       "    <tr>\n",
       "      <th>25%</th>\n",
       "      <td>41.000000</td>\n",
       "      <td>278.750000</td>\n",
       "      <td>8.000000</td>\n",
       "      <td>12323.802500</td>\n",
       "      <td>0.000000</td>\n",
       "    </tr>\n",
       "    <tr>\n",
       "      <th>50%</th>\n",
       "      <td>65.000000</td>\n",
       "      <td>445.030000</td>\n",
       "      <td>31.000000</td>\n",
       "      <td>17286.235000</td>\n",
       "      <td>0.500000</td>\n",
       "    </tr>\n",
       "    <tr>\n",
       "      <th>75%</th>\n",
       "      <td>87.000000</td>\n",
       "      <td>612.192500</td>\n",
       "      <td>63.000000</td>\n",
       "      <td>22345.097500</td>\n",
       "      <td>1.000000</td>\n",
       "    </tr>\n",
       "    <tr>\n",
       "      <th>max</th>\n",
       "      <td>203.000000</td>\n",
       "      <td>1566.450000</td>\n",
       "      <td>224.000000</td>\n",
       "      <td>49745.730000</td>\n",
       "      <td>1.000000</td>\n",
       "    </tr>\n",
       "  </tbody>\n",
       "</table>\n",
       "</div>"
      ],
      "text/plain": [
       "             calls      minutes     messages       mb_used     is_ultra\n",
       "count  3004.000000  3004.000000  3004.000000   3004.000000  3004.000000\n",
       "mean     66.097204   459.955496    42.131824  17739.559790     0.500000\n",
       "std      36.696756   259.014059    41.329769   8228.154397     0.500083\n",
       "min       0.000000     0.000000     0.000000      0.000000     0.000000\n",
       "25%      41.000000   278.750000     8.000000  12323.802500     0.000000\n",
       "50%      65.000000   445.030000    31.000000  17286.235000     0.500000\n",
       "75%      87.000000   612.192500    63.000000  22345.097500     1.000000\n",
       "max     203.000000  1566.450000   224.000000  49745.730000     1.000000"
      ]
     },
     "execution_count": 67,
     "metadata": {},
     "output_type": "execute_result"
    }
   ],
   "source": [
    "describe(X_balanced, y_balanced)"
   ]
  },
  {
   "cell_type": "markdown",
   "metadata": {},
   "source": [
    "Сравним с обучающей выборкой"
   ]
  },
  {
   "cell_type": "code",
   "execution_count": 68,
   "metadata": {},
   "outputs": [
    {
     "data": {
      "text/html": [
       "<div>\n",
       "<style scoped>\n",
       "    .dataframe tbody tr th:only-of-type {\n",
       "        vertical-align: middle;\n",
       "    }\n",
       "\n",
       "    .dataframe tbody tr th {\n",
       "        vertical-align: top;\n",
       "    }\n",
       "\n",
       "    .dataframe thead th {\n",
       "        text-align: right;\n",
       "    }\n",
       "</style>\n",
       "<table border=\"1\" class=\"dataframe\">\n",
       "  <thead>\n",
       "    <tr style=\"text-align: right;\">\n",
       "      <th></th>\n",
       "      <th>calls</th>\n",
       "      <th>minutes</th>\n",
       "      <th>messages</th>\n",
       "      <th>mb_used</th>\n",
       "      <th>is_ultra</th>\n",
       "    </tr>\n",
       "  </thead>\n",
       "  <tbody>\n",
       "    <tr>\n",
       "      <th>count</th>\n",
       "      <td>2153.000000</td>\n",
       "      <td>2153.000000</td>\n",
       "      <td>2153.000000</td>\n",
       "      <td>2153.000000</td>\n",
       "      <td>2153.000000</td>\n",
       "    </tr>\n",
       "    <tr>\n",
       "      <th>mean</th>\n",
       "      <td>63.569438</td>\n",
       "      <td>441.917255</td>\n",
       "      <td>38.439387</td>\n",
       "      <td>17088.302411</td>\n",
       "      <td>0.302369</td>\n",
       "    </tr>\n",
       "    <tr>\n",
       "      <th>std</th>\n",
       "      <td>33.207525</td>\n",
       "      <td>234.717055</td>\n",
       "      <td>36.468135</td>\n",
       "      <td>7426.242514</td>\n",
       "      <td>0.459391</td>\n",
       "    </tr>\n",
       "    <tr>\n",
       "      <th>min</th>\n",
       "      <td>0.000000</td>\n",
       "      <td>0.000000</td>\n",
       "      <td>0.000000</td>\n",
       "      <td>0.000000</td>\n",
       "      <td>0.000000</td>\n",
       "    </tr>\n",
       "    <tr>\n",
       "      <th>25%</th>\n",
       "      <td>41.000000</td>\n",
       "      <td>279.060000</td>\n",
       "      <td>9.000000</td>\n",
       "      <td>12388.400000</td>\n",
       "      <td>0.000000</td>\n",
       "    </tr>\n",
       "    <tr>\n",
       "      <th>50%</th>\n",
       "      <td>63.000000</td>\n",
       "      <td>432.750000</td>\n",
       "      <td>30.000000</td>\n",
       "      <td>16835.990000</td>\n",
       "      <td>0.000000</td>\n",
       "    </tr>\n",
       "    <tr>\n",
       "      <th>75%</th>\n",
       "      <td>83.000000</td>\n",
       "      <td>578.570000</td>\n",
       "      <td>57.000000</td>\n",
       "      <td>21289.280000</td>\n",
       "      <td>1.000000</td>\n",
       "    </tr>\n",
       "    <tr>\n",
       "      <th>max</th>\n",
       "      <td>203.000000</td>\n",
       "      <td>1566.450000</td>\n",
       "      <td>224.000000</td>\n",
       "      <td>49745.730000</td>\n",
       "      <td>1.000000</td>\n",
       "    </tr>\n",
       "  </tbody>\n",
       "</table>\n",
       "</div>"
      ],
      "text/plain": [
       "             calls      minutes     messages       mb_used     is_ultra\n",
       "count  2153.000000  2153.000000  2153.000000   2153.000000  2153.000000\n",
       "mean     63.569438   441.917255    38.439387  17088.302411     0.302369\n",
       "std      33.207525   234.717055    36.468135   7426.242514     0.459391\n",
       "min       0.000000     0.000000     0.000000      0.000000     0.000000\n",
       "25%      41.000000   279.060000     9.000000  12388.400000     0.000000\n",
       "50%      63.000000   432.750000    30.000000  16835.990000     0.000000\n",
       "75%      83.000000   578.570000    57.000000  21289.280000     1.000000\n",
       "max     203.000000  1566.450000   224.000000  49745.730000     1.000000"
      ]
     },
     "execution_count": 68,
     "metadata": {},
     "output_type": "execute_result"
    }
   ],
   "source": [
    "describe(X_train, y_train)"
   ]
  },
  {
   "cell_type": "markdown",
   "metadata": {},
   "source": [
    "Теперь разделим тестовую выборку на тестовую и валидационную"
   ]
  },
  {
   "cell_type": "code",
   "execution_count": 19,
   "metadata": {},
   "outputs": [],
   "source": [
    "(X_valid,\n",
    " X_test,\n",
    " y_valid,\n",
    " y_test) = train_test_split(X_test,\n",
    "                            y_test,\n",
    "                            test_size = 0.5,\n",
    "                            random_state = RANDOM_SEED\n",
    "                                       )"
   ]
  },
  {
   "cell_type": "markdown",
   "metadata": {},
   "source": [
    "<div class=\"alert alert-info\">\n",
    "давай я ради эксперимента создам новые фичи, где удалю `calls`"
   ]
  },
  {
   "cell_type": "code",
   "execution_count": 20,
   "metadata": {},
   "outputs": [],
   "source": [
    "X_balanced_mod = X_balanced.drop('calls', axis=1)\n",
    "X_valid_mod = X_valid.drop('calls', axis=1)\n",
    "X_test_mod = X_test.drop('calls', axis=1)"
   ]
  },
  {
   "cell_type": "markdown",
   "metadata": {},
   "source": [
    "#  Исследуем модели"
   ]
  },
  {
   "cell_type": "markdown",
   "metadata": {},
   "source": [
    "## Random Forest"
   ]
  },
  {
   "cell_type": "markdown",
   "metadata": {},
   "source": [
    "Поиск лучшего классификатора по точности предсказания и по матрице ошибок"
   ]
  },
  {
   "cell_type": "markdown",
   "metadata": {},
   "source": [
    "<div class=\"alert alert-info\">\n",
    "в ML постоянно могут мешать надоедливые warnings, это можно отключить так:"
   ]
  },
  {
   "cell_type": "code",
   "execution_count": 22,
   "metadata": {},
   "outputs": [],
   "source": [
    "import warnings\n",
    "warnings.filterwarnings('ignore')"
   ]
  },
  {
   "cell_type": "code",
   "execution_count": 23,
   "metadata": {},
   "outputs": [
    {
     "name": "stderr",
     "output_type": "stream",
     "text": [
      "100%|██████████| 32/32 [00:10<00:00,  3.03it/s]"
     ]
    },
    {
     "name": "stdout",
     "output_type": "stream",
     "text": [
      "RandomForestClassifier(max_depth=9, n_estimators=31, random_state=42) RandomForestClassifier(max_depth=4, n_estimators=1, random_state=42)\n"
     ]
    },
    {
     "name": "stderr",
     "output_type": "stream",
     "text": [
      "\n"
     ]
    }
   ],
   "source": [
    "best_RF = None\n",
    "best_accuracy_RF = 0\n",
    "best_est_RF = 0\n",
    "best_depth_RF = 0\n",
    "exit = False\n",
    "est = 5\n",
    "TARGET = (0, 0) # Ищем то, что приведет к меньшему числу ложных рекомендаций Смарт. Этот параметр в матрице должен быть минимальных среди моделей\n",
    "min_target = len(X_valid)\n",
    "parameters = []\n",
    "for est in tqdm(range(1,33)):\n",
    "    for depth in range(2, 10):\n",
    "        RF = RandomForestClassifier(random_state = RANDOM_SEED,n_estimators = est, max_depth = depth)\n",
    "        RF.fit(X_balanced, y_balanced)\n",
    "        prediction_valid_RF = RF.predict(X_valid)\n",
    "        cm = confusion_matrix(prediction_valid_RF, y_valid)\n",
    "        accuracy_RF = accuracy_score(prediction_valid_RF, y_valid)\n",
    "        if cm[TARGET[0]][TARGET[1]] < min_target:\n",
    "            min_target = cm[TARGET[0]][TARGET[1]]\n",
    "            best_RF_on_cm = RF\n",
    "            best_accuracy_RF_on_cm = accuracy_RF\n",
    "        \n",
    "        parameters.append((est, depth, accuracy_RF))\n",
    "        if best_accuracy_RF < accuracy_RF:\n",
    "            best_RF = RF\n",
    "            best_depth_RF = depth\n",
    "            best_est_RF = est\n",
    "            best_accuracy_RF = accuracy_RF\n",
    "print(best_RF, best_RF_on_cm)\n",
    "            "
   ]
  },
  {
   "cell_type": "markdown",
   "metadata": {},
   "source": [
    "<div class=\"alert alert-info\">\n",
    "ниже показываю пример как сделать поиск по сетке с 5-кратной кросс-валидацией. это значит что валидационная выборка выбирается случайно 5 раз в трейн данных:"
   ]
  },
  {
   "cell_type": "code",
   "execution_count": 34,
   "metadata": {},
   "outputs": [],
   "source": [
    "# для этого мне не понадобится заранее выделенная валидационная выборка:\n",
    "X_balanced_mod_wo_valid = pd.concat([X_balanced_mod, X_valid_mod])\n",
    "y_balanced_mod_wo_valid = pd.concat([y_balanced, y_valid])"
   ]
  },
  {
   "cell_type": "code",
   "execution_count": 35,
   "metadata": {},
   "outputs": [
    {
     "name": "stdout",
     "output_type": "stream",
     "text": [
      "Fitting 5 folds for each of 256 candidates, totalling 1280 fits\n",
      "Parameters: {'max_depth': 2, 'n_estimators': 1}, Mean accuracy: 0.6573219644910667, Std: 0.0172\n",
      "Parameters: {'max_depth': 2, 'n_estimators': 2}, Mean accuracy: 0.7150490241253991, Std: 0.0119\n",
      "Parameters: {'max_depth': 2, 'n_estimators': 3}, Mean accuracy: 0.7198608812722631, Std: 0.0123\n",
      "Parameters: {'max_depth': 2, 'n_estimators': 4}, Mean accuracy: 0.7071294341089309, Std: 0.018\n",
      "Parameters: {'max_depth': 2, 'n_estimators': 5}, Mean accuracy: 0.6958064037889018, Std: 0.0159\n",
      "Parameters: {'max_depth': 2, 'n_estimators': 6}, Mean accuracy: 0.6822238962058893, Std: 0.0175\n",
      "Parameters: {'max_depth': 2, 'n_estimators': 7}, Mean accuracy: 0.6791177660866047, Std: 0.0044\n",
      "Parameters: {'max_depth': 2, 'n_estimators': 8}, Mean accuracy: 0.7062795757519904, Std: 0.0139\n",
      "Parameters: {'max_depth': 2, 'n_estimators': 9}, Mean accuracy: 0.6912806375740771, Std: 0.0155\n",
      "Parameters: {'max_depth': 2, 'n_estimators': 10}, Mean accuracy: 0.714485657388078, Std: 0.0142\n",
      "Parameters: {'max_depth': 2, 'n_estimators': 11}, Mean accuracy: 0.7136349976559776, Std: 0.015\n",
      "Parameters: {'max_depth': 2, 'n_estimators': 12}, Mean accuracy: 0.7116547996361756, Std: 0.0136\n",
      "Parameters: {'max_depth': 2, 'n_estimators': 13}, Mean accuracy: 0.7108073454047145, Std: 0.0136\n",
      "Parameters: {'max_depth': 2, 'n_estimators': 14}, Mean accuracy: 0.7127871427369366, Std: 0.0121\n",
      "Parameters: {'max_depth': 2, 'n_estimators': 15}, Mean accuracy: 0.7125038566179563, Std: 0.0118\n",
      "Parameters: {'max_depth': 2, 'n_estimators': 16}, Mean accuracy: 0.7127871427369366, Std: 0.0121\n",
      "Parameters: {'max_depth': 2, 'n_estimators': 17}, Mean accuracy: 0.7136366004062973, Std: 0.0126\n",
      "Parameters: {'max_depth': 2, 'n_estimators': 18}, Mean accuracy: 0.7144848560129182, Std: 0.0123\n",
      "Parameters: {'max_depth': 2, 'n_estimators': 19}, Mean accuracy: 0.7139190851501176, Std: 0.012\n",
      "Parameters: {'max_depth': 2, 'n_estimators': 20}, Mean accuracy: 0.7139190851501176, Std: 0.0127\n",
      "Parameters: {'max_depth': 2, 'n_estimators': 21}, Mean accuracy: 0.7142023712690978, Std: 0.0118\n",
      "Parameters: {'max_depth': 2, 'n_estimators': 22}, Mean accuracy: 0.7127875434245164, Std: 0.0111\n",
      "Parameters: {'max_depth': 2, 'n_estimators': 23}, Mean accuracy: 0.7130704288559168, Std: 0.0112\n",
      "Parameters: {'max_depth': 2, 'n_estimators': 24}, Mean accuracy: 0.7142019705815179, Std: 0.0128\n",
      "Parameters: {'max_depth': 2, 'n_estimators': 25}, Mean accuracy: 0.7142023712690978, Std: 0.0123\n",
      "Parameters: {'max_depth': 2, 'n_estimators': 26}, Mean accuracy: 0.7136361997187174, Std: 0.0117\n",
      "Parameters: {'max_depth': 2, 'n_estimators': 27}, Mean accuracy: 0.7142019705815179, Std: 0.0123\n",
      "Parameters: {'max_depth': 2, 'n_estimators': 28}, Mean accuracy: 0.7139190851501176, Std: 0.0122\n",
      "Parameters: {'max_depth': 2, 'n_estimators': 29}, Mean accuracy: 0.7139190851501176, Std: 0.0128\n",
      "Parameters: {'max_depth': 2, 'n_estimators': 30}, Mean accuracy: 0.7139190851501176, Std: 0.0128\n",
      "Parameters: {'max_depth': 2, 'n_estimators': 31}, Mean accuracy: 0.7130700281683369, Std: 0.0124\n",
      "Parameters: {'max_depth': 2, 'n_estimators': 32}, Mean accuracy: 0.7133529135997371, Std: 0.0134\n",
      "Parameters: {'max_depth': 3, 'n_estimators': 1}, Mean accuracy: 0.7164642526575604, Std: 0.0113\n",
      "Parameters: {'max_depth': 3, 'n_estimators': 2}, Mean accuracy: 0.7142011692063581, Std: 0.0112\n",
      "Parameters: {'max_depth': 3, 'n_estimators': 3}, Mean accuracy: 0.7150514282508785, Std: 0.0068\n",
      "Parameters: {'max_depth': 3, 'n_estimators': 4}, Mean accuracy: 0.7161829699764797, Std: 0.0073\n",
      "Parameters: {'max_depth': 3, 'n_estimators': 5}, Mean accuracy: 0.7226901362738459, Std: 0.0082\n",
      "Parameters: {'max_depth': 3, 'n_estimators': 6}, Mean accuracy: 0.7232579105745459, Std: 0.0061\n",
      "Parameters: {'max_depth': 3, 'n_estimators': 7}, Mean accuracy: 0.7170308248955207, Std: 0.0106\n",
      "Parameters: {'max_depth': 3, 'n_estimators': 8}, Mean accuracy: 0.7175965957583212, Std: 0.0097\n",
      "Parameters: {'max_depth': 3, 'n_estimators': 9}, Mean accuracy: 0.7170316262706805, Std: 0.0116\n",
      "Parameters: {'max_depth': 3, 'n_estimators': 10}, Mean accuracy: 0.7158996838574995, Std: 0.0114\n",
      "Parameters: {'max_depth': 3, 'n_estimators': 11}, Mean accuracy: 0.7150510275632986, Std: 0.0079\n",
      "Parameters: {'max_depth': 3, 'n_estimators': 12}, Mean accuracy: 0.715333912994699, Std: 0.0086\n",
      "Parameters: {'max_depth': 3, 'n_estimators': 13}, Mean accuracy: 0.713353714974897, Std: 0.0091\n",
      "Parameters: {'max_depth': 3, 'n_estimators': 14}, Mean accuracy: 0.715617199113679, Std: 0.0103\n",
      "Parameters: {'max_depth': 3, 'n_estimators': 15}, Mean accuracy: 0.7153343136822787, Std: 0.0103\n",
      "Parameters: {'max_depth': 3, 'n_estimators': 16}, Mean accuracy: 0.7150510275632986, Std: 0.0117\n",
      "Parameters: {'max_depth': 3, 'n_estimators': 17}, Mean accuracy: 0.7147685428194782, Std: 0.0073\n",
      "Parameters: {'max_depth': 3, 'n_estimators': 18}, Mean accuracy: 0.7153347143698586, Std: 0.0082\n",
      "Parameters: {'max_depth': 3, 'n_estimators': 19}, Mean accuracy: 0.7153343136822787, Std: 0.008\n",
      "Parameters: {'max_depth': 3, 'n_estimators': 20}, Mean accuracy: 0.715617199113679, Std: 0.0094\n",
      "Parameters: {'max_depth': 3, 'n_estimators': 21}, Mean accuracy: 0.7167491415268601, Std: 0.0104\n",
      "Parameters: {'max_depth': 3, 'n_estimators': 22}, Mean accuracy: 0.7156175998012588, Std: 0.009\n",
      "Parameters: {'max_depth': 3, 'n_estimators': 23}, Mean accuracy: 0.7175977978210608, Std: 0.011\n",
      "Parameters: {'max_depth': 3, 'n_estimators': 24}, Mean accuracy: 0.7173149123896606, Std: 0.0116\n",
      "Parameters: {'max_depth': 3, 'n_estimators': 25}, Mean accuracy: 0.7175977978210608, Std: 0.0104\n",
      "Parameters: {'max_depth': 3, 'n_estimators': 26}, Mean accuracy: 0.7178802825648815, Std: 0.0111\n",
      "Parameters: {'max_depth': 3, 'n_estimators': 27}, Mean accuracy: 0.7173141110145009, Std: 0.0113\n",
      "Parameters: {'max_depth': 3, 'n_estimators': 28}, Mean accuracy: 0.7173141110145009, Std: 0.0113\n",
      "Parameters: {'max_depth': 3, 'n_estimators': 29}, Mean accuracy: 0.7178802825648815, Std: 0.0107\n",
      "Parameters: {'max_depth': 3, 'n_estimators': 30}, Mean accuracy: 0.717597397133481, Std: 0.0107\n",
      "Parameters: {'max_depth': 3, 'n_estimators': 31}, Mean accuracy: 0.7178798818773016, Std: 0.0107\n",
      "Parameters: {'max_depth': 3, 'n_estimators': 32}, Mean accuracy: 0.7173141110145009, Std: 0.0103\n",
      "Parameters: {'max_depth': 4, 'n_estimators': 1}, Mean accuracy: 0.712224978062355, Std: 0.0165\n",
      "Parameters: {'max_depth': 4, 'n_estimators': 2}, Mean accuracy: 0.7175994005713804, Std: 0.0146\n",
      "Parameters: {'max_depth': 4, 'n_estimators': 3}, Mean accuracy: 0.7269350204951698, Std: 0.0082\n",
      "Parameters: {'max_depth': 4, 'n_estimators': 4}, Mean accuracy: 0.7300475616157326, Std: 0.0107\n",
      "Parameters: {'max_depth': 4, 'n_estimators': 5}, Mean accuracy: 0.7283510504024907, Std: 0.0073\n",
      "Parameters: {'max_depth': 4, 'n_estimators': 6}, Mean accuracy: 0.728917622640451, Std: 0.0066\n",
      "Parameters: {'max_depth': 4, 'n_estimators': 7}, Mean accuracy: 0.7325951332486547, Std: 0.0054\n",
      "Parameters: {'max_depth': 4, 'n_estimators': 8}, Mean accuracy: 0.7263692496323693, Std: 0.0078\n",
      "Parameters: {'max_depth': 4, 'n_estimators': 9}, Mean accuracy: 0.7249560245381075, Std: 0.0058\n",
      "Parameters: {'max_depth': 4, 'n_estimators': 10}, Mean accuracy: 0.7283506497149108, Std: 0.0071\n",
      "Parameters: {'max_depth': 4, 'n_estimators': 11}, Mean accuracy: 0.7308962179099334, Std: 0.0096\n",
      "Parameters: {'max_depth': 4, 'n_estimators': 12}, Mean accuracy: 0.7280669629083507, Std: 0.0076\n",
      "Parameters: {'max_depth': 4, 'n_estimators': 13}, Mean accuracy: 0.7275007913579703, Std: 0.0116\n",
      "Parameters: {'max_depth': 4, 'n_estimators': 14}, Mean accuracy: 0.7297638748091725, Std: 0.0154\n",
      "Parameters: {'max_depth': 4, 'n_estimators': 15}, Mean accuracy: 0.7286331344587312, Std: 0.0115\n",
      "Parameters: {'max_depth': 4, 'n_estimators': 16}, Mean accuracy: 0.7258042801447283, Std: 0.0112\n",
      "Parameters: {'max_depth': 4, 'n_estimators': 17}, Mean accuracy: 0.7235411966935261, Std: 0.0106\n",
      "Parameters: {'max_depth': 4, 'n_estimators': 18}, Mean accuracy: 0.7232583112621258, Std: 0.0083\n",
      "Parameters: {'max_depth': 4, 'n_estimators': 19}, Mean accuracy: 0.7243902536753068, Std: 0.0091\n",
      "Parameters: {'max_depth': 4, 'n_estimators': 20}, Mean accuracy: 0.7266529364389293, Std: 0.0098\n",
      "Parameters: {'max_depth': 4, 'n_estimators': 21}, Mean accuracy: 0.7275003906703903, Std: 0.0111\n",
      "Parameters: {'max_depth': 4, 'n_estimators': 22}, Mean accuracy: 0.7283502490273308, Std: 0.0102\n",
      "Parameters: {'max_depth': 4, 'n_estimators': 23}, Mean accuracy: 0.7283506497149108, Std: 0.0101\n",
      "Parameters: {'max_depth': 4, 'n_estimators': 24}, Mean accuracy: 0.7280669629083507, Std: 0.0116\n",
      "Parameters: {'max_depth': 4, 'n_estimators': 25}, Mean accuracy: 0.7280673635959307, Std: 0.0101\n",
      "Parameters: {'max_depth': 4, 'n_estimators': 26}, Mean accuracy: 0.7283494476521712, Std: 0.0112\n",
      "Parameters: {'max_depth': 4, 'n_estimators': 27}, Mean accuracy: 0.7277840774769504, Std: 0.0106\n",
      "Parameters: {'max_depth': 4, 'n_estimators': 28}, Mean accuracy: 0.7260863642009688, Std: 0.01\n",
      "Parameters: {'max_depth': 4, 'n_estimators': 29}, Mean accuracy: 0.7272187073017298, Std: 0.0093\n",
      "Parameters: {'max_depth': 4, 'n_estimators': 30}, Mean accuracy: 0.7277844781645303, Std: 0.0086\n",
      "Parameters: {'max_depth': 4, 'n_estimators': 31}, Mean accuracy: 0.7269350204951698, Std: 0.0094\n",
      "Parameters: {'max_depth': 4, 'n_estimators': 32}, Mean accuracy: 0.7269358218703295, Std: 0.0097\n",
      "Parameters: {'max_depth': 5, 'n_estimators': 1}, Mean accuracy: 0.7241025599929478, Std: 0.0158\n",
      "Parameters: {'max_depth': 5, 'n_estimators': 2}, Mean accuracy: 0.7226905369614258, Std: 0.0126\n",
      "Parameters: {'max_depth': 5, 'n_estimators': 3}, Mean accuracy: 0.7274983872324909, Std: 0.0161\n",
      "Parameters: {'max_depth': 5, 'n_estimators': 4}, Mean accuracy: 0.7388142051760822, Std: 0.0246\n",
      "Parameters: {'max_depth': 5, 'n_estimators': 5}, Mean accuracy: 0.7331556951729168, Std: 0.0184\n",
      "Parameters: {'max_depth': 5, 'n_estimators': 6}, Mean accuracy: 0.7345717250802377, Std: 0.016\n",
      "Parameters: {'max_depth': 5, 'n_estimators': 7}, Mean accuracy: 0.7320249548224754, Std: 0.0171\n",
      "Parameters: {'max_depth': 5, 'n_estimators': 8}, Mean accuracy: 0.7342880382736776, Std: 0.0167\n",
      "Parameters: {'max_depth': 5, 'n_estimators': 9}, Mean accuracy: 0.7320253555100552, Std: 0.0146\n",
      "Parameters: {'max_depth': 5, 'n_estimators': 10}, Mean accuracy: 0.7354211827495982, Std: 0.0158\n",
      "Parameters: {'max_depth': 5, 'n_estimators': 11}, Mean accuracy: 0.7407980093841031, Std: 0.019\n",
      "Parameters: {'max_depth': 5, 'n_estimators': 12}, Mean accuracy: 0.7359873542999787, Std: 0.0152\n",
      "Parameters: {'max_depth': 5, 'n_estimators': 13}, Mean accuracy: 0.7424965240352445, Std: 0.0157\n",
      "Parameters: {'max_depth': 5, 'n_estimators': 14}, Mean accuracy: 0.7396652655957623, Std: 0.0165\n",
      "Parameters: {'max_depth': 5, 'n_estimators': 15}, Mean accuracy: 0.7439113518798257, Std: 0.0159\n",
      "Parameters: {'max_depth': 5, 'n_estimators': 16}, Mean accuracy: 0.7407996121344227, Std: 0.0117\n",
      "Parameters: {'max_depth': 5, 'n_estimators': 17}, Mean accuracy: 0.740518329453342, Std: 0.0094\n",
      "Parameters: {'max_depth': 5, 'n_estimators': 18}, Mean accuracy: 0.7408008141971623, Std: 0.0128\n",
      "Parameters: {'max_depth': 5, 'n_estimators': 19}, Mean accuracy: 0.7410836996285626, Std: 0.0136\n",
      "Parameters: {'max_depth': 5, 'n_estimators': 20}, Mean accuracy: 0.742781412904544, Std: 0.0135\n",
      "Parameters: {'max_depth': 5, 'n_estimators': 21}, Mean accuracy: 0.7419335579855032, Std: 0.0124\n",
      "Parameters: {'max_depth': 5, 'n_estimators': 22}, Mean accuracy: 0.7419315545476037, Std: 0.0137\n",
      "Parameters: {'max_depth': 5, 'n_estimators': 23}, Mean accuracy: 0.7436300691987451, Std: 0.0127\n",
      "Parameters: {'max_depth': 5, 'n_estimators': 24}, Mean accuracy: 0.7405191308285017, Std: 0.0097\n",
      "Parameters: {'max_depth': 5, 'n_estimators': 25}, Mean accuracy: 0.740801615572322, Std: 0.0117\n",
      "Parameters: {'max_depth': 5, 'n_estimators': 26}, Mean accuracy: 0.7433475844549247, Std: 0.0138\n",
      "Parameters: {'max_depth': 5, 'n_estimators': 27}, Mean accuracy: 0.7422168441044834, Std: 0.0102\n",
      "Parameters: {'max_depth': 5, 'n_estimators': 28}, Mean accuracy: 0.7413677871227026, Std: 0.0117\n",
      "Parameters: {'max_depth': 5, 'n_estimators': 29}, Mean accuracy: 0.7402362453971014, Std: 0.0103\n",
      "Parameters: {'max_depth': 5, 'n_estimators': 30}, Mean accuracy: 0.7396704745343009, Std: 0.0084\n",
      "Parameters: {'max_depth': 5, 'n_estimators': 31}, Mean accuracy: 0.740801615572322, Std: 0.0103\n",
      "Parameters: {'max_depth': 5, 'n_estimators': 32}, Mean accuracy: 0.739670073846721, Std: 0.0087\n",
      "Parameters: {'max_depth': 6, 'n_estimators': 1}, Mean accuracy: 0.7331589006735558, Std: 0.0178\n",
      "Parameters: {'max_depth': 6, 'n_estimators': 2}, Mean accuracy: 0.728917622640451, Std: 0.0085\n",
      "Parameters: {'max_depth': 6, 'n_estimators': 3}, Mean accuracy: 0.7458911492120478, Std: 0.0121\n",
      "Parameters: {'max_depth': 6, 'n_estimators': 4}, Mean accuracy: 0.747306377744209, Std: 0.0106\n",
      "Parameters: {'max_depth': 6, 'n_estimators': 5}, Mean accuracy: 0.7441946379988059, Std: 0.0094\n",
      "Parameters: {'max_depth': 6, 'n_estimators': 6}, Mean accuracy: 0.7509874945406317, Std: 0.0091\n",
      "Parameters: {'max_depth': 6, 'n_estimators': 7}, Mean accuracy: 0.7552299746364761, Std: 0.0115\n",
      "Parameters: {'max_depth': 6, 'n_estimators': 8}, Mean accuracy: 0.7583421150694591, Std: 0.0126\n",
      "Parameters: {'max_depth': 6, 'n_estimators': 9}, Mean accuracy: 0.754947089205076, Std: 0.011\n",
      "Parameters: {'max_depth': 6, 'n_estimators': 10}, Mean accuracy: 0.755230375324056, Std: 0.0096\n",
      "Parameters: {'max_depth': 6, 'n_estimators': 11}, Mean accuracy: 0.7535318606729147, Std: 0.0107\n",
      "Parameters: {'max_depth': 6, 'n_estimators': 12}, Mean accuracy: 0.7552311766992159, Std: 0.0092\n",
      "Parameters: {'max_depth': 6, 'n_estimators': 13}, Mean accuracy: 0.7543821197174351, Std: 0.0096\n",
      "Parameters: {'max_depth': 6, 'n_estimators': 14}, Mean accuracy: 0.756362718424817, Std: 0.0096\n",
      "Parameters: {'max_depth': 6, 'n_estimators': 15}, Mean accuracy: 0.7569280886000376, Std: 0.011\n",
      "Parameters: {'max_depth': 6, 'n_estimators': 16}, Mean accuracy: 0.7594756602329596, Std: 0.0117\n",
      "Parameters: {'max_depth': 6, 'n_estimators': 17}, Mean accuracy: 0.7583441185073587, Std: 0.0111\n",
      "Parameters: {'max_depth': 6, 'n_estimators': 18}, Mean accuracy: 0.7591915727388198, Std: 0.015\n",
      "Parameters: {'max_depth': 6, 'n_estimators': 19}, Mean accuracy: 0.7620216291155624, Std: 0.0139\n",
      "Parameters: {'max_depth': 6, 'n_estimators': 20}, Mean accuracy: 0.7577767448942384, Std: 0.0142\n",
      "Parameters: {'max_depth': 6, 'n_estimators': 21}, Mean accuracy: 0.7572117754065977, Std: 0.0117\n",
      "Parameters: {'max_depth': 6, 'n_estimators': 22}, Mean accuracy: 0.758626603251179, Std: 0.0128\n",
      "Parameters: {'max_depth': 6, 'n_estimators': 23}, Mean accuracy: 0.7572117754065977, Std: 0.0111\n",
      "Parameters: {'max_depth': 6, 'n_estimators': 24}, Mean accuracy: 0.7546654058364153, Std: 0.0083\n",
      "Parameters: {'max_depth': 6, 'n_estimators': 25}, Mean accuracy: 0.7560810350561564, Std: 0.0072\n",
      "Parameters: {'max_depth': 6, 'n_estimators': 26}, Mean accuracy: 0.7572117754065977, Std: 0.0114\n",
      "Parameters: {'max_depth': 6, 'n_estimators': 27}, Mean accuracy: 0.7574950615255779, Std: 0.0099\n",
      "Parameters: {'max_depth': 6, 'n_estimators': 28}, Mean accuracy: 0.7569292906627774, Std: 0.0098\n",
      "Parameters: {'max_depth': 6, 'n_estimators': 29}, Mean accuracy: 0.7586274046263387, Std: 0.0103\n",
      "Parameters: {'max_depth': 6, 'n_estimators': 30}, Mean accuracy: 0.7580612330759584, Std: 0.0113\n",
      "Parameters: {'max_depth': 6, 'n_estimators': 31}, Mean accuracy: 0.7566456038562173, Std: 0.0115\n",
      "Parameters: {'max_depth': 6, 'n_estimators': 32}, Mean accuracy: 0.7580600310132186, Std: 0.0124\n",
      "Parameters: {'max_depth': 7, 'n_estimators': 1}, Mean accuracy: 0.729761871371273, Std: 0.0204\n",
      "Parameters: {'max_depth': 7, 'n_estimators': 2}, Mean accuracy: 0.7357100784946968, Std: 0.0141\n",
      "Parameters: {'max_depth': 7, 'n_estimators': 3}, Mean accuracy: 0.7470250950631284, Std: 0.0115\n",
      "Parameters: {'max_depth': 7, 'n_estimators': 4}, Mean accuracy: 0.752686409879353, Std: 0.0035\n",
      "Parameters: {'max_depth': 7, 'n_estimators': 5}, Mean accuracy: 0.7563643211751365, Std: 0.0063\n",
      "Parameters: {'max_depth': 7, 'n_estimators': 6}, Mean accuracy: 0.7583465226328379, Std: 0.0088\n",
      "Parameters: {'max_depth': 7, 'n_estimators': 7}, Mean accuracy: 0.7603251179023204, Std: 0.0123\n",
      "Parameters: {'max_depth': 7, 'n_estimators': 8}, Mean accuracy: 0.7637205444542835, Std: 0.012\n",
      "Parameters: {'max_depth': 7, 'n_estimators': 9}, Mean accuracy: 0.7637221472046032, Std: 0.0115\n",
      "Parameters: {'max_depth': 7, 'n_estimators': 10}, Mean accuracy: 0.7637213458294434, Std: 0.0128\n",
      "Parameters: {'max_depth': 7, 'n_estimators': 11}, Mean accuracy: 0.7620212284279825, Std: 0.0157\n",
      "Parameters: {'max_depth': 7, 'n_estimators': 12}, Mean accuracy: 0.7648516854923048, Std: 0.0148\n",
      "Parameters: {'max_depth': 7, 'n_estimators': 13}, Mean accuracy: 0.7659820251551663, Std: 0.0152\n",
      "Parameters: {'max_depth': 7, 'n_estimators': 14}, Mean accuracy: 0.7628718881600827, Std: 0.0121\n",
      "Parameters: {'max_depth': 7, 'n_estimators': 15}, Mean accuracy: 0.7645688000609046, Std: 0.0114\n",
      "Parameters: {'max_depth': 7, 'n_estimators': 16}, Mean accuracy: 0.7657011431616654, Std: 0.0128\n",
      "Parameters: {'max_depth': 7, 'n_estimators': 17}, Mean accuracy: 0.767398455750067, Std: 0.0117\n",
      "Parameters: {'max_depth': 7, 'n_estimators': 18}, Mean accuracy: 0.7657007424740856, Std: 0.0142\n",
      "Parameters: {'max_depth': 7, 'n_estimators': 19}, Mean accuracy: 0.7645696014360643, Std: 0.0121\n",
      "Parameters: {'max_depth': 7, 'n_estimators': 20}, Mean accuracy: 0.7648520861798846, Std: 0.0131\n",
      "Parameters: {'max_depth': 7, 'n_estimators': 21}, Mean accuracy: 0.7665493987682864, Std: 0.0121\n",
      "Parameters: {'max_depth': 7, 'n_estimators': 22}, Mean accuracy: 0.7665481967055466, Std: 0.0127\n",
      "Parameters: {'max_depth': 7, 'n_estimators': 23}, Mean accuracy: 0.7637185410163843, Std: 0.0124\n",
      "Parameters: {'max_depth': 7, 'n_estimators': 24}, Mean accuracy: 0.7668322841996866, Std: 0.0113\n",
      "Parameters: {'max_depth': 7, 'n_estimators': 25}, Mean accuracy: 0.7648516854923048, Std: 0.0102\n",
      "Parameters: {'max_depth': 7, 'n_estimators': 26}, Mean accuracy: 0.7662661126493062, Std: 0.0119\n",
      "Parameters: {'max_depth': 7, 'n_estimators': 27}, Mean accuracy: 0.7659832272179059, Std: 0.0109\n",
      "Parameters: {'max_depth': 7, 'n_estimators': 28}, Mean accuracy: 0.7637197430791238, Std: 0.011\n",
      "Parameters: {'max_depth': 7, 'n_estimators': 29}, Mean accuracy: 0.7648516854923049, Std: 0.0127\n",
      "Parameters: {'max_depth': 7, 'n_estimators': 30}, Mean accuracy: 0.7648524868674645, Std: 0.0123\n",
      "Parameters: {'max_depth': 7, 'n_estimators': 31}, Mean accuracy: 0.7634372583353034, Std: 0.0111\n",
      "Parameters: {'max_depth': 7, 'n_estimators': 32}, Mean accuracy: 0.7628730902228222, Std: 0.0101\n",
      "Parameters: {'max_depth': 8, 'n_estimators': 1}, Mean accuracy: 0.7314651942733732, Std: 0.0133\n",
      "Parameters: {'max_depth': 8, 'n_estimators': 2}, Mean accuracy: 0.7379719598831593, Std: 0.0073\n",
      "Parameters: {'max_depth': 8, 'n_estimators': 3}, Mean accuracy: 0.7478757547952286, Std: 0.0114\n",
      "Parameters: {'max_depth': 8, 'n_estimators': 4}, Mean accuracy: 0.752399116884574, Std: 0.0141\n",
      "Parameters: {'max_depth': 8, 'n_estimators': 5}, Mean accuracy: 0.7583429164446189, Std: 0.0121\n",
      "Parameters: {'max_depth': 8, 'n_estimators': 6}, Mean accuracy: 0.7586241991256998, Std: 0.0129\n",
      "Parameters: {'max_depth': 8, 'n_estimators': 7}, Mean accuracy: 0.7640006250726247, Std: 0.014\n",
      "Parameters: {'max_depth': 8, 'n_estimators': 8}, Mean accuracy: 0.7645647931851056, Std: 0.0167\n",
      "Parameters: {'max_depth': 8, 'n_estimators': 9}, Mean accuracy: 0.764567197310585, Std: 0.0132\n",
      "Parameters: {'max_depth': 8, 'n_estimators': 10}, Mean accuracy: 0.766831482824527, Std: 0.0118\n",
      "Parameters: {'max_depth': 8, 'n_estimators': 11}, Mean accuracy: 0.7705089934327306, Std: 0.0148\n",
      "Parameters: {'max_depth': 8, 'n_estimators': 12}, Mean accuracy: 0.7702269093764901, Std: 0.014\n",
      "Parameters: {'max_depth': 8, 'n_estimators': 13}, Mean accuracy: 0.7673968529997476, Std: 0.0139\n",
      "Parameters: {'max_depth': 8, 'n_estimators': 14}, Mean accuracy: 0.7682463106691082, Std: 0.0138\n",
      "Parameters: {'max_depth': 8, 'n_estimators': 15}, Mean accuracy: 0.7696615392012693, Std: 0.0128\n",
      "Parameters: {'max_depth': 8, 'n_estimators': 16}, Mean accuracy: 0.7699456266954093, Std: 0.0117\n",
      "Parameters: {'max_depth': 8, 'n_estimators': 17}, Mean accuracy: 0.7710763670458507, Std: 0.0132\n",
      "Parameters: {'max_depth': 8, 'n_estimators': 18}, Mean accuracy: 0.7710763670458507, Std: 0.0132\n",
      "Parameters: {'max_depth': 8, 'n_estimators': 19}, Mean accuracy: 0.7733382484343132, Std: 0.0156\n",
      "Parameters: {'max_depth': 8, 'n_estimators': 20}, Mean accuracy: 0.7739040192971138, Std: 0.0163\n",
      "Parameters: {'max_depth': 8, 'n_estimators': 21}, Mean accuracy: 0.7727740803218323, Std: 0.0139\n",
      "Parameters: {'max_depth': 8, 'n_estimators': 22}, Mean accuracy: 0.7716417372210713, Std: 0.0152\n",
      "Parameters: {'max_depth': 8, 'n_estimators': 23}, Mean accuracy: 0.7724911948904318, Std: 0.0147\n",
      "Parameters: {'max_depth': 8, 'n_estimators': 24}, Mean accuracy: 0.7710759663582708, Std: 0.0144\n",
      "Parameters: {'max_depth': 8, 'n_estimators': 25}, Mean accuracy: 0.7719250233400514, Std: 0.0132\n",
      "Parameters: {'max_depth': 8, 'n_estimators': 26}, Mean accuracy: 0.7705117982457897, Std: 0.0127\n",
      "Parameters: {'max_depth': 8, 'n_estimators': 27}, Mean accuracy: 0.7724923969531716, Std: 0.0144\n",
      "Parameters: {'max_depth': 8, 'n_estimators': 28}, Mean accuracy: 0.769946828758149, Std: 0.0125\n",
      "Parameters: {'max_depth': 8, 'n_estimators': 29}, Mean accuracy: 0.7707954850523497, Std: 0.0125\n",
      "Parameters: {'max_depth': 8, 'n_estimators': 30}, Mean accuracy: 0.7707938823020302, Std: 0.0138\n",
      "Parameters: {'max_depth': 8, 'n_estimators': 31}, Mean accuracy: 0.77051099687063, Std: 0.014\n",
      "Parameters: {'max_depth': 8, 'n_estimators': 32}, Mean accuracy: 0.7713612559151504, Std: 0.0121\n",
      "Parameters: {'max_depth': 9, 'n_estimators': 1}, Mean accuracy: 0.7379699564452601, Std: 0.0099\n",
      "Parameters: {'max_depth': 9, 'n_estimators': 2}, Mean accuracy: 0.7453277824747266, Std: 0.0093\n",
      "Parameters: {'max_depth': 9, 'n_estimators': 3}, Mean accuracy: 0.765418658417845, Std: 0.01\n",
      "Parameters: {'max_depth': 9, 'n_estimators': 4}, Mean accuracy: 0.7736247400539324, Std: 0.0068\n",
      "Parameters: {'max_depth': 9, 'n_estimators': 5}, Mean accuracy: 0.7770205672934756, Std: 0.0092\n",
      "Parameters: {'max_depth': 9, 'n_estimators': 6}, Mean accuracy: 0.7773038534124558, Std: 0.0074\n",
      "Parameters: {'max_depth': 9, 'n_estimators': 7}, Mean accuracy: 0.7781521090190767, Std: 0.0129\n",
      "Parameters: {'max_depth': 9, 'n_estimators': 8}, Mean accuracy: 0.780131505663719, Std: 0.0083\n",
      "Parameters: {'max_depth': 9, 'n_estimators': 9}, Mean accuracy: 0.7790007653132776, Std: 0.0066\n",
      "Parameters: {'max_depth': 9, 'n_estimators': 10}, Mean accuracy: 0.7809809633330795, Std: 0.0084\n",
      "Parameters: {'max_depth': 9, 'n_estimators': 11}, Mean accuracy: 0.7826794779842209, Std: 0.0088\n",
      "Parameters: {'max_depth': 9, 'n_estimators': 12}, Mean accuracy: 0.78154673419588, Std: 0.0091\n",
      "Parameters: {'max_depth': 9, 'n_estimators': 13}, Mean accuracy: 0.7826778752339013, Std: 0.0101\n",
      "Parameters: {'max_depth': 9, 'n_estimators': 14}, Mean accuracy: 0.7789999639381178, Std: 0.009\n",
      "Parameters: {'max_depth': 9, 'n_estimators': 15}, Mean accuracy: 0.7806980779016792, Std: 0.0085\n",
      "Parameters: {'max_depth': 9, 'n_estimators': 16}, Mean accuracy: 0.7775859374686964, Std: 0.0077\n",
      "Parameters: {'max_depth': 9, 'n_estimators': 17}, Mean accuracy: 0.7801323070388787, Std: 0.0076\n",
      "Parameters: {'max_depth': 9, 'n_estimators': 18}, Mean accuracy: 0.7826778752339014, Std: 0.0102\n",
      "Parameters: {'max_depth': 9, 'n_estimators': 19}, Mean accuracy: 0.7835265315281023, Std: 0.01\n",
      "Parameters: {'max_depth': 9, 'n_estimators': 20}, Mean accuracy: 0.7818272155018012, Std: 0.0132\n",
      "Parameters: {'max_depth': 9, 'n_estimators': 21}, Mean accuracy: 0.784091901703323, Std: 0.0114\n",
      "Parameters: {'max_depth': 9, 'n_estimators': 22}, Mean accuracy: 0.7821105016207812, Std: 0.013\n",
      "Parameters: {'max_depth': 9, 'n_estimators': 23}, Mean accuracy: 0.7798486202323187, Std: 0.0116\n",
      "Parameters: {'max_depth': 9, 'n_estimators': 24}, Mean accuracy: 0.7792828493695181, Std: 0.0124\n",
      "Parameters: {'max_depth': 9, 'n_estimators': 25}, Mean accuracy: 0.7773018499745563, Std: 0.0133\n",
      "Parameters: {'max_depth': 9, 'n_estimators': 26}, Mean accuracy: 0.7784325903249977, Std: 0.0129\n",
      "Parameters: {'max_depth': 9, 'n_estimators': 27}, Mean accuracy: 0.7801303036009793, Std: 0.0123\n",
      "Parameters: {'max_depth': 9, 'n_estimators': 28}, Mean accuracy: 0.7795649334257586, Std: 0.0111\n",
      "Parameters: {'max_depth': 9, 'n_estimators': 29}, Mean accuracy: 0.7806976772140993, Std: 0.0107\n",
      "Parameters: {'max_depth': 9, 'n_estimators': 30}, Mean accuracy: 0.7821129057462606, Std: 0.0108\n",
      "Parameters: {'max_depth': 9, 'n_estimators': 31}, Mean accuracy: 0.7823961918652407, Std: 0.0094\n",
      "Parameters: {'max_depth': 9, 'n_estimators': 32}, Mean accuracy: 0.7826774745463215, Std: 0.012\n",
      "Best Model: RandomForestClassifier(max_depth=9, n_estimators=21, random_state=42)\n",
      "Best Accuracy: 0.784091901703323\n",
      "Best Parameters: 21 estimators, 9 depth\n"
     ]
    }
   ],
   "source": [
    "from sklearn.model_selection import GridSearchCV\n",
    "\n",
    "best_result = {\n",
    "    'model': None,\n",
    "    'accuracy': 0,\n",
    "    'estimators': 0,\n",
    "    'depth': 0,\n",
    "}\n",
    "\n",
    "param_grid = {\n",
    "    'n_estimators': range(1, 33),\n",
    "    'max_depth': range(2, 10),\n",
    "}\n",
    "\n",
    "grid_search = GridSearchCV(RandomForestClassifier(random_state=RANDOM_SEED), param_grid, cv=5, verbose=True)\n",
    "grid_search.fit(X_balanced_mod_wo_valid, y_balanced_mod_wo_valid)\n",
    "\n",
    "for params, mean_score, _ in zip(grid_search.cv_results_['params'], grid_search.cv_results_['mean_test_score'], grid_search.cv_results_['std_test_score']):\n",
    "    print(f\"Parameters: {params}, Mean accuracy: {mean_score}, Std: {_.round(4)}\")\n",
    "\n",
    "best_result['model'] = grid_search.best_estimator_\n",
    "best_result['accuracy'] = grid_search.best_score_\n",
    "best_result['estimators'] = grid_search.best_params_['n_estimators']\n",
    "best_result['depth'] = grid_search.best_params_['max_depth']\n",
    "\n",
    "print(\"Best Model:\", best_result['model'])\n",
    "print(\"Best Accuracy:\", best_result['accuracy'])\n",
    "print(\"Best Parameters:\", best_result['estimators'], \"estimators,\", best_result['depth'], \"depth\")\n"
   ]
  },
  {
   "cell_type": "markdown",
   "metadata": {},
   "source": [
    "<div class=\"alert alert-info\">\n",
    "результат на тесте:"
   ]
  },
  {
   "cell_type": "code",
   "execution_count": 36,
   "metadata": {},
   "outputs": [
    {
     "data": {
      "text/plain": [
       "0.8097928436911488"
      ]
     },
     "execution_count": 36,
     "metadata": {},
     "output_type": "execute_result"
    }
   ],
   "source": [
    "prediction_test = best_result['model'].predict(X_test_mod)\n",
    "accuracy_score(prediction_test, y_test)"
   ]
  },
  {
   "cell_type": "markdown",
   "metadata": {},
   "source": [
    "Для ускорения повторного обращения к блокноту создадим лес по лучшим параметрам для сбалансированной обучающей выборки (33, 4)\n",
    "Для несбалансированной выборки лучшая точность достигается при 4, 4\n"
   ]
  },
  {
   "cell_type": "code",
   "execution_count": 51,
   "metadata": {},
   "outputs": [],
   "source": [
    "# best_RF = RandomForestClassifier(random_state = RANDOM_SEED,n_estimators = 33, max_depth = 4)\n",
    "# best_RF.fit(X_balanced, y_balanced)\n",
    "# prediction_valid_RF = best_RF.predict(X_valid)\n",
    "# best_accuracy_RF = accuracy_score(prediction_valid_RF, y_valid)"
   ]
  },
  {
   "cell_type": "markdown",
   "metadata": {},
   "source": [
    "## Decision Tree"
   ]
  },
  {
   "cell_type": "code",
   "execution_count": 71,
   "metadata": {},
   "outputs": [
    {
     "name": "stderr",
     "output_type": "stream",
     "text": [
      "100%|██████████████████████████████████████████████████████████████████████████████████| 18/18 [00:00<00:00, 27.67it/s]\n"
     ]
    }
   ],
   "source": [
    "best_DT = None\n",
    "best_accuracy_DT = 0\n",
    "best_depth_DT = 0\n",
    "for depth in tqdm(range(2,20)):\n",
    "    DT = DecisionTreeClassifier(random_state = RANDOM_SEED, max_depth = depth)\n",
    "    DT.fit(X_balanced, y_balanced)\n",
    "    prediction_valid_DT = DT.predict(X_valid)\n",
    "    accuracy_DT = accuracy_score(prediction_valid_DT, y_valid)\n",
    "    if best_accuracy_DT < accuracy_DT:\n",
    "        best_DT = DT\n",
    "        best_accuracy_DT = accuracy_DT\n",
    "        best_depth_DT = depth"
   ]
  },
  {
   "cell_type": "markdown",
   "metadata": {},
   "source": [
    "Лучшая модель Decision tree\n"
   ]
  },
  {
   "cell_type": "markdown",
   "metadata": {},
   "source": [
    "## LogisticRegression"
   ]
  },
  {
   "cell_type": "code",
   "execution_count": 75,
   "metadata": {},
   "outputs": [],
   "source": [
    "LR = LogisticRegression(random_state = RANDOM_SEED,max_iter= 1000,tol=1e-5,solver = 'lbfgs' )\n",
    "LR.fit(X_train, y_train)\n",
    "prediction_valid_LR = LR.predict(X_valid)\n",
    "accuracy_LR = accuracy_score(prediction_valid_LR, y_valid)"
   ]
  },
  {
   "cell_type": "code",
   "execution_count": 76,
   "metadata": {
    "scrolled": true
   },
   "outputs": [
    {
     "name": "stdout",
     "output_type": "stream",
     "text": [
      "Logistic Regression: 0.6992481203007519\n",
      "Random Forest: 0.8270676691729323\n",
      "Random Forest on CM: 0.7142857142857143\n",
      "Decision Tree: 0.8045112781954887\n"
     ]
    }
   ],
   "source": [
    "print(f\"Logistic Regression: {accuracy_LR}\")\n",
    "print(f\"Random Forest: {best_accuracy_RF}\")\n",
    "print(f\"Random Forest on CM: {best_accuracy_RF_on_cm}\")\n",
    "print(f\"Decision Tree: {best_accuracy_DT}\")"
   ]
  },
  {
   "cell_type": "markdown",
   "metadata": {},
   "source": [
    "## Вывод "
   ]
  },
  {
   "cell_type": "markdown",
   "metadata": {},
   "source": [
    "Основываясь на показателе точности, можно  прийти к выводу, что наиболее качественные результаты прогнозирует Random Forest"
   ]
  },
  {
   "cell_type": "markdown",
   "metadata": {},
   "source": [
    "# Проверьте модель на тестовой выборке"
   ]
  },
  {
   "cell_type": "code",
   "execution_count": 77,
   "metadata": {},
   "outputs": [],
   "source": [
    "prediction_test_LR = LR.predict(X_test)\n",
    "prediction_test_RF = best_RF.predict(X_test)\n",
    "prediction_test_RF_on_cm = best_RF_on_cm.predict(X_test)\n",
    "prediction_test_DT = best_DT.predict(X_test)"
   ]
  },
  {
   "cell_type": "code",
   "execution_count": 87,
   "metadata": {},
   "outputs": [],
   "source": [
    "accuracy_LR_test = accuracy_score(prediction_test_LR, y_test)\n",
    "accuracy_RF_test = accuracy_score(prediction_test_RF, y_test)\n",
    "accuracy_RF_test_on_cm = accuracy_score(prediction_test_RF_on_cm, y_test)\n",
    "accuracy_DT_test = accuracy_score(prediction_test_DT, y_test)"
   ]
  },
  {
   "cell_type": "code",
   "execution_count": 88,
   "metadata": {},
   "outputs": [
    {
     "name": "stdout",
     "output_type": "stream",
     "text": [
      "Logistic Regression:\t 0.7368421052631579\n",
      "Random Forest:\t 0.7744360902255639\n",
      "Random Forest on confusion matrix:\t 0.7368421052631579\n",
      "Decision Tree:\t 0.7593984962406015\n"
     ]
    }
   ],
   "source": [
    "print(f\"Logistic Regression:\\t {accuracy_LR_test}\")\n",
    "print(f\"Random Forest:\\t {accuracy_RF_test}\")\n",
    "print(f\"Random Forest on confusion matrix:\\t {accuracy_RF_test_on_cm}\")\n",
    "print(f\"Decision Tree:\\t {accuracy_DT_test}\")"
   ]
  },
  {
   "cell_type": "code",
   "execution_count": 80,
   "metadata": {},
   "outputs": [
    {
     "data": {
      "text/html": [
       "<div>\n",
       "<style scoped>\n",
       "    .dataframe tbody tr th:only-of-type {\n",
       "        vertical-align: middle;\n",
       "    }\n",
       "\n",
       "    .dataframe tbody tr th {\n",
       "        vertical-align: top;\n",
       "    }\n",
       "\n",
       "    .dataframe thead th {\n",
       "        text-align: right;\n",
       "    }\n",
       "</style>\n",
       "<table border=\"1\" class=\"dataframe\">\n",
       "  <thead>\n",
       "    <tr style=\"text-align: right;\">\n",
       "      <th></th>\n",
       "      <th>calls</th>\n",
       "      <th>minutes</th>\n",
       "      <th>messages</th>\n",
       "      <th>mb_used</th>\n",
       "      <th>is_ultra</th>\n",
       "    </tr>\n",
       "  </thead>\n",
       "  <tbody>\n",
       "    <tr>\n",
       "      <th>count</th>\n",
       "      <td>3004.000000</td>\n",
       "      <td>3004.000000</td>\n",
       "      <td>3004.000000</td>\n",
       "      <td>3004.000000</td>\n",
       "      <td>3004.000000</td>\n",
       "    </tr>\n",
       "    <tr>\n",
       "      <th>mean</th>\n",
       "      <td>66.097204</td>\n",
       "      <td>459.955496</td>\n",
       "      <td>42.131824</td>\n",
       "      <td>17739.559790</td>\n",
       "      <td>0.500000</td>\n",
       "    </tr>\n",
       "    <tr>\n",
       "      <th>std</th>\n",
       "      <td>36.696756</td>\n",
       "      <td>259.014059</td>\n",
       "      <td>41.329769</td>\n",
       "      <td>8228.154397</td>\n",
       "      <td>0.500083</td>\n",
       "    </tr>\n",
       "    <tr>\n",
       "      <th>min</th>\n",
       "      <td>0.000000</td>\n",
       "      <td>0.000000</td>\n",
       "      <td>0.000000</td>\n",
       "      <td>0.000000</td>\n",
       "      <td>0.000000</td>\n",
       "    </tr>\n",
       "    <tr>\n",
       "      <th>25%</th>\n",
       "      <td>41.000000</td>\n",
       "      <td>278.750000</td>\n",
       "      <td>8.000000</td>\n",
       "      <td>12323.802500</td>\n",
       "      <td>0.000000</td>\n",
       "    </tr>\n",
       "    <tr>\n",
       "      <th>50%</th>\n",
       "      <td>65.000000</td>\n",
       "      <td>445.030000</td>\n",
       "      <td>31.000000</td>\n",
       "      <td>17286.235000</td>\n",
       "      <td>0.500000</td>\n",
       "    </tr>\n",
       "    <tr>\n",
       "      <th>75%</th>\n",
       "      <td>87.000000</td>\n",
       "      <td>612.192500</td>\n",
       "      <td>63.000000</td>\n",
       "      <td>22345.097500</td>\n",
       "      <td>1.000000</td>\n",
       "    </tr>\n",
       "    <tr>\n",
       "      <th>max</th>\n",
       "      <td>203.000000</td>\n",
       "      <td>1566.450000</td>\n",
       "      <td>224.000000</td>\n",
       "      <td>49745.730000</td>\n",
       "      <td>1.000000</td>\n",
       "    </tr>\n",
       "  </tbody>\n",
       "</table>\n",
       "</div>"
      ],
      "text/plain": [
       "             calls      minutes     messages       mb_used     is_ultra\n",
       "count  3004.000000  3004.000000  3004.000000   3004.000000  3004.000000\n",
       "mean     66.097204   459.955496    42.131824  17739.559790     0.500000\n",
       "std      36.696756   259.014059    41.329769   8228.154397     0.500083\n",
       "min       0.000000     0.000000     0.000000      0.000000     0.000000\n",
       "25%      41.000000   278.750000     8.000000  12323.802500     0.000000\n",
       "50%      65.000000   445.030000    31.000000  17286.235000     0.500000\n",
       "75%      87.000000   612.192500    63.000000  22345.097500     1.000000\n",
       "max     203.000000  1566.450000   224.000000  49745.730000     1.000000"
      ]
     },
     "execution_count": 80,
     "metadata": {},
     "output_type": "execute_result"
    }
   ],
   "source": [
    "# Чтобы видеть - балансированная выборка или нет - участвовала в обучении\n",
    "describe(X_balanced, y_balanced)"
   ]
  },
  {
   "cell_type": "code",
   "execution_count": 81,
   "metadata": {},
   "outputs": [
    {
     "data": {
      "image/png": "[encoded data removed]",
      "text/plain": [
       "<Figure size 640x480 with 2 Axes>"
      ]
     },
     "metadata": {},
     "output_type": "display_data"
    }
   ],
   "source": [
    "disp = ConfusionMatrixDisplay.from_estimator(best_RF, X_test, y_test)"
   ]
  },
  {
   "cell_type": "code",
   "execution_count": 82,
   "metadata": {},
   "outputs": [
    {
     "data": {
      "image/png": "[encoded data removed]",
      "text/plain": [
       "<Figure size 640x480 with 2 Axes>"
      ]
     },
     "metadata": {},
     "output_type": "display_data"
    }
   ],
   "source": [
    "disp = ConfusionMatrixDisplay.from_estimator(best_RF_on_cm, X_test, y_test)"
   ]
  },
  {
   "cell_type": "code",
   "execution_count": 83,
   "metadata": {},
   "outputs": [
    {
     "data": {
      "image/png": "[encoded data removed]",
      "text/plain": [
       "<Figure size 640x480 with 2 Axes>"
      ]
     },
     "metadata": {},
     "output_type": "display_data"
    }
   ],
   "source": [
    "disp = ConfusionMatrixDisplay.from_estimator(best_DT, X_test, y_test)"
   ]
  },
  {
   "cell_type": "code",
   "execution_count": 84,
   "metadata": {},
   "outputs": [
    {
     "data": {
      "image/png": "[encoded data removed]",
      "text/plain": [
       "<Figure size 640x480 with 2 Axes>"
      ]
     },
     "metadata": {},
     "output_type": "display_data"
    }
   ],
   "source": [
    "disp = ConfusionMatrixDisplay.from_estimator(LR, X_test, y_test)"
   ]
  },
  {
   "cell_type": "raw",
   "metadata": {},
   "source": [
    "Можно повторить исследование повторно, но пропустив этап балансировки\n"
   ]
  },
  {
   "cell_type": "markdown",
   "metadata": {},
   "source": [
    "## Вывод"
   ]
  },
  {
   "cell_type": "markdown",
   "metadata": {},
   "source": [
    "Результаты на тестовой выборке\n",
    "\n",
    "* Logistic Regression:\t 0.7368421052631579\n",
    "* Random Forest:\t 0.7744360902255639\n",
    "* Random Forest on confusion matrix:\t 0.7368421052631579\n",
    "* Decision Tree:\t 0.7593984962406015\n",
    "\n",
    "Лес и дерево показали неплохие результаты. При этом, на валидационной выборке результаты в некоторых итерациях достигали 86% точности. Это говорит о недостаточности данных для обучения модели для более высокой точности, что очевидно и без результатов сравнения.\n",
    "\n",
    "Валидация успешности модели может осуществляться различными методами. Например, для леса был добавлен критерий - количество ложных рекомендаций трифа Смарт должно быть минимально. Такая модель имеет сниженную точность предсказаний, но в руках маркетологов позволила бы достичь большей прибыли, но это не точно.\n",
    "\n",
    "*** Конец ознакомительного фрагмента. Для более точного аудита мы готовы произвести для вас более обширное исследование, результаты которого помогут вам извлечь максимум прибыли из вашего бизнеса."
   ]
  },
  {
   "cell_type": "markdown",
   "metadata": {},
   "source": [
    "<div class=\"alert alert-info\">\n",
    "\n",
    "*** Конец ознакомительного фрагмента. Для более точного аудита мы готовы произвести для вас более обширное исследование, результаты которого помогут вам извлечь максимум прибыли из вашего бизнеса.\n",
    "\n",
    "а это что?))))\n",
    "\n",
    "рекомедную еще проверить результат на случайной модели, чтобы проверить твои модели на адекватность:"
   ]
  },
  {
   "cell_type": "code",
   "execution_count": 37,
   "metadata": {},
   "outputs": [],
   "source": [
    "from sklearn.dummy import DummyClassifier"
   ]
  },
  {
   "cell_type": "code",
   "execution_count": 53,
   "metadata": {},
   "outputs": [
    {
     "data": {
      "text/html": [
       "<style>#sk-container-id-5 {color: black;background-color: white;}#sk-container-id-5 pre{padding: 0;}#sk-container-id-5 div.sk-toggleable {background-color: white;}#sk-container-id-5 label.sk-toggleable__label {cursor: pointer;display: block;width: 100%;margin-bottom: 0;padding: 0.3em;box-sizing: border-box;text-align: center;}#sk-container-id-5 label.sk-toggleable__label-arrow:before {content: \"▸\";float: left;margin-right: 0.25em;color: #696969;}#sk-container-id-5 label.sk-toggleable__label-arrow:hover:before {color: black;}#sk-container-id-5 div.sk-estimator:hover label.sk-toggleable__label-arrow:before {color: black;}#sk-container-id-5 div.sk-toggleable__content {max-height: 0;max-width: 0;overflow: hidden;text-align: left;background-color: #f0f8ff;}#sk-container-id-5 div.sk-toggleable__content pre {margin: 0.2em;color: black;border-radius: 0.25em;background-color: #f0f8ff;}#sk-container-id-5 input.sk-toggleable__control:checked~div.sk-toggleable__content {max-height: 200px;max-width: 100%;overflow: auto;}#sk-container-id-5 input.sk-toggleable__control:checked~label.sk-toggleable__label-arrow:before {content: \"▾\";}#sk-container-id-5 div.sk-estimator input.sk-toggleable__control:checked~label.sk-toggleable__label {background-color: #d4ebff;}#sk-container-id-5 div.sk-label input.sk-toggleable__control:checked~label.sk-toggleable__label {background-color: #d4ebff;}#sk-container-id-5 input.sk-hidden--visually {border: 0;clip: rect(1px 1px 1px 1px);clip: rect(1px, 1px, 1px, 1px);height: 1px;margin: -1px;overflow: hidden;padding: 0;position: absolute;width: 1px;}#sk-container-id-5 div.sk-estimator {font-family: monospace;background-color: #f0f8ff;border: 1px dotted black;border-radius: 0.25em;box-sizing: border-box;margin-bottom: 0.5em;}#sk-container-id-5 div.sk-estimator:hover {background-color: #d4ebff;}#sk-container-id-5 div.sk-parallel-item::after {content: \"\";width: 100%;border-bottom: 1px solid gray;flex-grow: 1;}#sk-container-id-5 div.sk-label:hover label.sk-toggleable__label {background-color: #d4ebff;}#sk-container-id-5 div.sk-serial::before {content: \"\";position: absolute;border-left: 1px solid gray;box-sizing: border-box;top: 0;bottom: 0;left: 50%;z-index: 0;}#sk-container-id-5 div.sk-serial {display: flex;flex-direction: column;align-items: center;background-color: white;padding-right: 0.2em;padding-left: 0.2em;position: relative;}#sk-container-id-5 div.sk-item {position: relative;z-index: 1;}#sk-container-id-5 div.sk-parallel {display: flex;align-items: stretch;justify-content: center;background-color: white;position: relative;}#sk-container-id-5 div.sk-item::before, #sk-container-id-5 div.sk-parallel-item::before {content: \"\";position: absolute;border-left: 1px solid gray;box-sizing: border-box;top: 0;bottom: 0;left: 50%;z-index: -1;}#sk-container-id-5 div.sk-parallel-item {display: flex;flex-direction: column;z-index: 1;position: relative;background-color: white;}#sk-container-id-5 div.sk-parallel-item:first-child::after {align-self: flex-end;width: 50%;}#sk-container-id-5 div.sk-parallel-item:last-child::after {align-self: flex-start;width: 50%;}#sk-container-id-5 div.sk-parallel-item:only-child::after {width: 0;}#sk-container-id-5 div.sk-dashed-wrapped {border: 1px dashed gray;margin: 0 0.4em 0.5em 0.4em;box-sizing: border-box;padding-bottom: 0.4em;background-color: white;}#sk-container-id-5 div.sk-label label {font-family: monospace;font-weight: bold;display: inline-block;line-height: 1.2em;}#sk-container-id-5 div.sk-label-container {text-align: center;}#sk-container-id-5 div.sk-container {/* jupyter's `normalize.less` sets `[hidden] { display: none; }` but bootstrap.min.css set `[hidden] { display: none !important; }` so we also need the `!important` here to be able to override the default hidden behavior on the sphinx rendered scikit-learn.org. See: https://github.com/scikit-learn/scikit-learn/issues/21755 */display: inline-block !important;position: relative;}#sk-container-id-5 div.sk-text-repr-fallback {display: none;}</style><div id=\"sk-container-id-5\" class=\"sk-top-container\"><div class=\"sk-text-repr-fallback\"><pre>DummyClassifier(random_state=42, strategy=&#x27;most_frequent&#x27;)</pre><b>In a Jupyter environment, please rerun this cell to show the HTML representation or trust the notebook. <br />On GitHub, the HTML representation is unable to render, please try loading this page with nbviewer.org.</b></div><div class=\"sk-container\" hidden><div class=\"sk-item\"><div class=\"sk-estimator sk-toggleable\"><input class=\"sk-toggleable__control sk-hidden--visually\" id=\"sk-estimator-id-5\" type=\"checkbox\" checked><label for=\"sk-estimator-id-5\" class=\"sk-toggleable__label sk-toggleable__label-arrow\">DummyClassifier</label><div class=\"sk-toggleable__content\"><pre>DummyClassifier(random_state=42, strategy=&#x27;most_frequent&#x27;)</pre></div></div></div></div></div>"
      ],
      "text/plain": [
       "DummyClassifier(random_state=42, strategy='most_frequent')"
      ]
     },
     "execution_count": 53,
     "metadata": {},
     "output_type": "execute_result"
    }
   ],
   "source": [
    "dummy_model = DummyClassifier(random_state=RANDOM_SEED, strategy='most_frequent')\n",
    "dummy_model.fit(X_balanced, y_balanced)"
   ]
  },
  {
   "cell_type": "code",
   "execution_count": 54,
   "metadata": {},
   "outputs": [],
   "source": [
    "dummy_predictions = dummy_model.predict(X_test)"
   ]
  },
  {
   "cell_type": "code",
   "execution_count": 55,
   "metadata": {},
   "outputs": [
    {
     "data": {
      "text/plain": [
       "0.696798493408663"
      ]
     },
     "execution_count": 55,
     "metadata": {},
     "output_type": "execute_result"
    }
   ],
   "source": [
    "accuracy_score(y_test, dummy_predictions)"
   ]
  },
  {
   "cell_type": "code",
   "execution_count": null,
   "metadata": {},
   "outputs": [],
   "source": []
  }
 ],
 "metadata": {
  "kernelspec": {
   "display_name": "Python 3 (ipykernel)",
   "language": "python",
   "name": "python3"
  },
  "language_info": {
   "codemirror_mode": {
    "name": "ipython",
    "version": 3
   },
   "file_extension": ".py",
   "mimetype": "text/x-python",
   "name": "python",
   "nbconvert_exporter": "python",
   "pygments_lexer": "ipython3",
   "version": "3.10.9"
  },
  "toc": {
   "base_numbering": 1,
   "nav_menu": {},
   "number_sections": true,
   "sideBar": true,
   "skip_h1_title": false,
   "title_cell": "Содержание",
   "title_sidebar": "Contents",
   "toc_cell": true,
   "toc_position": {},
   "toc_section_display": true,
   "toc_window_display": true
  }
 },
 "nbformat": 4,
 "nbformat_minor": 4
}
