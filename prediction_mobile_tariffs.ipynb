{
 "cells": [
  {
   "cell_type": "markdown",
   "metadata": {},
   "source": [
    "# Рекомендация тарифов"
   ]
  },
  {
   "cell_type": "markdown",
   "metadata": {},
   "source": [
    "В вашем распоряжении данные о поведении клиентов, которые уже перешли на эти тарифы (из проекта курса «Статистический анализ данных»). Нужно построить модель для задачи классификации, которая выберет подходящий тариф. Предобработка данных не понадобится — вы её уже сделали.\n",
    "\n",
    "Постройте модель с максимально большим значением *accuracy*. Чтобы сдать проект успешно, нужно довести долю правильных ответов по крайней мере до 0.75. Проверьте *accuracy* на тестовой выборке самостоятельно."
   ]
  },
  {
   "cell_type": "markdown",
   "metadata": {},
   "source": [
    "## Импортируем все необдходимое"
   ]
  },
  {
   "cell_type": "code",
   "execution_count": 2,
   "metadata": {},
   "outputs": [],
   "source": [
    "import pandas as pd\n",
    "import numpy as np\n",
    "from sklearn.model_selection import train_test_split\n",
    "from sklearn.linear_model import LogisticRegression\n",
    "from sklearn.ensemble import RandomForestClassifier\n",
    "from sklearn.tree import DecisionTreeClassifier\n",
    "from sklearn.metrics import ConfusionMatrixDisplay, confusion_matrix\n",
    "from sklearn.metrics import accuracy_score\n",
    "from sklearn.metrics import roc_curve\n",
    "from sklearn.metrics import auc\n",
    "import seaborn as sns\n",
    "from tqdm import tqdm\n",
    "import matplotlib.pyplot as plt\n",
    "from imblearn.over_sampling import RandomOverSampler\n",
    "from imblearn.under_sampling import RandomUnderSampler\n",
    "from IPython.display import display, HTML\n",
    "\n",
    "\n",
    "def display_side_by_side(dfs:list, captions:list, tablespacing=5):\n",
    "    \"\"\"Display tables side by side to save vertical space\n",
    "    Input:\n",
    "        dfs: list of pandas.DataFrame\n",
    "        captions: list of table captions\n",
    "    \"\"\"\n",
    "    output = \"\"\n",
    "    for (caption, df) in zip(captions, dfs):\n",
    "        output += df.style.set_table_attributes(\"style='display:inline'\").set_caption(caption)._repr_html_()\n",
    "        output += tablespacing * \"\\xa0\"\n",
    "    display(HTML(output))\n",
    "\n",
    "\n",
    "def describe(X: pd.DataFrame, y: pd. Series):\n",
    "    X_copy = X.copy()\n",
    "    X_copy[\"is_ultra\"] = y\n",
    "    return X_copy.describe()\n",
    "\n",
    "\n",
    "RANDOM_SEED = 42\n"
   ]
  },
  {
   "cell_type": "markdown",
   "metadata": {},
   "source": [
    "##  Откроем и изучим файл"
   ]
  },
  {
   "cell_type": "code",
   "execution_count": 3,
   "metadata": {},
   "outputs": [],
   "source": [
    "df = pd.read_csv('datasets/users_behavior.csv')"
   ]
  },
  {
   "cell_type": "code",
   "execution_count": 4,
   "metadata": {},
   "outputs": [
    {
     "data": {
      "text/html": [
       "<div>\n",
       "<style scoped>\n",
       "    .dataframe tbody tr th:only-of-type {\n",
       "        vertical-align: middle;\n",
       "    }\n",
       "\n",
       "    .dataframe tbody tr th {\n",
       "        vertical-align: top;\n",
       "    }\n",
       "\n",
       "    .dataframe thead th {\n",
       "        text-align: right;\n",
       "    }\n",
       "</style>\n",
       "<table border=\"1\" class=\"dataframe\">\n",
       "  <thead>\n",
       "    <tr style=\"text-align: right;\">\n",
       "      <th></th>\n",
       "      <th>calls</th>\n",
       "      <th>minutes</th>\n",
       "      <th>messages</th>\n",
       "      <th>mb_used</th>\n",
       "      <th>is_ultra</th>\n",
       "    </tr>\n",
       "  </thead>\n",
       "  <tbody>\n",
       "    <tr>\n",
       "      <th>0</th>\n",
       "      <td>40.0</td>\n",
       "      <td>311.90</td>\n",
       "      <td>83.0</td>\n",
       "      <td>19915.42</td>\n",
       "      <td>0</td>\n",
       "    </tr>\n",
       "    <tr>\n",
       "      <th>1</th>\n",
       "      <td>85.0</td>\n",
       "      <td>516.75</td>\n",
       "      <td>56.0</td>\n",
       "      <td>22696.96</td>\n",
       "      <td>0</td>\n",
       "    </tr>\n",
       "    <tr>\n",
       "      <th>2</th>\n",
       "      <td>77.0</td>\n",
       "      <td>467.66</td>\n",
       "      <td>86.0</td>\n",
       "      <td>21060.45</td>\n",
       "      <td>0</td>\n",
       "    </tr>\n",
       "    <tr>\n",
       "      <th>3</th>\n",
       "      <td>106.0</td>\n",
       "      <td>745.53</td>\n",
       "      <td>81.0</td>\n",
       "      <td>8437.39</td>\n",
       "      <td>1</td>\n",
       "    </tr>\n",
       "    <tr>\n",
       "      <th>4</th>\n",
       "      <td>66.0</td>\n",
       "      <td>418.74</td>\n",
       "      <td>1.0</td>\n",
       "      <td>14502.75</td>\n",
       "      <td>0</td>\n",
       "    </tr>\n",
       "  </tbody>\n",
       "</table>\n",
       "</div>"
      ],
      "text/plain": [
       "   calls  minutes  messages   mb_used  is_ultra\n",
       "0   40.0   311.90      83.0  19915.42         0\n",
       "1   85.0   516.75      56.0  22696.96         0\n",
       "2   77.0   467.66      86.0  21060.45         0\n",
       "3  106.0   745.53      81.0   8437.39         1\n",
       "4   66.0   418.74       1.0  14502.75         0"
      ]
     },
     "execution_count": 4,
     "metadata": {},
     "output_type": "execute_result"
    }
   ],
   "source": [
    "df.head()"
   ]
  },
  {
   "cell_type": "markdown",
   "metadata": {},
   "source": [
    "### Проверим типы данных"
   ]
  },
  {
   "cell_type": "code",
   "execution_count": 5,
   "metadata": {},
   "outputs": [
    {
     "name": "stdout",
     "output_type": "stream",
     "text": [
      "<class 'pandas.core.frame.DataFrame'>\n",
      "RangeIndex: 3214 entries, 0 to 3213\n",
      "Data columns (total 5 columns):\n",
      " #   Column    Non-Null Count  Dtype  \n",
      "---  ------    --------------  -----  \n",
      " 0   calls     3214 non-null   float64\n",
      " 1   minutes   3214 non-null   float64\n",
      " 2   messages  3214 non-null   float64\n",
      " 3   mb_used   3214 non-null   float64\n",
      " 4   is_ultra  3214 non-null   int64  \n",
      "dtypes: float64(4), int64(1)\n",
      "memory usage: 125.7 KB\n"
     ]
    }
   ],
   "source": [
    "df.info()"
   ]
  },
  {
   "cell_type": "markdown",
   "metadata": {},
   "source": [
    "### Оптимизируем типы данных"
   ]
  },
  {
   "cell_type": "code",
   "execution_count": 6,
   "metadata": {},
   "outputs": [
    {
     "name": "stdout",
     "output_type": "stream",
     "text": [
      "<class 'pandas.core.frame.DataFrame'>\n",
      "RangeIndex: 3214 entries, 0 to 3213\n",
      "Data columns (total 5 columns):\n",
      " #   Column    Non-Null Count  Dtype   \n",
      "---  ------    --------------  -----   \n",
      " 0   calls     3214 non-null   int16   \n",
      " 1   minutes   3214 non-null   int16   \n",
      " 2   messages  3214 non-null   int16   \n",
      " 3   mb_used   3214 non-null   float32 \n",
      " 4   is_ultra  3214 non-null   category\n",
      "dtypes: category(1), float32(1), int16(3)\n",
      "memory usage: 34.8 KB\n"
     ]
    }
   ],
   "source": [
    "df['messages']=df['messages'].astype(\"int16\")\n",
    "df['calls']=df['calls'].astype(\"int16\")\n",
    "df['minutes']=df['minutes'].astype(\"int16\")\n",
    "df['mb_used']=df['mb_used'].astype(\"float32\")\n",
    "df['is_ultra']=df['is_ultra'].astype(\"category\")\n",
    "df.info()"
   ]
  },
  {
   "cell_type": "markdown",
   "metadata": {},
   "source": [
    "### Проверим  дубликаты"
   ]
  },
  {
   "cell_type": "code",
   "execution_count": 7,
   "metadata": {
    "scrolled": true
   },
   "outputs": [
    {
     "data": {
      "text/plain": [
       "0"
      ]
     },
     "execution_count": 7,
     "metadata": {},
     "output_type": "execute_result"
    }
   ],
   "source": [
    "df.duplicated().sum()"
   ]
  },
  {
   "cell_type": "markdown",
   "metadata": {},
   "source": [
    "#### Результаты проверки \n",
    "Дубликатов не найдено"
   ]
  },
  {
   "cell_type": "markdown",
   "metadata": {},
   "source": [
    "### Проверка на корректность наименований столбцов"
   ]
  },
  {
   "cell_type": "code",
   "execution_count": 8,
   "metadata": {
    "scrolled": true
   },
   "outputs": [
    {
     "data": {
      "text/plain": [
       "Index(['calls', 'minutes', 'messages', 'mb_used', 'is_ultra'], dtype='object')"
      ]
     },
     "execution_count": 8,
     "metadata": {},
     "output_type": "execute_result"
    }
   ],
   "source": [
    "df.columns"
   ]
  },
  {
   "cell_type": "markdown",
   "metadata": {},
   "source": [
    "#### Результаты проверки \n",
    "Имена столбцов заданы корректно"
   ]
  },
  {
   "cell_type": "markdown",
   "metadata": {},
   "source": [
    "### Проверим значения содержащиеся в столбцах"
   ]
  },
  {
   "cell_type": "code",
   "execution_count": 9,
   "metadata": {
    "scrolled": true
   },
   "outputs": [
    {
     "data": {
      "text/html": [
       "<div>\n",
       "<style scoped>\n",
       "    .dataframe tbody tr th:only-of-type {\n",
       "        vertical-align: middle;\n",
       "    }\n",
       "\n",
       "    .dataframe tbody tr th {\n",
       "        vertical-align: top;\n",
       "    }\n",
       "\n",
       "    .dataframe thead th {\n",
       "        text-align: right;\n",
       "    }\n",
       "</style>\n",
       "<table border=\"1\" class=\"dataframe\">\n",
       "  <thead>\n",
       "    <tr style=\"text-align: right;\">\n",
       "      <th></th>\n",
       "      <th>count</th>\n",
       "      <th>mean</th>\n",
       "      <th>std</th>\n",
       "      <th>min</th>\n",
       "      <th>25%</th>\n",
       "      <th>50%</th>\n",
       "      <th>75%</th>\n",
       "      <th>max</th>\n",
       "    </tr>\n",
       "  </thead>\n",
       "  <tbody>\n",
       "    <tr>\n",
       "      <th>calls</th>\n",
       "      <td>3214.0</td>\n",
       "      <td>63.038892</td>\n",
       "      <td>33.236368</td>\n",
       "      <td>0.0</td>\n",
       "      <td>40.000000</td>\n",
       "      <td>62.000000</td>\n",
       "      <td>82.000000</td>\n",
       "      <td>244.000000</td>\n",
       "    </tr>\n",
       "    <tr>\n",
       "      <th>minutes</th>\n",
       "      <td>3214.0</td>\n",
       "      <td>437.717797</td>\n",
       "      <td>234.559661</td>\n",
       "      <td>0.0</td>\n",
       "      <td>274.000000</td>\n",
       "      <td>430.000000</td>\n",
       "      <td>571.750000</td>\n",
       "      <td>1632.000000</td>\n",
       "    </tr>\n",
       "    <tr>\n",
       "      <th>messages</th>\n",
       "      <td>3214.0</td>\n",
       "      <td>38.281269</td>\n",
       "      <td>36.148326</td>\n",
       "      <td>0.0</td>\n",
       "      <td>9.000000</td>\n",
       "      <td>30.000000</td>\n",
       "      <td>57.000000</td>\n",
       "      <td>224.000000</td>\n",
       "    </tr>\n",
       "    <tr>\n",
       "      <th>mb_used</th>\n",
       "      <td>3214.0</td>\n",
       "      <td>17207.673828</td>\n",
       "      <td>7570.968262</td>\n",
       "      <td>0.0</td>\n",
       "      <td>12491.902588</td>\n",
       "      <td>16943.234375</td>\n",
       "      <td>21424.699707</td>\n",
       "      <td>49745.730469</td>\n",
       "    </tr>\n",
       "  </tbody>\n",
       "</table>\n",
       "</div>"
      ],
      "text/plain": [
       "           count          mean          std  min           25%           50%  \\\n",
       "calls     3214.0     63.038892    33.236368  0.0     40.000000     62.000000   \n",
       "minutes   3214.0    437.717797   234.559661  0.0    274.000000    430.000000   \n",
       "messages  3214.0     38.281269    36.148326  0.0      9.000000     30.000000   \n",
       "mb_used   3214.0  17207.673828  7570.968262  0.0  12491.902588  16943.234375   \n",
       "\n",
       "                   75%           max  \n",
       "calls        82.000000    244.000000  \n",
       "minutes     571.750000   1632.000000  \n",
       "messages     57.000000    224.000000  \n",
       "mb_used   21424.699707  49745.730469  "
      ]
     },
     "execution_count": 9,
     "metadata": {},
     "output_type": "execute_result"
    }
   ],
   "source": [
    "df.describe().T"
   ]
  },
  {
   "cell_type": "markdown",
   "metadata": {},
   "source": [
    "### Вывод"
   ]
  },
  {
   "cell_type": "markdown",
   "metadata": {},
   "source": [
    "1. Пропущенных значений нет\n",
    "1. Типы столбцов в порядке\n",
    "1. Дубликатов нет\n",
    "2. Целевой признак не сбалансирован. Позже, надо будет произвести балансировку обучающей выборки с помощью imbalanced-learn"
   ]
  },
  {
   "cell_type": "markdown",
   "metadata": {},
   "source": [
    "# Разобьем данные на выборки"
   ]
  },
  {
   "cell_type": "markdown",
   "metadata": {},
   "source": [
    "## Разделим данные на целевой столбец и матрицу признаков"
   ]
  },
  {
   "cell_type": "code",
   "execution_count": 10,
   "metadata": {},
   "outputs": [],
   "source": [
    "df_copy = df.copy()\n",
    "X = df_copy.drop(columns=[\"is_ultra\"])\n",
    "y = df_copy[\"is_ultra\"]"
   ]
  },
  {
   "cell_type": "markdown",
   "metadata": {},
   "source": [
    "## Так как у нас нет скрытой тестовой выборки - сделаем свою"
   ]
  },
  {
   "cell_type": "code",
   "execution_count": 11,
   "metadata": {},
   "outputs": [],
   "source": [
    "(X_train,\n",
    " X_test,\n",
    " y_train,\n",
    " y_test) = train_test_split(X,\n",
    "                            y,\n",
    "                            test_size = 0.33,\n",
    "                            random_state = RANDOM_SEED\n",
    "                                       )\n"
   ]
  },
  {
   "cell_type": "markdown",
   "metadata": {},
   "source": [
    "## Проверим обучающую выборку на мультиколлинеарность"
   ]
  },
  {
   "cell_type": "code",
   "execution_count": 13,
   "metadata": {},
   "outputs": [
    {
     "data": {
      "text/plain": [
       "<Axes: >"
      ]
     },
     "execution_count": 13,
     "metadata": {},
     "output_type": "execute_result"
    },
    {
     "data": {
      "image/png": "[encoded data removed]",
      "text/plain": [
       "<Figure size 640x480 with 2 Axes>"
      ]
     },
     "metadata": {},
     "output_type": "display_data"
    }
   ],
   "source": [
    "sns.heatmap(X_train.corr(), annot=True)"
   ]
  },
  {
   "cell_type": "markdown",
   "metadata": {},
   "source": [
    "<div class=\"alert alert-info\">\n",
    "<b>annot=True выведет численные значения парных корреляций. Кстати говоря, если мы говорим о корреляции - важно понимать, как ее использовать:\n",
    "\n",
    "https://www.dmitrymakarov.ru/opt/relationship-03/\n",
    "\n",
    "раздел Корреляция\n",
    "</b>\n",
    "</div>"
   ]
  },
  {
   "cell_type": "markdown",
   "metadata": {},
   "source": [
    "### Результаты проверки\n",
    "Звонки и минуты имеют высокую коллинеарность. Учтем этот факт и проведем обучение моделей на скорректированных выборках."
   ]
  },
  {
   "cell_type": "markdown",
   "metadata": {},
   "source": [
    "## Зададим условия формирования выборок\n"
   ]
  },
  {
   "cell_type": "code",
   "execution_count": 321,
   "metadata": {},
   "outputs": [],
   "source": [
    "BALANCED = True\n",
    "\n",
    "# В зависимости от значения этих переменных выборка будет меняться и в конце появится сводный результат, который сохранится после каждого прогона\n",
    "FULL = True\n",
    "NO_CALLS = False\n",
    "NO_MINUTES = False"
   ]
  },
  {
   "cell_type": "markdown",
   "metadata": {},
   "source": [
    "<div class=\"alert alert-info\">\n",
    "<b>здорово\n",
    "</b>\n",
    "</div>\n"
   ]
  },
  {
   "cell_type": "markdown",
   "metadata": {},
   "source": [
    "## Теперь разделим тестовую выборку на тестовую и валидационную"
   ]
  },
  {
   "cell_type": "code",
   "execution_count": 323,
   "metadata": {},
   "outputs": [],
   "source": [
    "(X_valid,\n",
    " X_test,\n",
    " y_valid,\n",
    " y_test) = train_test_split(X_test,\n",
    "                            y_test,\n",
    "                            test_size = 0.5,\n",
    "                            random_state = RANDOM_SEED\n",
    "                                       )"
   ]
  },
  {
   "cell_type": "markdown",
   "metadata": {},
   "source": [
    "## В зависимости от глобальных условий модицифруем признаки"
   ]
  },
  {
   "cell_type": "code",
   "execution_count": 324,
   "metadata": {},
   "outputs": [],
   "source": [
    "if BALANCED:\n",
    "    over = RandomOverSampler(sampling_strategy=1)\n",
    "    X_train, y_train = over.fit_resample(X_train, y_train)\n",
    "if NO_CALLS:\n",
    "    X_train = X_train.drop(columns=[\"calls\"])\n",
    "    X_valid = X_valid.drop(columns=[\"calls\"])\n",
    "    X_test = X_test.drop(columns=[\"calls\"])\n",
    "elif NO_MINUTES:\n",
    "    X_train = X_train.drop(columns=[\"minutes\"])\n",
    "    X_valid = X_valid.drop(columns=[\"minutes\"])\n",
    "    X_test = X_test.drop(columns=[\"minutes\"])\n",
    "# under = RandomUnderSampler(sampling_strategy=0.7)\n",
    "# X, y = under.fit_resample(X, y)"
   ]
  },
  {
   "cell_type": "markdown",
   "metadata": {},
   "source": [
    "#  Исследуем модели"
   ]
  },
  {
   "cell_type": "markdown",
   "metadata": {},
   "source": [
    "## Random Forest"
   ]
  },
  {
   "cell_type": "markdown",
   "metadata": {},
   "source": [
    "Поиск лучшего классификатора по <b>точности</b> предсказания и по <b>матрице ошибок</b>"
   ]
  },
  {
   "cell_type": "code",
   "execution_count": 351,
   "metadata": {},
   "outputs": [
    {
     "name": "stderr",
     "output_type": "stream",
     "text": [
      "100%|██████████████████████████████████████████| 14/14 [00:08<00:00,  1.75it/s]"
     ]
    },
    {
     "name": "stdout",
     "output_type": "stream",
     "text": [
      "RandomForestClassifier(max_depth=9, n_estimators=6, random_state=42) RandomForestClassifier(max_depth=5, n_estimators=2, random_state=42)\n"
     ]
    },
    {
     "name": "stderr",
     "output_type": "stream",
     "text": [
      "\n"
     ]
    }
   ],
   "source": [
    "best_RF = None\n",
    "best_accuracy_RF = 0\n",
    "best_est_RF = 0\n",
    "best_depth_RF = 0\n",
    "exit = False\n",
    "est = 5\n",
    "TARGET = (0, 0) # Ищем то, что приведет к меньшему числу ложных рекомендаций Смарт. Этот параметр в матрице должен быть минимальных среди моделей\n",
    "min_target = len(X_valid)\n",
    "parameters = []\n",
    "for est in tqdm(range(1,15)):\n",
    "    for depth in range(2, 10):\n",
    "        RF = RandomForestClassifier(random_state = RANDOM_SEED,n_estimators = est, max_depth = depth)\n",
    "        RF.fit(X_train, y_train)\n",
    "        prediction_valid_RF = RF.predict(X_valid)\n",
    "        cm = confusion_matrix(prediction_valid_RF, y_valid)\n",
    "        accuracy_RF = accuracy_score(prediction_valid_RF, y_valid)\n",
    "        if cm[TARGET[0]][TARGET[1]] < min_target:\n",
    "            min_target = cm[TARGET[0]][TARGET[1]]\n",
    "            best_RF_on_cm = RF\n",
    "            best_accuracy_RF_on_cm = accuracy_RF\n",
    "        \n",
    "        parameters.append((est, depth, accuracy_RF))\n",
    "        if best_accuracy_RF < accuracy_RF:\n",
    "            best_RF = RF\n",
    "            best_depth_RF = depth\n",
    "            best_est_RF = est\n",
    "            best_accuracy_RF = accuracy_RF\n",
    "print(best_RF, best_RF_on_cm)\n",
    "            "
   ]
  },
  {
   "cell_type": "markdown",
   "metadata": {},
   "source": [
    "## Decision Tree"
   ]
  },
  {
   "cell_type": "code",
   "execution_count": 326,
   "metadata": {},
   "outputs": [
    {
     "name": "stderr",
     "output_type": "stream",
     "text": [
      "100%|██████████████████████████████████████████| 18/18 [00:00<00:00, 33.57it/s]\n"
     ]
    }
   ],
   "source": [
    "best_DT = None\n",
    "best_accuracy_DT = 0\n",
    "best_depth_DT = 0\n",
    "for depth in tqdm(range(2,20)):\n",
    "    DT = DecisionTreeClassifier(random_state = RANDOM_SEED, max_depth = depth)\n",
    "    DT.fit(X_train, y_train)\n",
    "    prediction_valid_DT = DT.predict(X_valid)\n",
    "    accuracy_DT = accuracy_score(prediction_valid_DT, y_valid)\n",
    "    if best_accuracy_DT < accuracy_DT:\n",
    "        best_DT = DT\n",
    "        best_accuracy_DT = accuracy_DT\n",
    "        best_depth_DT = depth"
   ]
  },
  {
   "cell_type": "markdown",
   "metadata": {},
   "source": [
    "Лучшая модель Decision tree\n"
   ]
  },
  {
   "cell_type": "markdown",
   "metadata": {},
   "source": [
    "## LogisticRegression"
   ]
  },
  {
   "cell_type": "code",
   "execution_count": 327,
   "metadata": {},
   "outputs": [],
   "source": [
    "LR = LogisticRegression(random_state = RANDOM_SEED,max_iter= 1000,tol=1e-5,solver = 'lbfgs' )\n",
    "LR.fit(X_train, y_train)\n",
    "prediction_valid_LR = LR.predict(X_valid)\n",
    "accuracy_LR = accuracy_score(prediction_valid_LR, y_valid)"
   ]
  },
  {
   "cell_type": "markdown",
   "metadata": {},
   "source": [
    "# Проверка моделей на тестовой выборке"
   ]
  },
  {
   "cell_type": "code",
   "execution_count": 328,
   "metadata": {},
   "outputs": [],
   "source": [
    "prediction_test_LR = LR.predict(X_test)\n",
    "prediction_test_RF = best_RF.predict(X_test)\n",
    "prediction_test_RF_on_cm = best_RF_on_cm.predict(X_test)\n",
    "prediction_test_DT = best_DT.predict(X_test)"
   ]
  },
  {
   "cell_type": "code",
   "execution_count": 352,
   "metadata": {},
   "outputs": [],
   "source": [
    "accuracy_LR_test = accuracy_score(prediction_test_LR, y_test)\n",
    "accuracy_RF_test = accuracy_score(prediction_test_RF, y_test)\n",
    "accuracy_RF_test_on_cm = accuracy_score(prediction_test_RF_on_cm, y_test)\n",
    "accuracy_DT_test = accuracy_score(prediction_test_DT, y_test)"
   ]
  },
  {
   "cell_type": "code",
   "execution_count": 331,
   "metadata": {},
   "outputs": [
    {
     "data": {
      "image/png": "[encoded data removed]",
      "text/plain": [
       "<Figure size 640x480 with 1 Axes>"
      ]
     },
     "metadata": {},
     "output_type": "display_data"
    },
    {
     "data": {
      "image/png": "[encoded data removed]",
      "text/plain": [
       "<Figure size 640x480 with 1 Axes>"
      ]
     },
     "metadata": {},
     "output_type": "display_data"
    },
    {
     "data": {
      "image/png": "[encoded data removed]",
      "text/plain": [
       "<Figure size 640x480 with 1 Axes>"
      ]
     },
     "metadata": {},
     "output_type": "display_data"
    },
    {
     "data": {
      "image/png": "[encoded data removed]",
      "text/plain": [
       "<Figure size 640x480 with 1 Axes>"
      ]
     },
     "metadata": {},
     "output_type": "display_data"
    }
   ],
   "source": [
    "disp_rf = ConfusionMatrixDisplay.from_estimator(best_RF, X_test, y_test, colorbar=False)\n",
    "disp_rf_cm = ConfusionMatrixDisplay.from_estimator(best_RF_on_cm, X_test, y_test, colorbar=False)\n",
    "disp_dt = ConfusionMatrixDisplay.from_estimator(best_DT, X_test, y_test, colorbar=False)\n",
    "disp_lr = ConfusionMatrixDisplay.from_estimator(LR, X_test, y_test, colorbar=False)"
   ]
  },
  {
   "cell_type": "markdown",
   "metadata": {},
   "source": [
    "<div class=\"alert alert-warning\">\n",
    "    Из ниже представленных блоков следует запускать только те, которые соответствуют условиям\n",
    "</div>"
   ]
  },
  {
   "cell_type": "code",
   "execution_count": 357,
   "metadata": {},
   "outputs": [
    {
     "name": "stdout",
     "output_type": "stream",
     "text": [
      "FULL True\n",
      "NO_CALLS False\n",
      "NO_MINUTES False\n"
     ]
    }
   ],
   "source": [
    "print(\"FULL\", FULL)\n",
    "print(\"NO_CALLS\", NO_CALLS)\n",
    "print(\"NO_MINUTES\", NO_MINUTES)"
   ]
  },
  {
   "cell_type": "markdown",
   "metadata": {},
   "source": [
    "### Результаты без усечения данных"
   ]
  },
  {
   "cell_type": "code",
   "execution_count": 332,
   "metadata": {},
   "outputs": [
    {
     "data": {
      "image/png": "[encoded data removed]",
      "text/plain": [
       "<Figure size 1200x300 with 4 Axes>"
      ]
     },
     "metadata": {},
     "output_type": "display_data"
    }
   ],
   "source": [
    "if FULL:\n",
    "    fig, axs = plt.subplots(1, 4, figsize=(12, 3))\n",
    "    disp_rf.plot(ax=axs[0], colorbar=False)\n",
    "    disp_rf_cm.plot(ax=axs[1], colorbar=False)\n",
    "    disp_dt.plot(ax=axs[2], colorbar=False)\n",
    "    disp_lr.plot(ax=axs[3], colorbar=False)\n",
    "    title = f\"Лес по точности {accuracy_RF_test:.02f}         Лес по матрице ошибок {accuracy_RF_test_on_cm:.02f}                    Дерево {accuracy_DT_test:.02f}                               Регрессия {accuracy_LR_test:.02f}\"\n",
    "    plt.suptitle(f\"Все колонки\\n{title}\")\n",
    "    plt.show()"
   ]
  },
  {
   "cell_type": "markdown",
   "metadata": {},
   "source": [
    "### Результаты по данным без звонков"
   ]
  },
  {
   "cell_type": "code",
   "execution_count": 307,
   "metadata": {},
   "outputs": [
    {
     "data": {
      "image/png": "[encoded data removed]",
      "text/plain": [
       "<Figure size 1200x300 with 4 Axes>"
      ]
     },
     "metadata": {},
     "output_type": "display_data"
    }
   ],
   "source": [
    "if NO_CALLS:\n",
    "    fig, axs = plt.subplots(1, 4, figsize=(12, 3))\n",
    "    disp_rf.plot(ax=axs[0], colorbar=False)\n",
    "    disp_rf_cm.plot(ax=axs[1], colorbar=False)\n",
    "    disp_dt.plot(ax=axs[2], colorbar=False)\n",
    "    disp_lr.plot(ax=axs[3], colorbar=False)\n",
    "    title = f\"Лес по точности {accuracy_RF_test:.02f}         Лес по матрице ошибок {accuracy_RF_test_on_cm:.02f}                    Дерево {accuracy_DT_test:.02f}                               Регрессия {accuracy_LR_test:.02f}\"\n",
    "    plt.suptitle(f\"Без звонков\\n{title}\")\n",
    "    plt.show()"
   ]
  },
  {
   "cell_type": "markdown",
   "metadata": {},
   "source": [
    "### Результаты по данным без минут"
   ]
  },
  {
   "cell_type": "code",
   "execution_count": 272,
   "metadata": {},
   "outputs": [
    {
     "data": {
      "image/png": "[encoded data removed]",
      "text/plain": [
       "<Figure size 1200x300 with 4 Axes>"
      ]
     },
     "metadata": {},
     "output_type": "display_data"
    }
   ],
   "source": [
    "if NO_MINUTES:\n",
    "    fig, axs = plt.subplots(1, 4, figsize=(12, 3))\n",
    "    disp_rf.plot(ax=axs[0], colorbar=False)\n",
    "    disp_rf_cm.plot(ax=axs[1], colorbar=False)\n",
    "    disp_dt.plot(ax=axs[2], colorbar=False)\n",
    "    disp_lr.plot(ax=axs[3], colorbar=False)\n",
    "    title = f\"Лес по точности {accuracy_RF_test:.02f}         Лес по матрице ошибок {accuracy_RF_test_on_cm:.02f}                    Дерево {accuracy_DT_test:.02f}                               Регрессия {accuracy_LR_test:.02f}\"\n",
    "    plt.suptitle(f\"Без минут\\n{title}\")\n",
    "    plt.show()"
   ]
  },
  {
   "cell_type": "raw",
   "metadata": {},
   "source": [
    "Можно повторить исследование повторно, изменив значения глобальных переменных, но не трогая готовое изображение матриц\n"
   ]
  },
  {
   "cell_type": "markdown",
   "metadata": {},
   "source": [
    "## Вывод"
   ]
  },
  {
   "cell_type": "markdown",
   "metadata": {},
   "source": [
    "\n",
    "\n",
    "Лес и дерево показали неплохие результаты. При этом, на валидационной выборке результаты в некоторых итерациях достигали 86% точности. Это говорит о недостаточности данных для обучения модели для более высокой точности, что очевидно и без результатов сравнения.\n",
    "\n",
    "Валидация успешности модели может осуществляться различными методами. Например, для леса был добавлен критерий - количество ложных рекомендаций трифа Смарт должно быть минимально. Такая модель имеет сниженную точность предсказаний, но в руках маркетологов позволила бы достичь большей прибыли, но это не точно.\n",
    "\n",
    "*** Конец ознакомительного фрагмента. Для более точного аудита мы готовы произвести для вас более обширное исследование, результаты которого помогут вам извлечь максимум прибыли из вашего бизнеса."
   ]
  },
  {
   "cell_type": "markdown",
   "metadata": {},
   "source": [
    "<div class=\"alert alert-info\">\n",
    "<b>работа выглядит отлично. можно добавить сравнение различных методов при моделировании и их влиянии на целевую метрику, например, можно поместить результаты в таблицу и подсветить лучшие результаты:\n",
    "</b>\n",
    "</div>"
   ]
  },
  {
   "cell_type": "markdown",
   "metadata": {},
   "source": [
    "|Модель|Признаки|Accuracy|\n",
    "|------|--------|--------|\n",
    "|дерево|все|0.79|\n",
    "|**дерево**|**без calls**|**0.82**|\n",
    "|дерево|без minutes|0.80|"
   ]
  },
  {
   "cell_type": "markdown",
   "metadata": {},
   "source": []
  }
 ],
 "metadata": {
  "kernelspec": {
   "display_name": "Python 3 (ipykernel)",
   "language": "python",
   "name": "python3"
  },
  "language_info": {
   "codemirror_mode": {
    "name": "ipython",
    "version": 3
   },
   "file_extension": ".py",
   "mimetype": "text/x-python",
   "name": "python",
   "nbconvert_exporter": "python",
   "pygments_lexer": "ipython3",
   "version": "3.11.2"
  },
  "toc": {
   "base_numbering": 1,
   "nav_menu": {},
   "number_sections": true,
   "sideBar": true,
   "skip_h1_title": false,
   "title_cell": "Содержание",
   "title_sidebar": "Contents",
   "toc_cell": true,
   "toc_position": {},
   "toc_section_display": true,
   "toc_window_display": true
  }
 },
 "nbformat": 4,
 "nbformat_minor": 4
}
