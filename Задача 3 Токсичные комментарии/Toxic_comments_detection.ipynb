{
 "cells": [
  {
   "cell_type": "markdown",
   "metadata": {
    "id": "31oamE6K03Dv"
   },
   "source": [
    " # Задача определения \"токсичных\" комментариев"
   ]
  },
  {
   "cell_type": "markdown",
   "metadata": {
    "id": "QMwhFXAW03D0"
   },
   "source": [
    "Требуется обучить модель классифицировать комментарии на позитивные и негативные. Качество модели должно оцениваться метрикой *F1*, и её значение не должно быть меньше 0.75.\n",
    "\n",
    "В распоряжении набор данных с разметкой о токсичности комментариев. Столбец `text` содержит текст комментария, а `toxic` — оценка этих комментариев: 0 - позитивный, 1 - негативный (целевой класс)."
   ]
  },
  {
   "cell_type": "markdown",
   "metadata": {
    "id": "XM8wNiE903D3"
   },
   "source": [
    "<a id='section_1'></a>\n",
    "## Подготовка"
   ]
  },
  {
   "cell_type": "code",
   "execution_count": null,
   "metadata": {
    "id": "oXPwAVmgKazq"
   },
   "outputs": [],
   "source": [
    "!python -m pip install nltk pymystem3 tensorflow sentence_transformers"
   ]
  },
  {
   "cell_type": "code",
   "execution_count": null,
   "metadata": {
    "id": "RMDUftVhh29W"
   },
   "outputs": [],
   "source": [
    "# импорт основных библиотек\n",
    "import numpy as np\n",
    "import pandas as pd\n",
    "import matplotlib.pyplot as plt"
   ]
  },
  {
   "cell_type": "code",
   "execution_count": 9,
   "metadata": {
    "id": "DLX8XaIBiBz_"
   },
   "outputs": [],
   "source": [
    "# импорт спец. библиотек\n",
    "import os\n",
    "import pickle\n",
    "from random import random\n",
    "import re\n",
    "import nltk\n",
    "import tensorflow as tf\n",
    "from nltk.corpus import wordnet\n",
    "from pymystem3 import Mystem\n",
    "from catboost import CatBoostClassifier\n",
    "from tqdm.notebook import tqdm\n",
    "from sentence_transformers import SentenceTransformer"
   ]
  },
  {
   "cell_type": "code",
   "execution_count": 3,
   "metadata": {
    "id": "pPJdEEWn03D4"
   },
   "outputs": [],
   "source": [
    "# импорт элементов библиотеки Scikit-Learn\n",
    "from sklearn.metrics import average_precision_score, precision_score, recall_score, f1_score, precision_recall_curve\n",
    "from sklearn.linear_model import LogisticRegression\n",
    "from sklearn.model_selection import train_test_split, cross_val_score\n",
    "from sklearn.feature_extraction.text import TfidfVectorizer"
   ]
  },
  {
   "cell_type": "code",
   "execution_count": 33,
   "metadata": {
    "id": "rf3_ag9lh6vz"
   },
   "outputs": [],
   "source": [
    "# константы\n",
    "FIG_SIZE = (7, 6)\n",
    "RANDOM_STATE = 42"
   ]
  },
  {
   "cell_type": "markdown",
   "metadata": {
    "id": "-TKA7ipV03D6"
   },
   "source": [
    "<a id='section_2'></a>\n",
    "## Чтение и знакомство с данными"
   ]
  },
  {
   "cell_type": "code",
   "execution_count": 35,
   "metadata": {
    "colab": {
     "base_uri": "https://localhost:8080/"
    },
    "id": "WSMv5MEB03D7",
    "outputId": "2a913eda-fb49-4100-a181-1dd7c9d6e96b"
   },
   "outputs": [],
   "source": [
    "df = pd.read_csv(\"toxic_comments.csv\")"
   ]
  },
  {
   "cell_type": "code",
   "execution_count": 36,
   "metadata": {
    "colab": {
     "base_uri": "https://localhost:8080/",
     "height": 895
    },
    "id": "Gw1Sh2l8aehw",
    "outputId": "58ec5587-0a7c-4b67-c6bf-8a81fe8e5954"
   },
   "outputs": [
    {
     "name": "stdout",
     "output_type": "stream",
     "text": [
      "------------- Исходные данные -------------\n"
     ]
    },
    {
     "data": {
      "text/html": [
       "<div>\n",
       "<style scoped>\n",
       "    .dataframe tbody tr th:only-of-type {\n",
       "        vertical-align: middle;\n",
       "    }\n",
       "\n",
       "    .dataframe tbody tr th {\n",
       "        vertical-align: top;\n",
       "    }\n",
       "\n",
       "    .dataframe thead th {\n",
       "        text-align: right;\n",
       "    }\n",
       "</style>\n",
       "<table border=\"1\" class=\"dataframe\">\n",
       "  <thead>\n",
       "    <tr style=\"text-align: right;\">\n",
       "      <th></th>\n",
       "      <th>Unnamed: 0</th>\n",
       "      <th>text</th>\n",
       "      <th>toxic</th>\n",
       "    </tr>\n",
       "  </thead>\n",
       "  <tbody>\n",
       "    <tr>\n",
       "      <th>0</th>\n",
       "      <td>0</td>\n",
       "      <td>Explanation\\nWhy the edits made under my usern...</td>\n",
       "      <td>0</td>\n",
       "    </tr>\n",
       "    <tr>\n",
       "      <th>1</th>\n",
       "      <td>1</td>\n",
       "      <td>D'aww! He matches this background colour I'm s...</td>\n",
       "      <td>0</td>\n",
       "    </tr>\n",
       "    <tr>\n",
       "      <th>2</th>\n",
       "      <td>2</td>\n",
       "      <td>Hey man, I'm really not trying to edit war. It...</td>\n",
       "      <td>0</td>\n",
       "    </tr>\n",
       "    <tr>\n",
       "      <th>3</th>\n",
       "      <td>3</td>\n",
       "      <td>\"\\nMore\\nI can't make any real suggestions on ...</td>\n",
       "      <td>0</td>\n",
       "    </tr>\n",
       "    <tr>\n",
       "      <th>4</th>\n",
       "      <td>4</td>\n",
       "      <td>You, sir, are my hero. Any chance you remember...</td>\n",
       "      <td>0</td>\n",
       "    </tr>\n",
       "  </tbody>\n",
       "</table>\n",
       "</div>"
      ],
      "text/plain": [
       "   Unnamed: 0                                               text  toxic\n",
       "0           0  Explanation\\nWhy the edits made under my usern...      0\n",
       "1           1  D'aww! He matches this background colour I'm s...      0\n",
       "2           2  Hey man, I'm really not trying to edit war. It...      0\n",
       "3           3  \"\\nMore\\nI can't make any real suggestions on ...      0\n",
       "4           4  You, sir, are my hero. Any chance you remember...      0"
      ]
     },
     "metadata": {},
     "output_type": "display_data"
    },
    {
     "name": "stdout",
     "output_type": "stream",
     "text": [
      "\n",
      "------ Техническая информация -----\n",
      "<class 'pandas.core.frame.DataFrame'>\n",
      "RangeIndex: 159292 entries, 0 to 159291\n",
      "Data columns (total 3 columns):\n",
      " #   Column      Non-Null Count   Dtype \n",
      "---  ------      --------------   ----- \n",
      " 0   Unnamed: 0  159292 non-null  int64 \n",
      " 1   text        159292 non-null  object\n",
      " 2   toxic       159292 non-null  int64 \n",
      "dtypes: int64(2), object(1)\n",
      "memory usage: 3.6+ MB\n",
      "None\n",
      "Дубликаты: 0\n",
      "Типовые значения колонки 'toxic': [0 1] \n",
      "\n"
     ]
    },
    {
     "data": {
      "image/png": "[encoded data removed]",
      "text/plain": [
       "<Figure size 640x480 with 1 Axes>"
      ]
     },
     "metadata": {},
     "output_type": "display_data"
    }
   ],
   "source": [
    "print('------------- Исходные данные -------------')\n",
    "display(df.head())\n",
    "\n",
    "print('\\n------ Техническая информация -----')\n",
    "print(df.info())\n",
    "print(\"Дубликаты:\", len(df[df.duplicated()]))\n",
    "print(\"Типовые значения колонки 'toxic':\", df['toxic'].unique(), '\\n')\n",
    "\n",
    "# распределение токсичности комментариев\n",
    "plt.pie(df['toxic'].value_counts(),\n",
    "        labels=['Позитивные', 'Негативные'],\n",
    "        autopct='%1.1f%%',\n",
    "        startangle=18,\n",
    "        explode=(0.5, 0),\n",
    "        shadow=True,\n",
    "        radius=1.10)\n",
    "plt.title('Распределение типов комментариев');"
   ]
  },
  {
   "cell_type": "markdown",
   "metadata": {
    "id": "xG5w-xOk03D-"
   },
   "source": [
    "**Итог:** Датасет содержит почти **160 тыс. комментариев**.\n",
    "- Колонка `Unnamed: 0` вероятней всего содержала индексы, но в них присутствовали пропуски. По этой причине она была удалена.\n",
    "- Присутствует дисбаланс классов: позитивных комментариев больше в 9 раз.\n",
    "- Тип данных соответствует содержанию в колонка.\n",
    "- Пропуски и дубликаты - отсутствуют."
   ]
  },
  {
   "cell_type": "markdown",
   "metadata": {
    "id": "pB5yaP3OMqPs"
   },
   "source": [
    "**Кодирование текста.**\n",
    "Задача модели, предсказывающей эмоциональный оттенок комментариев, будет разделена на две подзадачи:\n",
    "- оцифровка текста;\n",
    "- поиск закономерностей и оценка текста.\n",
    "\n",
    "Каждая из этих задач будут реализованы отдельными спец. модель. В этом разделе будут разобраны несколько способов преобразования текста.\n",
    "\n",
    "___"
   ]
  },
  {
   "cell_type": "markdown",
   "metadata": {
    "id": "UYJTelKEy_pa"
   },
   "source": [
    "<a id='section_3'></a>\n",
    "## TF-IDF (CPU)"
   ]
  },
  {
   "cell_type": "markdown",
   "metadata": {
    "id": "hA3K9q0803_W"
   },
   "source": [
    "Самый примитивны способ: использовать только слова встречаемые в исходном тексте.  Обучение и предсказание происходит только на словаре, который сформировывается из слов комментариев.\n",
    "\n",
    "Оцифровка слов происходит за счёт подсчёта их важности, величиной TF-IDF. То есть TF отвечает за количество упоминаний слова в отдельном тексте, а IDF отражает частоту его употребления во всём корпусе.\n",
    "\n",
    "_Примечание_: бóльшая величина TF-IDF говорит об уникальности слова в тексте по отношению к корпусу. Чем чаще оно встречается в конкретном тексте и реже в остальных, тем выше значение TF-IDF."
   ]
  },
  {
   "cell_type": "code",
   "execution_count": null,
   "metadata": {
    "colab": {
     "base_uri": "https://localhost:8080/"
    },
    "id": "0HdLO9A8C1u8",
    "outputId": "49eb4527-8ddf-4ddf-cacf-56c0826bcdbb"
   },
   "outputs": [],
   "source": [
    "# инициализация класса для лемматизации\n",
    "WNLemmatizer = nltk.stem.WordNetLemmatizer()\n",
    "nltk.download('wordnet')\n",
    "nltk.download('punkt')\n",
    "nltk.download('averaged_perceptron_tagger')\n",
    "\n",
    "# функция определение части речи\n",
    "def get_wordnet_pos(word):\n",
    "    tag = nltk.pos_tag([word])[0][1][0].upper()\n",
    "    tag_dict = {\"J\": wordnet.ADJ,\n",
    "                \"N\": wordnet.NOUN,\n",
    "                \"V\": wordnet.VERB,\n",
    "                \"R\": wordnet.ADV}\n",
    "    return tag_dict.get(tag, wordnet.NOUN)\n",
    "\n",
    "# функция лемматизации и очистки текста\n",
    "def lemm_clear_text(text):\n",
    "    word_list = nltk.word_tokenize(text)\n",
    "    lemm_text = ' '.join([WNLemmatizer.lemmatize(word, get_wordnet_pos(word)) for word in word_list])\n",
    "    lemm_text = re.sub(r'[^ a-zA-Z]', '', lemm_text)\n",
    "    lemm_text = lemm_text.split()\n",
    "    lemm_clear_text =  ' '.join(lemm_text)\n",
    "    return lemm_clear_text"
   ]
  },
  {
   "cell_type": "markdown",
   "metadata": {
    "id": "P9W4XZLAUHNx"
   },
   "source": [
    "Порядок работы функции лемматизации и очистки текста:\n",
    "1. исходный текст\n",
    "2. выделение слов и символов в самостоятельные объекты\n",
    "3. лемматизация слов по отдельности\n",
    "4. удаление посторонних символов и цифр\n",
    "5. удаление лишних пробелов. (выделение оставшиеся слов в самостоятельные объекты)\n",
    "6. финальное объединение слов в одно предложение"
   ]
  },
  {
   "cell_type": "code",
   "execution_count": 8,
   "metadata": {
    "colab": {
     "base_uri": "https://localhost:8080/",
     "height": 49,
     "referenced_widgets": [
      "ff4538ab03714ef7a65c93f503fcc65d",
      "6d5282f27c6f4bf9858e08408b25ec51",
      "2f3ee8da99724f2f8845fd5ecdfe680f",
      "8fb6c795b3fe44fd825e1c15fb9a86f1",
      "afa72b78ca2c4bd8bbf2c3bf632f07b8",
      "5dcbce49688d48299216757cb1423c5e",
      "4adfb2d0689b471b8f8360dab569a1db",
      "61cc6664c06144308bc399fa5e6cede8",
      "15f5dba3e1094f178164ae9032529530",
      "1d70c084cdad4433a245871d5c5617b3",
      "5739e20828284ab6b7dc608b52ec4c6a"
     ]
    },
    "id": "3AxHA2DrsUMx",
    "outputId": "05510509-5963-4afe-a337-2c713ae760d0"
   },
   "outputs": [
    {
     "data": {
      "application/vnd.jupyter.widget-view+json": {
       "model_id": "40ec9aca44254e1ba5fe77be6339329b",
       "version_major": 2,
       "version_minor": 0
      },
      "text/plain": [
       "  0%|          | 0/159292 [00:00<?, ?it/s]"
      ]
     },
     "metadata": {},
     "output_type": "display_data"
    }
   ],
   "source": [
    "# лемматизация текста\n",
    "tqdm.pandas()\n",
    "df['lemm_text'] = df['text'].progress_apply(lemm_clear_text)"
   ]
  },
  {
   "cell_type": "code",
   "execution_count": 12,
   "metadata": {},
   "outputs": [],
   "source": [
    "from random import random\n",
    "with open(f\"lemmatized_df_{random()}.pcl\", \"wb\") as f:\n",
    "    pickle.dump(df, f)"
   ]
  },
  {
   "cell_type": "code",
   "execution_count": 38,
   "metadata": {},
   "outputs": [],
   "source": [
    "with open(f\"lemmatized_df_0.6588497349996866.pcl\", \"rb\") as f:\n",
    "    df = pickle.load(f)"
   ]
  },
  {
   "cell_type": "code",
   "execution_count": 39,
   "metadata": {
    "colab": {
     "base_uri": "https://localhost:8080/"
    },
    "id": "spPAYaes_w7b",
    "outputId": "84eddbe2-c222-4ec8-98dd-7b1e1ef5cb72"
   },
   "outputs": [
    {
     "name": "stdout",
     "output_type": "stream",
     "text": [
      "Исходный текст: D'aww! He matches this background colour I'm seemingly stuck with. Thanks.  (talk) 21:51, January 11, 2016 (UTC)\n",
      "Лемматизированный: Daww He match this background colour I m seemingly stuck with Thanks talk January UTC\n"
     ]
    }
   ],
   "source": [
    "# пример лемматизации текста\n",
    "print('Исходный текст:', df.loc[1, 'text'])\n",
    "print('Лемматизированный:', df.loc[1, 'lemm_text'])"
   ]
  },
  {
   "cell_type": "markdown",
   "metadata": {
    "id": "8-j3-ikDM0R8"
   },
   "source": [
    "После лемматизации теста появились пропуски. Это комментарии состоящие только из цифр и символов. Для них не существуют леммы, и следовательно результатом лемматизации будет: `NaN`. Пример этих объектов приведён ниже. В дальнейгей работе они использованы не будут."
   ]
  },
  {
   "cell_type": "code",
   "execution_count": 40,
   "metadata": {
    "colab": {
     "base_uri": "https://localhost:8080/",
     "height": 585
    },
    "id": "-JVkvtKVMRil",
    "outputId": "4a564b70-b371-48f6-cea8-65a10c40cd4a"
   },
   "outputs": [
    {
     "name": "stdout",
     "output_type": "stream",
     "text": [
      "<class 'pandas.core.frame.DataFrame'>\n",
      "RangeIndex: 159292 entries, 0 to 159291\n",
      "Data columns (total 4 columns):\n",
      " #   Column      Non-Null Count   Dtype \n",
      "---  ------      --------------   ----- \n",
      " 0   Unnamed: 0  159292 non-null  int64 \n",
      " 1   text        159292 non-null  object\n",
      " 2   toxic       159292 non-null  int64 \n",
      " 3   lemm_text   159292 non-null  object\n",
      "dtypes: int64(2), object(2)\n",
      "memory usage: 4.9+ MB\n",
      "None\n"
     ]
    },
    {
     "data": {
      "text/html": [
       "<div>\n",
       "<style scoped>\n",
       "    .dataframe tbody tr th:only-of-type {\n",
       "        vertical-align: middle;\n",
       "    }\n",
       "\n",
       "    .dataframe tbody tr th {\n",
       "        vertical-align: top;\n",
       "    }\n",
       "\n",
       "    .dataframe thead th {\n",
       "        text-align: right;\n",
       "    }\n",
       "</style>\n",
       "<table border=\"1\" class=\"dataframe\">\n",
       "  <thead>\n",
       "    <tr style=\"text-align: right;\">\n",
       "      <th></th>\n",
       "      <th>Unnamed: 0</th>\n",
       "      <th>text</th>\n",
       "      <th>toxic</th>\n",
       "      <th>lemm_text</th>\n",
       "    </tr>\n",
       "  </thead>\n",
       "  <tbody>\n",
       "    <tr>\n",
       "      <th>4475</th>\n",
       "      <td>4475</td>\n",
       "      <td>1993\\n\\n1994\\n\\n1995\\n\\n1996\\n\\n1997\\n\\n1998\\n...</td>\n",
       "      <td>0</td>\n",
       "      <td></td>\n",
       "    </tr>\n",
       "    <tr>\n",
       "      <th>6289</th>\n",
       "      <td>6293</td>\n",
       "      <td>193.61.111.53  15:00</td>\n",
       "      <td>0</td>\n",
       "      <td></td>\n",
       "    </tr>\n",
       "    <tr>\n",
       "      <th>10193</th>\n",
       "      <td>10206</td>\n",
       "      <td>64.86.141.133\"</td>\n",
       "      <td>0</td>\n",
       "      <td></td>\n",
       "    </tr>\n",
       "    <tr>\n",
       "      <th>17280</th>\n",
       "      <td>17297</td>\n",
       "      <td>~ \\n\\n68.193.147.157</td>\n",
       "      <td>0</td>\n",
       "      <td></td>\n",
       "    </tr>\n",
       "    <tr>\n",
       "      <th>38743</th>\n",
       "      <td>38792</td>\n",
       "      <td>88.104.31.21\"</td>\n",
       "      <td>0</td>\n",
       "      <td></td>\n",
       "    </tr>\n",
       "    <tr>\n",
       "      <th>52336</th>\n",
       "      <td>52393</td>\n",
       "      <td>14:53,</td>\n",
       "      <td>0</td>\n",
       "      <td></td>\n",
       "    </tr>\n",
       "    <tr>\n",
       "      <th>53679</th>\n",
       "      <td>53740</td>\n",
       "      <td>92.24.199.233|92.24.199.233]]</td>\n",
       "      <td>0</td>\n",
       "      <td></td>\n",
       "    </tr>\n",
       "    <tr>\n",
       "      <th>61644</th>\n",
       "      <td>61711</td>\n",
       "      <td>\"\\n\\n 199.209.144.211  \"</td>\n",
       "      <td>0</td>\n",
       "      <td></td>\n",
       "    </tr>\n",
       "    <tr>\n",
       "      <th>82541</th>\n",
       "      <td>82619</td>\n",
       "      <td>\"\\n '''''' 2010/2013 \"</td>\n",
       "      <td>0</td>\n",
       "      <td></td>\n",
       "    </tr>\n",
       "    <tr>\n",
       "      <th>119018</th>\n",
       "      <td>119123</td>\n",
       "      <td>\"\"\"</td>\n",
       "      <td>1</td>\n",
       "      <td></td>\n",
       "    </tr>\n",
       "    <tr>\n",
       "      <th>137400</th>\n",
       "      <td>137547</td>\n",
       "      <td>== \"\"\"</td>\n",
       "      <td>0</td>\n",
       "      <td></td>\n",
       "    </tr>\n",
       "  </tbody>\n",
       "</table>\n",
       "</div>"
      ],
      "text/plain": [
       "        Unnamed: 0                                               text  toxic  \\\n",
       "4475          4475  1993\\n\\n1994\\n\\n1995\\n\\n1996\\n\\n1997\\n\\n1998\\n...      0   \n",
       "6289          6293                               193.61.111.53  15:00      0   \n",
       "10193        10206                                     64.86.141.133\"      0   \n",
       "17280        17297                               ~ \\n\\n68.193.147.157      0   \n",
       "38743        38792                                      88.104.31.21\"      0   \n",
       "52336        52393                                             14:53,      0   \n",
       "53679        53740                      92.24.199.233|92.24.199.233]]      0   \n",
       "61644        61711                           \"\\n\\n 199.209.144.211  \"      0   \n",
       "82541        82619                             \"\\n '''''' 2010/2013 \"      0   \n",
       "119018      119123                                                \"\"\"      1   \n",
       "137400      137547                                             == \"\"\"      0   \n",
       "\n",
       "       lemm_text  \n",
       "4475              \n",
       "6289              \n",
       "10193             \n",
       "17280             \n",
       "38743             \n",
       "52336             \n",
       "53679             \n",
       "61644             \n",
       "82541             \n",
       "119018            \n",
       "137400            "
      ]
     },
     "metadata": {},
     "output_type": "display_data"
    }
   ],
   "source": [
    "print(df.info())\n",
    "anomaly_index = df[(df['lemm_text'].isna()) | (df['lemm_text']=='')].index\n",
    "display(df.loc[anomaly_index])\n",
    "df.drop(index=anomaly_index, inplace=True)\n",
    "df.reset_index(drop=True, inplace=True)"
   ]
  },
  {
   "cell_type": "code",
   "execution_count": null,
   "metadata": {
    "colab": {
     "base_uri": "https://localhost:8080/"
    },
    "id": "qiE_EwwR1slh",
    "outputId": "46073565-3e8c-4130-81f8-1b315c9de4b0"
   },
   "outputs": [],
   "source": [
    "# скачивание стоп слов\n",
    "nltk.download('stopwords')\n",
    "stop_words = nltk.corpus.stopwords.words('english')\n",
    "\n",
    "# создание TF-IDF векторизатора с стоп словами (слова без смысловой нагрузки)\n",
    "count_tf_idf = TfidfVectorizer(stop_words=stop_words, ngram_range=(1,2))"
   ]
  },
  {
   "cell_type": "code",
   "execution_count": 18,
   "metadata": {
    "id": "lM8w61FO1znG"
   },
   "outputs": [],
   "source": [
    "# подготовка обучающей выборки\n",
    "target = df['toxic']\n",
    "features = df['lemm_text']\n",
    "RANDOM_STATE = 42\n",
    "\n",
    "# выделение тренировочной выборки\n",
    "X_train_tfidf, X_other, Y_train_tfidf, Y_other = train_test_split(features,\n",
    "                                                                  target,\n",
    "                                                                  stratify = target,\n",
    "                                                                  train_size = 0.80,\n",
    "                                                                  random_state = RANDOM_STATE)\n",
    "# выделение валидационной и тестовой выборок\n",
    "X_valid_tfidf, X_test_tfidf, Y_valid_tfidf, Y_test_tfidf = train_test_split(X_other,\n",
    "                                                                            Y_other,\n",
    "                                                                            stratify = Y_other,\n",
    "                                                                            test_size = 0.50,\n",
    "                                                                            random_state = RANDOM_STATE)"
   ]
  },
  {
   "cell_type": "code",
   "execution_count": 19,
   "metadata": {
    "colab": {
     "base_uri": "https://localhost:8080/"
    },
    "id": "qaSIw0Xsv02e",
    "outputId": "0901ad95-c58e-44f7-94ef-3ce759222658"
   },
   "outputs": [
    {
     "name": "stdout",
     "output_type": "stream",
     "text": [
      "Количество признаков: 2160914\n"
     ]
    }
   ],
   "source": [
    "# \"кодирование\" текста\n",
    "count_tf_idf.fit(X_train_tfidf)\n",
    "X_train_tfidf = count_tf_idf.transform(X_train_tfidf)\n",
    "X_valid_tfidf = count_tf_idf.transform(X_valid_tfidf)\n",
    "X_test_tfidf  = count_tf_idf.transform(X_test_tfidf)\n",
    "\n",
    "print('Количество признаков:', X_train_tfidf.shape[1])"
   ]
  },
  {
   "cell_type": "markdown",
   "metadata": {
    "id": "VzrMohy1YI_P"
   },
   "source": [
    "Далее следует тестирование преобразованного текста. Поскольку в датасете присутствует дисбаланс, а целевая метрика _F1_ демонстрирует условную параллельность _Recall_ и _Precision_.\n",
    "В дополнении к ней будет выводится значение этих метрик и применяться построение PR-кривой и значения порогов классификации.\n",
    "\n",
    "Для оценки качества преобразования, закодированный текст сразу будет тестироваться на следующих моделях классификации:\n",
    "- LogisticRegression;\n",
    "- CatBoostClassifier."
   ]
  },
  {
   "cell_type": "markdown",
   "metadata": {
    "id": "QpFT1R8oEAdp"
   },
   "source": [
    "<a id='section_3A'></a>\n",
    "### LogisticRegression"
   ]
  },
  {
   "cell_type": "code",
   "execution_count": 31,
   "metadata": {
    "id": "5UHmo0Y-oadW"
   },
   "outputs": [],
   "source": [
    "# объявление модели Логистической регрессии и её гиперпараметров\n",
    "LogRer_tfidf = LogisticRegression(C = 11.5,\n",
    "                                  solver = 'sag',\n",
    "                                  random_state = RANDOM_STATE)"
   ]
  },
  {
   "cell_type": "code",
   "execution_count": 41,
   "metadata": {
    "colab": {
     "base_uri": "https://localhost:8080/",
     "height": 616
    },
    "id": "S74d3sM7B7Ic",
    "outputId": "c01ec149-24b7-4eb6-e73c-eb998eec3dbc"
   },
   "outputs": [
    {
     "data": {
      "image/png": "[encoded data removed]",
      "text/plain": [
       "<Figure size 700x600 with 1 Axes>"
      ]
     },
     "metadata": {},
     "output_type": "display_data"
    },
    {
     "name": "stdout",
     "output_type": "stream",
     "text": [
      "F1 = 0.778\n",
      "Recall = 0.696\n",
      "Precision = 0.881\n"
     ]
    }
   ],
   "source": [
    "# тестирование TF-IDF на Logistic Regression\n",
    "LogRer_tfidf.fit(X_train_tfidf, Y_train_tfidf)\n",
    "prediction_valid = LogRer_tfidf.predict(X_valid_tfidf)\n",
    "proba_valid = LogRer_tfidf.predict_proba(X_valid_tfidf)\n",
    "precision, recall, thresholds = precision_recall_curve(Y_valid_tfidf, proba_valid[:, 1])\n",
    "\n",
    "# PR-кривая\n",
    "plt.figure(figsize=FIG_SIZE)\n",
    "plt.plot(recall, precision)\n",
    "plt.title('PR-кривая')\n",
    "plt.xlabel('Recall')\n",
    "plt.ylabel('Precision')\n",
    "plt.grid()\n",
    "plt.show()\n",
    "\n",
    "# метрики\n",
    "print('F1 = {:.3f}'.format(f1_score(Y_valid_tfidf, prediction_valid)))\n",
    "print('Recall = {:.3f}'.format(recall_score(Y_valid_tfidf, prediction_valid)))\n",
    "print('Precision = {:.3f}'.format(precision_score(Y_valid_tfidf, prediction_valid)))"
   ]
  },
  {
   "cell_type": "markdown",
   "metadata": {
    "id": "oRpcBXjGEQA1"
   },
   "source": [
    "<a id='section_3B'></a>\n",
    "### CatBoost"
   ]
  },
  {
   "cell_type": "code",
   "execution_count": 24,
   "metadata": {
    "id": "S7WHz4rWVMMo"
   },
   "outputs": [],
   "source": [
    "# модель градиентного бустинга CatBoost (CPU) 16 minutes\n",
    "CatBoost_tfidf = CatBoostClassifier(verbose = 100, # шаг вывода информации о процессе обучения\n",
    "                                    task_type = 'CPU', # среда работы модели\n",
    "                                    max_depth = 3, # макс. глубина базовых моделей\n",
    "                                    learning_rate = 0.9, # шаг градиентного бустинга\n",
    "                                    eval_metric = 'F1') # метрика оценки модели"
   ]
  },
  {
   "cell_type": "code",
   "execution_count": 25,
   "metadata": {
    "colab": {
     "base_uri": "https://localhost:8080/"
    },
    "id": "sSkIDy0f9WIY",
    "outputId": "aeed8886-b01b-46dd-fb5a-572c82fc979e",
    "scrolled": true
   },
   "outputs": [
    {
     "name": "stdout",
     "output_type": "stream",
     "text": [
      "0:\tlearn: 0.4030562\ttotal: 8.53s\tremaining: 2h 21m 59s\n",
      "100:\tlearn: 0.7792151\ttotal: 9m 19s\tremaining: 1h 22m 56s\n",
      "200:\tlearn: 0.8085016\ttotal: 18m 37s\tremaining: 1h 14m 1s\n",
      "300:\tlearn: 0.8261199\ttotal: 27m 52s\tremaining: 1h 4m 44s\n",
      "400:\tlearn: 0.8440849\ttotal: 37m 6s\tremaining: 55m 25s\n",
      "500:\tlearn: 0.8578056\ttotal: 46m 13s\tremaining: 46m 2s\n",
      "600:\tlearn: 0.8693862\ttotal: 55m 19s\tremaining: 36m 43s\n",
      "700:\tlearn: 0.8748666\ttotal: 1h 4m 27s\tremaining: 27m 29s\n",
      "800:\tlearn: 0.8795013\ttotal: 1h 13m 32s\tremaining: 18m 16s\n",
      "900:\tlearn: 0.8825914\ttotal: 1h 22m 27s\tremaining: 9m 3s\n",
      "999:\tlearn: 0.8880173\ttotal: 1h 31m 9s\tremaining: 0us\n"
     ]
    },
    {
     "data": {
      "text/plain": [
       "<catboost.core.CatBoostClassifier at 0x2418be2a050>"
      ]
     },
     "execution_count": 25,
     "metadata": {},
     "output_type": "execute_result"
    }
   ],
   "source": [
    "# обучение CatBoost на фичах TF-IDF\n",
    "CatBoost_tfidf.fit(X_train_tfidf, Y_train_tfidf)"
   ]
  },
  {
   "cell_type": "code",
   "execution_count": 26,
   "metadata": {
    "colab": {
     "base_uri": "https://localhost:8080/",
     "height": 616
    },
    "id": "2XKKFMGLFFzu",
    "outputId": "dc948360-e13b-4829-b5bf-b2c2bfdff9dc"
   },
   "outputs": [
    {
     "data": {
      "image/png": "[encoded data removed]",
      "text/plain": [
       "<Figure size 700x600 with 1 Axes>"
      ]
     },
     "metadata": {},
     "output_type": "display_data"
    },
    {
     "name": "stdout",
     "output_type": "stream",
     "text": [
      "F1 = 0.762\n",
      "Recall = 0.722\n",
      "Precision = 0.807\n"
     ]
    }
   ],
   "source": [
    "# тестирование TF-IDF на CatBoost\n",
    "prediction_valid = CatBoost_tfidf.predict(X_valid_tfidf)\n",
    "proba_valid = CatBoost_tfidf.predict_proba(X_valid_tfidf)\n",
    "precision, recall, thresholds = precision_recall_curve(Y_valid_tfidf, proba_valid[:, 1])\n",
    "\n",
    "# PR-кривая\n",
    "plt.figure(figsize=FIG_SIZE)\n",
    "plt.plot(recall, precision)\n",
    "plt.title('PR-кривая')\n",
    "plt.xlabel('Recall')\n",
    "plt.ylabel('Precision')\n",
    "plt.grid()\n",
    "plt.show()\n",
    "\n",
    "# метрики\n",
    "print('F1 = {:.3f}'.format(f1_score(Y_valid_tfidf, prediction_valid)))\n",
    "print('Recall = {:.3f}'.format(recall_score(Y_valid_tfidf, prediction_valid)))\n",
    "print('Precision = {:.3f}'.format(precision_score(Y_valid_tfidf, prediction_valid)))"
   ]
  },
  {
   "cell_type": "markdown",
   "metadata": {
    "id": "SlhYK4Uhagjp"
   },
   "source": [
    "**Итог:**\n",
    "- Лемматизация текста занимает продолжительное время.\n",
    "- Процесс векторизации подготовленного текста с помощью `TfidfVectorizer` - почти мгновенный. Слова, не имеющие смысловой нагрузки - удалены.\n",
    "- Логистическая регрессия имеет значение целевой метрики F1 = 0.78\n",
    "- Градиентный бустинг CatBoost F1 = 0.76, но время обучения на CPU 15 минут. Применение GPU требует большого объема ОП, что не позволяет его запустить на базовых мощностях [Google Colab](https://colab.research.google.com/).\n",
    "\n",
    "Ключевым недостатком является большое количество признаков и объём памяти, которую они занимают. Это затрудняет использование GPU, к примеру для ускорения обучения модели CatBoost.\n",
    "\n",
    "На данном этапе результат тестирования - приемлемый. Но необходимо учесть присутствующий дисбалланс классов. Этой теме будет посвящен отдельный раздел.\n",
    "\n",
    "___"
   ]
  },
  {
   "cell_type": "markdown",
   "metadata": {
    "id": "0veGy9HK5Ywj"
   },
   "source": [
    "<a id='section_4'></a>\n",
    "## Борьба с дисбалансом"
   ]
  },
  {
   "cell_type": "markdown",
   "metadata": {
    "id": "Hi9T11nqVB0a"
   },
   "source": [
    "<a id='section_5A'></a>\n",
    "### Баланс классов"
   ]
  },
  {
   "cell_type": "markdown",
   "metadata": {
    "id": "229G12nvKYfT"
   },
   "source": [
    "Использование встроенных средств модели, позволяющие стабилизировать разность между классами назначив им разные веса."
   ]
  },
  {
   "cell_type": "code",
   "execution_count": 42,
   "metadata": {
    "id": "URkjmsFKUSc4"
   },
   "outputs": [],
   "source": [
    "# объявление Логистической регрессии с балансом классов\n",
    "LR_balanced = LogisticRegression(solver = 'sag',\n",
    "                                 class_weight = 'balanced',\n",
    "                                 random_state = RANDOM_STATE)"
   ]
  },
  {
   "cell_type": "code",
   "execution_count": 43,
   "metadata": {
    "colab": {
     "base_uri": "https://localhost:8080/"
    },
    "id": "OTTYp3Mcc209",
    "outputId": "0fe44128-9668-4faf-aab6-36131b69530e"
   },
   "outputs": [
    {
     "name": "stdout",
     "output_type": "stream",
     "text": [
      "F1 = 0.742\n",
      "Recall = 0.828\n",
      "Precision = 0.673\n"
     ]
    }
   ],
   "source": [
    "# тестирование TF-IDF на Logistic Regression + баланс классов\n",
    "LR_balanced.fit(X_train_tfidf, Y_train_tfidf)\n",
    "balanced_prediction_valid = LR_balanced.predict(X_valid_tfidf)\n",
    "\n",
    "print('F1 = {:.3f}'.format(f1_score(Y_valid_tfidf, balanced_prediction_valid)))\n",
    "print('Recall = {:.3f}'.format(recall_score(Y_valid_tfidf, balanced_prediction_valid)))\n",
    "print('Precision = {:.3f}'.format(precision_score(Y_valid_tfidf, balanced_prediction_valid)))"
   ]
  },
  {
   "cell_type": "markdown",
   "metadata": {
    "id": "PrLBnWU6K13p"
   },
   "source": [
    "Если ранее наблюдались заниженные значения полноты (Recall), то балансировка классов, за счёт изменения их веса, изменила положение на противоположное. Метрика F1 понизилась."
   ]
  },
  {
   "cell_type": "markdown",
   "metadata": {
    "id": "NB2QfaGJVNiy"
   },
   "source": [
    "<a id='section_5B'></a>\n",
    "### Изменение порога классификации"
   ]
  },
  {
   "cell_type": "markdown",
   "metadata": {
    "id": "fkhi3bjBMH8q"
   },
   "source": [
    "Поскольку в датасете присутствуют 2 класса, то по-умолчанию объекты распределяются либо в один класс либо в другой с вероятностью 50%.\n",
    "\n",
    "Но в данной ситуации классы имеют разное соотношение друг к другу, а именно 1:9, не в пользу целевого класса (токсичные комментарии). В данном разделе будет смещаться порог классификации, ради повышения качества предсказания."
   ]
  },
  {
   "cell_type": "code",
   "execution_count": 44,
   "metadata": {
    "colab": {
     "base_uri": "https://localhost:8080/",
     "height": 66,
     "referenced_widgets": [
      "4336bdb944b74f1cbd0a6d5150e74ed2",
      "82e5fee8b9244d79998a0cd7e2f9181e",
      "f754d94498f040669b4f03446a6f092b",
      "de6d21bfc309409d8bd7a99de0a9ed6c",
      "df2506c4de80437eb909e9f24c503ed3",
      "76d89dce8257477e9922b859b6004b2c",
      "2037a78270d2460c97bf97abcf02f4aa",
      "6ff31141cabf459692ec629ff1daf05a",
      "4b7975bcf6454ed5aae6dc9453c92b12",
      "802a194cdfad405cbb6a54a4d15c480a",
      "020c52efbf1643aaa5b25cf601ba3e3e"
     ]
    },
    "id": "dLo4AtNBncY4",
    "outputId": "8fe31950-6812-44c0-9ec6-79489ccff51f"
   },
   "outputs": [
    {
     "data": {
      "application/vnd.jupyter.widget-view+json": {
       "model_id": "cd13a889aad8425cb9e6cef04449524a",
       "version_major": 2,
       "version_minor": 0
      },
      "text/plain": [
       "  0%|          | 0/15847 [00:00<?, ?it/s]"
      ]
     },
     "metadata": {},
     "output_type": "display_data"
    },
    {
     "name": "stdout",
     "output_type": "stream",
     "text": [
      "Наивысший показатель F1 = 0.789, при смещении порога до значения 0.35\n"
     ]
    }
   ],
   "source": [
    "# тестирование TF-IDF на Logistic Regression + смещение порога классификации (2 minutes)\n",
    "proba_valid = LogRer_tfidf.predict_proba(X_valid_tfidf)\n",
    "precision, recall, thresholds = precision_recall_curve(Y_valid_tfidf, proba_valid[:, 1])\n",
    "\n",
    "best_f1 = 0\n",
    "for threshold in tqdm(thresholds):\n",
    "    prediction_valid = proba_valid[:, 1] > threshold\n",
    "    f1 = f1_score(Y_valid_tfidf, prediction_valid)\n",
    "    if best_f1 < f1:\n",
    "        best_f1 = f1\n",
    "        best_threshold = threshold\n",
    "\n",
    "print(\"Наивысший показатель F1 = {:.3f}, при смещении порога до значения {:.2f}\".format(best_f1, best_threshold))"
   ]
  },
  {
   "cell_type": "code",
   "execution_count": 45,
   "metadata": {
    "colab": {
     "base_uri": "https://localhost:8080/",
     "height": 66,
     "referenced_widgets": [
      "a2096f5855b2406d9188fab4dcf4de16",
      "914ae68d767844409b8c8b48c9a99b7c",
      "1c94b9b1a7384c9486fe04457a483827",
      "802990d5617b40c9a09a17ffbe043dd0",
      "d1b4c0edfb754fe4a7006eec5f881fda",
      "fad4f2925fd24bc8996db7ff4f7e2744",
      "44d038a955d948018ce147e019a06182",
      "9e1ce26aefc44a8c847051b7f12ed8d7",
      "5c3146c7b11a4f3b995b9cbcefef89dd",
      "4331ba267a4e4fac81e5f2b7bb6bc639",
      "bbcd026e20194a25a9cd6a9ca617f49f"
     ]
    },
    "id": "mdTBIADNTJv2",
    "outputId": "046c4b19-2e35-4c03-a9ef-d692261d0653"
   },
   "outputs": [
    {
     "data": {
      "application/vnd.jupyter.widget-view+json": {
       "model_id": "0f24e58706c74be9927e65bcc32f4b94",
       "version_major": 2,
       "version_minor": 0
      },
      "text/plain": [
       "  0%|          | 0/9131 [00:00<?, ?it/s]"
      ]
     },
     "metadata": {},
     "output_type": "display_data"
    },
    {
     "name": "stdout",
     "output_type": "stream",
     "text": [
      "Наивысший показатель F1 = 0.765, при смещении порога до значения 0.53\n"
     ]
    }
   ],
   "source": [
    "# CatBoost TF-IDF + смещение порога классификации (1 minutes)\n",
    "proba_valid = CatBoost_tfidf.predict_proba(X_valid_tfidf)\n",
    "precision, recall, thresholds = precision_recall_curve(Y_valid_tfidf, proba_valid[:, 1])\n",
    "\n",
    "best_f1 = 0\n",
    "for threshold in tqdm(thresholds):\n",
    "    prediction_valid = proba_valid[:, 1] > threshold\n",
    "    f1 = f1_score(Y_valid_tfidf, prediction_valid)\n",
    "    if best_f1 < f1:\n",
    "        best_f1 = f1\n",
    "        best_threshold = threshold\n",
    "\n",
    "print(\"Наивысший показатель F1 = {:.3f}, при смещении порога до значения {:.2f}\".format(best_f1, best_threshold))"
   ]
  },
  {
   "cell_type": "markdown",
   "metadata": {
    "id": "RjIateRyMF_P"
   },
   "source": [
    "Смещение порога классификации однозначно помогает учесть дисбаланс и повысить численность верно классифицированных объектов."
   ]
  },
  {
   "cell_type": "markdown",
   "metadata": {
    "id": "PgOlJvlEFl0y"
   },
   "source": [
    "<a id='section_5C'></a>\n",
    "### Уменьшение выборки (DownSampling)"
   ]
  },
  {
   "cell_type": "markdown",
   "metadata": {
    "id": "x0uoDkp2OjWv"
   },
   "source": [
    "Поскольку исходный  датасет содержит большое количество объектов (160 тыс.), есть возможность воспользоваться этим, чтобы уменьшить многочисленный класс и воссоздать баланс."
   ]
  },
  {
   "cell_type": "code",
   "execution_count": 46,
   "metadata": {
    "id": "nY_tYuf2FlU0"
   },
   "outputs": [],
   "source": [
    "# деление признаков по классам\n",
    "target_1   = Y_train_tfidf[Y_train_tfidf == 1]\n",
    "target_0   = Y_train_tfidf[Y_train_tfidf == 0]\n",
    "features_1 = df.loc[target_1.index, 'lemm_text']\n",
    "features_0 = df.loc[target_0.index, 'lemm_text']\n",
    "\n",
    "# уменьшение выборки многочисленного класса\n",
    "Y_downsampled = pd.concat([target_0.sample(frac=(1/9),   random_state=RANDOM_STATE)] + [target_1])\n",
    "X_downsampled = pd.concat([features_0.sample(frac=(1/9), random_state=RANDOM_STATE)] + [features_1])\n",
    "X_downsampled = count_tf_idf.transform(X_downsampled)"
   ]
  },
  {
   "cell_type": "code",
   "execution_count": 47,
   "metadata": {
    "colab": {
     "base_uri": "https://localhost:8080/"
    },
    "id": "D9XSoUO4kJPI",
    "outputId": "24d89444-7d88-42df-bf39-be88790d723e"
   },
   "outputs": [
    {
     "name": "stdout",
     "output_type": "stream",
     "text": [
      "F1 = 0.664\n",
      "Recall = 0.850\n",
      "Precision = 0.544\n"
     ]
    }
   ],
   "source": [
    "# тестирование TF-IDF на Logistic Regression\n",
    "LogRer_tfidf_sd = LogisticRegression(solver = 'sag', random_state = RANDOM_STATE)\n",
    "LogRer_tfidf_sd.fit(X_downsampled, Y_downsampled)\n",
    "prediction_valid = LogRer_tfidf_sd.predict(X_valid_tfidf)\n",
    "proba_valid = LogRer_tfidf_sd.predict_proba(X_valid_tfidf)\n",
    "precision, recall, thresholds = precision_recall_curve(Y_valid_tfidf, proba_valid[:, 1])\n",
    "\n",
    "# метрики\n",
    "print('F1 = {:.3f}'.format(f1_score(Y_valid_tfidf, prediction_valid)))\n",
    "print('Recall = {:.3f}'.format(recall_score(Y_valid_tfidf, prediction_valid)))\n",
    "print('Precision = {:.3f}'.format(precision_score(Y_valid_tfidf, prediction_valid)))"
   ]
  },
  {
   "cell_type": "code",
   "execution_count": 48,
   "metadata": {
    "colab": {
     "base_uri": "https://localhost:8080/"
    },
    "id": "S_AQV3ySbjmE",
    "outputId": "31c8829f-dfba-40e3-bd08-bc57bd6a8149"
   },
   "outputs": [
    {
     "name": "stdout",
     "output_type": "stream",
     "text": [
      "Learning rate set to 0.041186\n",
      "0:\tlearn: 0.5481803\ttotal: 8.36s\tremaining: 2h 19m 6s\n",
      "100:\tlearn: 0.7994419\ttotal: 3m 57s\tremaining: 35m 12s\n",
      "200:\tlearn: 0.8373786\ttotal: 7m 57s\tremaining: 31m 38s\n",
      "300:\tlearn: 0.8612570\ttotal: 12m 2s\tremaining: 27m 57s\n",
      "400:\tlearn: 0.8777555\ttotal: 16m 3s\tremaining: 23m 59s\n",
      "500:\tlearn: 0.8902121\ttotal: 20m 2s\tremaining: 19m 57s\n",
      "600:\tlearn: 0.8992534\ttotal: 24m 1s\tremaining: 15m 56s\n",
      "700:\tlearn: 0.9063062\ttotal: 27m 58s\tremaining: 11m 55s\n",
      "800:\tlearn: 0.9116869\ttotal: 31m 54s\tremaining: 7m 55s\n",
      "900:\tlearn: 0.9169976\ttotal: 35m 48s\tremaining: 3m 56s\n",
      "999:\tlearn: 0.9222370\ttotal: 39m 40s\tremaining: 0us\n"
     ]
    },
    {
     "data": {
      "text/plain": [
       "<catboost.core.CatBoostClassifier at 0x241e2ad7510>"
      ]
     },
     "execution_count": 48,
     "metadata": {},
     "output_type": "execute_result"
    }
   ],
   "source": [
    "# обучение CatBoost на ресемплированных фичах TF-IDF\n",
    "CatBoost_tfidf_sd = CatBoostClassifier(verbose = 100, eval_metric = 'F1', early_stopping_rounds = 200)\n",
    "CatBoost_tfidf_sd.fit(X_downsampled, Y_downsampled)"
   ]
  },
  {
   "cell_type": "code",
   "execution_count": 52,
   "metadata": {
    "colab": {
     "base_uri": "https://localhost:8080/"
    },
    "id": "afWbc4l6kJPT",
    "outputId": "2a73631b-e0f2-4844-fd85-95884071c4d7"
   },
   "outputs": [
    {
     "name": "stdout",
     "output_type": "stream",
     "text": [
      "F1 = 0.762\n",
      "Recall = 0.722\n",
      "Precision = 0.807\n"
     ]
    }
   ],
   "source": [
    "# тестирование TF-IDF на CatBoost (CPU)\n",
    "prediction_valid = CatBoost_tfidf.predict(X_valid_tfidf)\n",
    "proba_valid = CatBoost_tfidf.predict_proba(X_valid_tfidf)\n",
    "\n",
    "# метрики\n",
    "print('F1 = {:.3f}'.format(f1_score(Y_valid_tfidf, prediction_valid)))\n",
    "print('Recall = {:.3f}'.format(recall_score(Y_valid_tfidf, prediction_valid)))\n",
    "print('Precision = {:.3f}'.format(precision_score(Y_valid_tfidf, prediction_valid)))"
   ]
  },
  {
   "cell_type": "markdown",
   "metadata": {
    "id": "iWKQp1yQPDjD"
   },
   "source": [
    "Уменьшение выборки не позволило повысить значения рассматриваемых метрик, и фактически результат искусственный, поскольку игнорирует действительность.\n",
    "___"
   ]
  },
  {
   "cell_type": "markdown",
   "metadata": {
    "id": "09cqiXhw03EA"
   },
   "source": [
    "<a id='section_6'></a>\n",
    "## Итоговое тестирование"
   ]
  },
  {
   "cell_type": "code",
   "execution_count": 60,
   "metadata": {
    "colab": {
     "base_uri": "https://localhost:8080/",
     "height": 616
    },
    "id": "imE6abOXgbe0",
    "outputId": "23a43980-0a86-4818-ffb0-99c45248047a"
   },
   "outputs": [
    {
     "data": {
      "image/png": "[encoded data removed]",
      "text/plain": [
       "<Figure size 700x600 with 1 Axes>"
      ]
     },
     "metadata": {},
     "output_type": "display_data"
    },
    {
     "name": "stdout",
     "output_type": "stream",
     "text": [
      "F1 = 0.782\n",
      "Recall = 0.725\n",
      "Precision = 0.849\n"
     ]
    }
   ],
   "source": [
    "# финальный тест TF-IDF на Logistic Regression + смещение порога классификации\n",
    "proba_test = LogRer_tfidf.predict_proba(X_test_tfidf)\n",
    "prediction_test = proba_test[:, 1] > 0.4\n",
    "precision, recall, thresholds = precision_recall_curve(Y_valid_tfidf, proba_valid[:, 1])\n",
    "\n",
    "# PR-кривая\n",
    "plt.figure(figsize=FIG_SIZE)\n",
    "plt.plot(recall, precision)\n",
    "plt.title('PR-кривая')\n",
    "plt.xlabel('Recall')\n",
    "plt.ylabel('Precision')\n",
    "plt.grid()\n",
    "plt.show()\n",
    "\n",
    "# метрики\n",
    "print('F1 = {:.3f}'.format(f1_score(Y_test_tfidf, prediction_test)))\n",
    "print('Recall = {:.3f}'.format(recall_score(Y_test_tfidf, prediction_test)))\n",
    "print('Precision = {:.3f}'.format(precision_score(Y_test_tfidf, prediction_test)))"
   ]
  },
  {
   "cell_type": "code",
   "execution_count": 54,
   "metadata": {
    "colab": {
     "base_uri": "https://localhost:8080/",
     "height": 616
    },
    "id": "pQSnx_bnQpow",
    "outputId": "b467756d-4ee1-44fa-a39b-ed010cfd9e06"
   },
   "outputs": [
    {
     "data": {
      "image/png": "[encoded data removed]",
      "text/plain": [
       "<Figure size 700x600 with 1 Axes>"
      ]
     },
     "metadata": {},
     "output_type": "display_data"
    },
    {
     "name": "stdout",
     "output_type": "stream",
     "text": [
      "F1 = 0.773\n",
      "Recall = 0.749\n",
      "Precision = 0.798\n"
     ]
    }
   ],
   "source": [
    "# финальный тест TF-IDF на CatBoost + смещение порога классификации\n",
    "proba_test = CatBoost_tfidf.predict_proba(X_test_tfidf)\n",
    "prediction_test = proba_test[:, 1] > 0.49\n",
    "precision, recall, thresholds = precision_recall_curve(Y_valid_tfidf, proba_valid[:, 1])\n",
    "\n",
    "# PR-кривая\n",
    "plt.figure(figsize=FIG_SIZE)\n",
    "plt.plot(recall, precision)\n",
    "plt.title('PR-кривая')\n",
    "plt.xlabel('Recall')\n",
    "plt.ylabel('Precision')\n",
    "plt.grid()\n",
    "plt.show()\n",
    "\n",
    "# метрики\n",
    "print('F1 = {:.3f}'.format(f1_score(Y_test_tfidf, prediction_test)))\n",
    "print('Recall = {:.3f}'.format(recall_score(Y_test_tfidf, prediction_test)))\n",
    "print('Precision = {:.3f}'.format(precision_score(Y_test_tfidf, prediction_test)))"
   ]
  },
  {
   "cell_type": "markdown",
   "metadata": {
    "id": "Wlqudol1mkq8"
   },
   "source": [
    "**Выводы**\n",
    "\n",
    "Можно выделить основные критерии оценки модели:\n",
    "- Время и ресурсы кодирование текста\n",
    "- Время и ресурсы обучения модели\n",
    "- Время предсказания\n",
    "- Итоговое значение метрики\n",
    "\n",
    "**Логистическая регрессия в кооперативе с TF-IDF векторизатором** являются наилучшим результатом (_F1 =  0.782_), поскольку обучение регрессии быстрое, предсказание - мгновенное. Для работы такой пары не требуется GPU в качестве аппаратного ускорителя. Итоговое значение метрики F1 выше у Логистической регрессии, и в добавок метрики более _сбалансированны_, если посмотреть на значения Recall и Precision.\n",
    "\n",
    "Модель **CatBoost** может выдать предсказания более высшего качества, но для этого требуется более кропотливая настройка её гиперпараметров и дополнительное время работы. Процесс сильно зависим от технических мощностей компьютера/сервера."
   ]
  },
  {
   "cell_type": "code",
   "execution_count": null,
   "metadata": {},
   "outputs": [],
   "source": []
  }
 ],
 "metadata": {
  "accelerator": "GPU",
  "colab": {
   "collapsed_sections": [
    "XM8wNiE903D3",
    "-TKA7ipV03D6"
   ],
   "gpuType": "T4",
   "provenance": []
  },
  "kernelspec": {
   "display_name": "Python 3 (ipykernel)",
   "language": "python",
   "name": "python3"
  },
  "language_info": {
   "codemirror_mode": {
    "name": "ipython",
    "version": 3
   },
   "file_extension": ".py",
   "mimetype": "text/x-python",
   "name": "python",
   "nbconvert_exporter": "python",
   "pygments_lexer": "ipython3",
   "version": "3.11.3"
  },
  "toc": {
   "base_numbering": 1,
   "nav_menu": {},
   "number_sections": true,
   "sideBar": true,
   "skip_h1_title": true,
   "title_cell": "Содержание",
   "title_sidebar": "Contents",
   "toc_cell": true,
   "toc_position": {
    "height": "calc(100% - 180px)",
    "left": "10px",
    "top": "150px",
    "width": "302.391px"
   },
   "toc_section_display": true,
   "toc_window_display": false
  },
  "widgets": {
   "application/vnd.jupyter.widget-state+json": {
    "020c52efbf1643aaa5b25cf601ba3e3e": {
     "model_module": "@jupyter-widgets/controls",
     "model_module_version": "1.5.0",
     "model_name": "DescriptionStyleModel",
     "state": {
      "_model_module": "@jupyter-widgets/controls",
      "_model_module_version": "1.5.0",
      "_model_name": "DescriptionStyleModel",
      "_view_count": null,
      "_view_module": "@jupyter-widgets/base",
      "_view_module_version": "1.2.0",
      "_view_name": "StyleView",
      "description_width": ""
     }
    },
    "04373177e9a24be19bc8523b32579a33": {
     "model_module": "@jupyter-widgets/base",
     "model_module_version": "1.2.0",
     "model_name": "LayoutModel",
     "state": {
      "_model_module": "@jupyter-widgets/base",
      "_model_module_version": "1.2.0",
      "_model_name": "LayoutModel",
      "_view_count": null,
      "_view_module": "@jupyter-widgets/base",
      "_view_module_version": "1.2.0",
      "_view_name": "LayoutView",
      "align_content": null,
      "align_items": null,
      "align_self": null,
      "border": null,
      "bottom": null,
      "display": null,
      "flex": null,
      "flex_flow": null,
      "grid_area": null,
      "grid_auto_columns": null,
      "grid_auto_flow": null,
      "grid_auto_rows": null,
      "grid_column": null,
      "grid_gap": null,
      "grid_row": null,
      "grid_template_areas": null,
      "grid_template_columns": null,
      "grid_template_rows": null,
      "height": null,
      "justify_content": null,
      "justify_items": null,
      "left": null,
      "margin": null,
      "max_height": null,
      "max_width": null,
      "min_height": null,
      "min_width": null,
      "object_fit": null,
      "object_position": null,
      "order": null,
      "overflow": null,
      "overflow_x": null,
      "overflow_y": null,
      "padding": null,
      "right": null,
      "top": null,
      "visibility": null,
      "width": null
     }
    },
    "122a192bb5164888a179a630088733c8": {
     "model_module": "@jupyter-widgets/controls",
     "model_module_version": "1.5.0",
     "model_name": "DescriptionStyleModel",
     "state": {
      "_model_module": "@jupyter-widgets/controls",
      "_model_module_version": "1.5.0",
      "_model_name": "DescriptionStyleModel",
      "_view_count": null,
      "_view_module": "@jupyter-widgets/base",
      "_view_module_version": "1.2.0",
      "_view_name": "StyleView",
      "description_width": ""
     }
    },
    "15f5dba3e1094f178164ae9032529530": {
     "model_module": "@jupyter-widgets/controls",
     "model_module_version": "1.5.0",
     "model_name": "ProgressStyleModel",
     "state": {
      "_model_module": "@jupyter-widgets/controls",
      "_model_module_version": "1.5.0",
      "_model_name": "ProgressStyleModel",
      "_view_count": null,
      "_view_module": "@jupyter-widgets/base",
      "_view_module_version": "1.2.0",
      "_view_name": "StyleView",
      "bar_color": null,
      "description_width": ""
     }
    },
    "1c94b9b1a7384c9486fe04457a483827": {
     "model_module": "@jupyter-widgets/controls",
     "model_module_version": "1.5.0",
     "model_name": "FloatProgressModel",
     "state": {
      "_dom_classes": [],
      "_model_module": "@jupyter-widgets/controls",
      "_model_module_version": "1.5.0",
      "_model_name": "FloatProgressModel",
      "_view_count": null,
      "_view_module": "@jupyter-widgets/controls",
      "_view_module_version": "1.5.0",
      "_view_name": "ProgressView",
      "bar_style": "success",
      "description": "",
      "description_tooltip": null,
      "layout": "IPY_MODEL_9e1ce26aefc44a8c847051b7f12ed8d7",
      "max": 10999,
      "min": 0,
      "orientation": "horizontal",
      "style": "IPY_MODEL_5c3146c7b11a4f3b995b9cbcefef89dd",
      "value": 10999
     }
    },
    "1d70c084cdad4433a245871d5c5617b3": {
     "model_module": "@jupyter-widgets/base",
     "model_module_version": "1.2.0",
     "model_name": "LayoutModel",
     "state": {
      "_model_module": "@jupyter-widgets/base",
      "_model_module_version": "1.2.0",
      "_model_name": "LayoutModel",
      "_view_count": null,
      "_view_module": "@jupyter-widgets/base",
      "_view_module_version": "1.2.0",
      "_view_name": "LayoutView",
      "align_content": null,
      "align_items": null,
      "align_self": null,
      "border": null,
      "bottom": null,
      "display": null,
      "flex": null,
      "flex_flow": null,
      "grid_area": null,
      "grid_auto_columns": null,
      "grid_auto_flow": null,
      "grid_auto_rows": null,
      "grid_column": null,
      "grid_gap": null,
      "grid_row": null,
      "grid_template_areas": null,
      "grid_template_columns": null,
      "grid_template_rows": null,
      "height": null,
      "justify_content": null,
      "justify_items": null,
      "left": null,
      "margin": null,
      "max_height": null,
      "max_width": null,
      "min_height": null,
      "min_width": null,
      "object_fit": null,
      "object_position": null,
      "order": null,
      "overflow": null,
      "overflow_x": null,
      "overflow_y": null,
      "padding": null,
      "right": null,
      "top": null,
      "visibility": null,
      "width": null
     }
    },
    "2037a78270d2460c97bf97abcf02f4aa": {
     "model_module": "@jupyter-widgets/controls",
     "model_module_version": "1.5.0",
     "model_name": "DescriptionStyleModel",
     "state": {
      "_model_module": "@jupyter-widgets/controls",
      "_model_module_version": "1.5.0",
      "_model_name": "DescriptionStyleModel",
      "_view_count": null,
      "_view_module": "@jupyter-widgets/base",
      "_view_module_version": "1.2.0",
      "_view_name": "StyleView",
      "description_width": ""
     }
    },
    "20578416ef234fe2a279cb5bb2564b44": {
     "model_module": "@jupyter-widgets/controls",
     "model_module_version": "1.5.0",
     "model_name": "DescriptionStyleModel",
     "state": {
      "_model_module": "@jupyter-widgets/controls",
      "_model_module_version": "1.5.0",
      "_model_name": "DescriptionStyleModel",
      "_view_count": null,
      "_view_module": "@jupyter-widgets/base",
      "_view_module_version": "1.2.0",
      "_view_name": "StyleView",
      "description_width": ""
     }
    },
    "269c19a7f30c4670a4c7c961611a8118": {
     "model_module": "@jupyter-widgets/controls",
     "model_module_version": "1.5.0",
     "model_name": "DescriptionStyleModel",
     "state": {
      "_model_module": "@jupyter-widgets/controls",
      "_model_module_version": "1.5.0",
      "_model_name": "DescriptionStyleModel",
      "_view_count": null,
      "_view_module": "@jupyter-widgets/base",
      "_view_module_version": "1.2.0",
      "_view_name": "StyleView",
      "description_width": ""
     }
    },
    "2f3ee8da99724f2f8845fd5ecdfe680f": {
     "model_module": "@jupyter-widgets/controls",
     "model_module_version": "1.5.0",
     "model_name": "FloatProgressModel",
     "state": {
      "_dom_classes": [],
      "_model_module": "@jupyter-widgets/controls",
      "_model_module_version": "1.5.0",
      "_model_name": "FloatProgressModel",
      "_view_count": null,
      "_view_module": "@jupyter-widgets/controls",
      "_view_module_version": "1.5.0",
      "_view_name": "ProgressView",
      "bar_style": "success",
      "description": "",
      "description_tooltip": null,
      "layout": "IPY_MODEL_61cc6664c06144308bc399fa5e6cede8",
      "max": 159292,
      "min": 0,
      "orientation": "horizontal",
      "style": "IPY_MODEL_15f5dba3e1094f178164ae9032529530",
      "value": 159292
     }
    },
    "3c95038355a5418caacbff4534193451": {
     "model_module": "@jupyter-widgets/base",
     "model_module_version": "1.2.0",
     "model_name": "LayoutModel",
     "state": {
      "_model_module": "@jupyter-widgets/base",
      "_model_module_version": "1.2.0",
      "_model_name": "LayoutModel",
      "_view_count": null,
      "_view_module": "@jupyter-widgets/base",
      "_view_module_version": "1.2.0",
      "_view_name": "LayoutView",
      "align_content": null,
      "align_items": null,
      "align_self": null,
      "border": null,
      "bottom": null,
      "display": null,
      "flex": null,
      "flex_flow": null,
      "grid_area": null,
      "grid_auto_columns": null,
      "grid_auto_flow": null,
      "grid_auto_rows": null,
      "grid_column": null,
      "grid_gap": null,
      "grid_row": null,
      "grid_template_areas": null,
      "grid_template_columns": null,
      "grid_template_rows": null,
      "height": null,
      "justify_content": null,
      "justify_items": null,
      "left": null,
      "margin": null,
      "max_height": null,
      "max_width": null,
      "min_height": null,
      "min_width": null,
      "object_fit": null,
      "object_position": null,
      "order": null,
      "overflow": null,
      "overflow_x": null,
      "overflow_y": null,
      "padding": null,
      "right": null,
      "top": null,
      "visibility": null,
      "width": null
     }
    },
    "3fe56e67ba634ba9b2b8a2c0f515ef3c": {
     "model_module": "@jupyter-widgets/base",
     "model_module_version": "1.2.0",
     "model_name": "LayoutModel",
     "state": {
      "_model_module": "@jupyter-widgets/base",
      "_model_module_version": "1.2.0",
      "_model_name": "LayoutModel",
      "_view_count": null,
      "_view_module": "@jupyter-widgets/base",
      "_view_module_version": "1.2.0",
      "_view_name": "LayoutView",
      "align_content": null,
      "align_items": null,
      "align_self": null,
      "border": null,
      "bottom": null,
      "display": null,
      "flex": null,
      "flex_flow": null,
      "grid_area": null,
      "grid_auto_columns": null,
      "grid_auto_flow": null,
      "grid_auto_rows": null,
      "grid_column": null,
      "grid_gap": null,
      "grid_row": null,
      "grid_template_areas": null,
      "grid_template_columns": null,
      "grid_template_rows": null,
      "height": null,
      "justify_content": null,
      "justify_items": null,
      "left": null,
      "margin": null,
      "max_height": null,
      "max_width": null,
      "min_height": null,
      "min_width": null,
      "object_fit": null,
      "object_position": null,
      "order": null,
      "overflow": null,
      "overflow_x": null,
      "overflow_y": null,
      "padding": null,
      "right": null,
      "top": null,
      "visibility": null,
      "width": null
     }
    },
    "4331ba267a4e4fac81e5f2b7bb6bc639": {
     "model_module": "@jupyter-widgets/base",
     "model_module_version": "1.2.0",
     "model_name": "LayoutModel",
     "state": {
      "_model_module": "@jupyter-widgets/base",
      "_model_module_version": "1.2.0",
      "_model_name": "LayoutModel",
      "_view_count": null,
      "_view_module": "@jupyter-widgets/base",
      "_view_module_version": "1.2.0",
      "_view_name": "LayoutView",
      "align_content": null,
      "align_items": null,
      "align_self": null,
      "border": null,
      "bottom": null,
      "display": null,
      "flex": null,
      "flex_flow": null,
      "grid_area": null,
      "grid_auto_columns": null,
      "grid_auto_flow": null,
      "grid_auto_rows": null,
      "grid_column": null,
      "grid_gap": null,
      "grid_row": null,
      "grid_template_areas": null,
      "grid_template_columns": null,
      "grid_template_rows": null,
      "height": null,
      "justify_content": null,
      "justify_items": null,
      "left": null,
      "margin": null,
      "max_height": null,
      "max_width": null,
      "min_height": null,
      "min_width": null,
      "object_fit": null,
      "object_position": null,
      "order": null,
      "overflow": null,
      "overflow_x": null,
      "overflow_y": null,
      "padding": null,
      "right": null,
      "top": null,
      "visibility": null,
      "width": null
     }
    },
    "4336bdb944b74f1cbd0a6d5150e74ed2": {
     "model_module": "@jupyter-widgets/controls",
     "model_module_version": "1.5.0",
     "model_name": "HBoxModel",
     "state": {
      "_dom_classes": [],
      "_model_module": "@jupyter-widgets/controls",
      "_model_module_version": "1.5.0",
      "_model_name": "HBoxModel",
      "_view_count": null,
      "_view_module": "@jupyter-widgets/controls",
      "_view_module_version": "1.5.0",
      "_view_name": "HBoxView",
      "box_style": "",
      "children": [
       "IPY_MODEL_82e5fee8b9244d79998a0cd7e2f9181e",
       "IPY_MODEL_f754d94498f040669b4f03446a6f092b",
       "IPY_MODEL_de6d21bfc309409d8bd7a99de0a9ed6c"
      ],
      "layout": "IPY_MODEL_df2506c4de80437eb909e9f24c503ed3"
     }
    },
    "44d038a955d948018ce147e019a06182": {
     "model_module": "@jupyter-widgets/controls",
     "model_module_version": "1.5.0",
     "model_name": "DescriptionStyleModel",
     "state": {
      "_model_module": "@jupyter-widgets/controls",
      "_model_module_version": "1.5.0",
      "_model_name": "DescriptionStyleModel",
      "_view_count": null,
      "_view_module": "@jupyter-widgets/base",
      "_view_module_version": "1.2.0",
      "_view_name": "StyleView",
      "description_width": ""
     }
    },
    "46f75b5d759e4b34b2cfa8a125ba8e45": {
     "model_module": "@jupyter-widgets/base",
     "model_module_version": "1.2.0",
     "model_name": "LayoutModel",
     "state": {
      "_model_module": "@jupyter-widgets/base",
      "_model_module_version": "1.2.0",
      "_model_name": "LayoutModel",
      "_view_count": null,
      "_view_module": "@jupyter-widgets/base",
      "_view_module_version": "1.2.0",
      "_view_name": "LayoutView",
      "align_content": null,
      "align_items": null,
      "align_self": null,
      "border": null,
      "bottom": null,
      "display": null,
      "flex": null,
      "flex_flow": null,
      "grid_area": null,
      "grid_auto_columns": null,
      "grid_auto_flow": null,
      "grid_auto_rows": null,
      "grid_column": null,
      "grid_gap": null,
      "grid_row": null,
      "grid_template_areas": null,
      "grid_template_columns": null,
      "grid_template_rows": null,
      "height": null,
      "justify_content": null,
      "justify_items": null,
      "left": null,
      "margin": null,
      "max_height": null,
      "max_width": null,
      "min_height": null,
      "min_width": null,
      "object_fit": null,
      "object_position": null,
      "order": null,
      "overflow": null,
      "overflow_x": null,
      "overflow_y": null,
      "padding": null,
      "right": null,
      "top": null,
      "visibility": null,
      "width": null
     }
    },
    "4adfb2d0689b471b8f8360dab569a1db": {
     "model_module": "@jupyter-widgets/controls",
     "model_module_version": "1.5.0",
     "model_name": "DescriptionStyleModel",
     "state": {
      "_model_module": "@jupyter-widgets/controls",
      "_model_module_version": "1.5.0",
      "_model_name": "DescriptionStyleModel",
      "_view_count": null,
      "_view_module": "@jupyter-widgets/base",
      "_view_module_version": "1.2.0",
      "_view_name": "StyleView",
      "description_width": ""
     }
    },
    "4b7975bcf6454ed5aae6dc9453c92b12": {
     "model_module": "@jupyter-widgets/controls",
     "model_module_version": "1.5.0",
     "model_name": "ProgressStyleModel",
     "state": {
      "_model_module": "@jupyter-widgets/controls",
      "_model_module_version": "1.5.0",
      "_model_name": "ProgressStyleModel",
      "_view_count": null,
      "_view_module": "@jupyter-widgets/base",
      "_view_module_version": "1.2.0",
      "_view_name": "StyleView",
      "bar_color": null,
      "description_width": ""
     }
    },
    "4d24560933f0436cac3690fbecb6cd5e": {
     "model_module": "@jupyter-widgets/controls",
     "model_module_version": "1.5.0",
     "model_name": "ProgressStyleModel",
     "state": {
      "_model_module": "@jupyter-widgets/controls",
      "_model_module_version": "1.5.0",
      "_model_name": "ProgressStyleModel",
      "_view_count": null,
      "_view_module": "@jupyter-widgets/base",
      "_view_module_version": "1.2.0",
      "_view_name": "StyleView",
      "bar_color": null,
      "description_width": ""
     }
    },
    "56965969dcd441c0b7e8a3170490d5f9": {
     "model_module": "@jupyter-widgets/controls",
     "model_module_version": "1.5.0",
     "model_name": "HTMLModel",
     "state": {
      "_dom_classes": [],
      "_model_module": "@jupyter-widgets/controls",
      "_model_module_version": "1.5.0",
      "_model_name": "HTMLModel",
      "_view_count": null,
      "_view_module": "@jupyter-widgets/controls",
      "_view_module_version": "1.5.0",
      "_view_name": "HTMLView",
      "description": "",
      "description_tooltip": null,
      "layout": "IPY_MODEL_04373177e9a24be19bc8523b32579a33",
      "placeholder": "​",
      "style": "IPY_MODEL_269c19a7f30c4670a4c7c961611a8118",
      "value": " 15923/15923 [02:02&lt;00:00, 190.98it/s]"
     }
    },
    "5739e20828284ab6b7dc608b52ec4c6a": {
     "model_module": "@jupyter-widgets/controls",
     "model_module_version": "1.5.0",
     "model_name": "DescriptionStyleModel",
     "state": {
      "_model_module": "@jupyter-widgets/controls",
      "_model_module_version": "1.5.0",
      "_model_name": "DescriptionStyleModel",
      "_view_count": null,
      "_view_module": "@jupyter-widgets/base",
      "_view_module_version": "1.2.0",
      "_view_name": "StyleView",
      "description_width": ""
     }
    },
    "5c3146c7b11a4f3b995b9cbcefef89dd": {
     "model_module": "@jupyter-widgets/controls",
     "model_module_version": "1.5.0",
     "model_name": "ProgressStyleModel",
     "state": {
      "_model_module": "@jupyter-widgets/controls",
      "_model_module_version": "1.5.0",
      "_model_name": "ProgressStyleModel",
      "_view_count": null,
      "_view_module": "@jupyter-widgets/base",
      "_view_module_version": "1.2.0",
      "_view_name": "StyleView",
      "bar_color": null,
      "description_width": ""
     }
    },
    "5dcbce49688d48299216757cb1423c5e": {
     "model_module": "@jupyter-widgets/base",
     "model_module_version": "1.2.0",
     "model_name": "LayoutModel",
     "state": {
      "_model_module": "@jupyter-widgets/base",
      "_model_module_version": "1.2.0",
      "_model_name": "LayoutModel",
      "_view_count": null,
      "_view_module": "@jupyter-widgets/base",
      "_view_module_version": "1.2.0",
      "_view_name": "LayoutView",
      "align_content": null,
      "align_items": null,
      "align_self": null,
      "border": null,
      "bottom": null,
      "display": null,
      "flex": null,
      "flex_flow": null,
      "grid_area": null,
      "grid_auto_columns": null,
      "grid_auto_flow": null,
      "grid_auto_rows": null,
      "grid_column": null,
      "grid_gap": null,
      "grid_row": null,
      "grid_template_areas": null,
      "grid_template_columns": null,
      "grid_template_rows": null,
      "height": null,
      "justify_content": null,
      "justify_items": null,
      "left": null,
      "margin": null,
      "max_height": null,
      "max_width": null,
      "min_height": null,
      "min_width": null,
      "object_fit": null,
      "object_position": null,
      "order": null,
      "overflow": null,
      "overflow_x": null,
      "overflow_y": null,
      "padding": null,
      "right": null,
      "top": null,
      "visibility": null,
      "width": null
     }
    },
    "6133abb22fff486ea3b45dc1e7917b80": {
     "model_module": "@jupyter-widgets/base",
     "model_module_version": "1.2.0",
     "model_name": "LayoutModel",
     "state": {
      "_model_module": "@jupyter-widgets/base",
      "_model_module_version": "1.2.0",
      "_model_name": "LayoutModel",
      "_view_count": null,
      "_view_module": "@jupyter-widgets/base",
      "_view_module_version": "1.2.0",
      "_view_name": "LayoutView",
      "align_content": null,
      "align_items": null,
      "align_self": null,
      "border": null,
      "bottom": null,
      "display": null,
      "flex": null,
      "flex_flow": null,
      "grid_area": null,
      "grid_auto_columns": null,
      "grid_auto_flow": null,
      "grid_auto_rows": null,
      "grid_column": null,
      "grid_gap": null,
      "grid_row": null,
      "grid_template_areas": null,
      "grid_template_columns": null,
      "grid_template_rows": null,
      "height": null,
      "justify_content": null,
      "justify_items": null,
      "left": null,
      "margin": null,
      "max_height": null,
      "max_width": null,
      "min_height": null,
      "min_width": null,
      "object_fit": null,
      "object_position": null,
      "order": null,
      "overflow": null,
      "overflow_x": null,
      "overflow_y": null,
      "padding": null,
      "right": null,
      "top": null,
      "visibility": null,
      "width": null
     }
    },
    "61cc6664c06144308bc399fa5e6cede8": {
     "model_module": "@jupyter-widgets/base",
     "model_module_version": "1.2.0",
     "model_name": "LayoutModel",
     "state": {
      "_model_module": "@jupyter-widgets/base",
      "_model_module_version": "1.2.0",
      "_model_name": "LayoutModel",
      "_view_count": null,
      "_view_module": "@jupyter-widgets/base",
      "_view_module_version": "1.2.0",
      "_view_name": "LayoutView",
      "align_content": null,
      "align_items": null,
      "align_self": null,
      "border": null,
      "bottom": null,
      "display": null,
      "flex": null,
      "flex_flow": null,
      "grid_area": null,
      "grid_auto_columns": null,
      "grid_auto_flow": null,
      "grid_auto_rows": null,
      "grid_column": null,
      "grid_gap": null,
      "grid_row": null,
      "grid_template_areas": null,
      "grid_template_columns": null,
      "grid_template_rows": null,
      "height": null,
      "justify_content": null,
      "justify_items": null,
      "left": null,
      "margin": null,
      "max_height": null,
      "max_width": null,
      "min_height": null,
      "min_width": null,
      "object_fit": null,
      "object_position": null,
      "order": null,
      "overflow": null,
      "overflow_x": null,
      "overflow_y": null,
      "padding": null,
      "right": null,
      "top": null,
      "visibility": null,
      "width": null
     }
    },
    "638503e578a446d59cf73e252475b7e4": {
     "model_module": "@jupyter-widgets/controls",
     "model_module_version": "1.5.0",
     "model_name": "HBoxModel",
     "state": {
      "_dom_classes": [],
      "_model_module": "@jupyter-widgets/controls",
      "_model_module_version": "1.5.0",
      "_model_name": "HBoxModel",
      "_view_count": null,
      "_view_module": "@jupyter-widgets/controls",
      "_view_module_version": "1.5.0",
      "_view_name": "HBoxView",
      "box_style": "",
      "children": [
       "IPY_MODEL_67c26fd82202497e841465579eb592b3",
       "IPY_MODEL_8679128f1cf74af28e86a1943af9e61d",
       "IPY_MODEL_56965969dcd441c0b7e8a3170490d5f9"
      ],
      "layout": "IPY_MODEL_6133abb22fff486ea3b45dc1e7917b80"
     }
    },
    "67c26fd82202497e841465579eb592b3": {
     "model_module": "@jupyter-widgets/controls",
     "model_module_version": "1.5.0",
     "model_name": "HTMLModel",
     "state": {
      "_dom_classes": [],
      "_model_module": "@jupyter-widgets/controls",
      "_model_module_version": "1.5.0",
      "_model_name": "HTMLModel",
      "_view_count": null,
      "_view_module": "@jupyter-widgets/controls",
      "_view_module_version": "1.5.0",
      "_view_name": "HTMLView",
      "description": "",
      "description_tooltip": null,
      "layout": "IPY_MODEL_3fe56e67ba634ba9b2b8a2c0f515ef3c",
      "placeholder": "​",
      "style": "IPY_MODEL_f89f26d625594f47bb081dbc1df00e31",
      "value": "100%"
     }
    },
    "6d5282f27c6f4bf9858e08408b25ec51": {
     "model_module": "@jupyter-widgets/controls",
     "model_module_version": "1.5.0",
     "model_name": "HTMLModel",
     "state": {
      "_dom_classes": [],
      "_model_module": "@jupyter-widgets/controls",
      "_model_module_version": "1.5.0",
      "_model_name": "HTMLModel",
      "_view_count": null,
      "_view_module": "@jupyter-widgets/controls",
      "_view_module_version": "1.5.0",
      "_view_name": "HTMLView",
      "description": "",
      "description_tooltip": null,
      "layout": "IPY_MODEL_5dcbce49688d48299216757cb1423c5e",
      "placeholder": "​",
      "style": "IPY_MODEL_4adfb2d0689b471b8f8360dab569a1db",
      "value": "100%"
     }
    },
    "6ff31141cabf459692ec629ff1daf05a": {
     "model_module": "@jupyter-widgets/base",
     "model_module_version": "1.2.0",
     "model_name": "LayoutModel",
     "state": {
      "_model_module": "@jupyter-widgets/base",
      "_model_module_version": "1.2.0",
      "_model_name": "LayoutModel",
      "_view_count": null,
      "_view_module": "@jupyter-widgets/base",
      "_view_module_version": "1.2.0",
      "_view_name": "LayoutView",
      "align_content": null,
      "align_items": null,
      "align_self": null,
      "border": null,
      "bottom": null,
      "display": null,
      "flex": null,
      "flex_flow": null,
      "grid_area": null,
      "grid_auto_columns": null,
      "grid_auto_flow": null,
      "grid_auto_rows": null,
      "grid_column": null,
      "grid_gap": null,
      "grid_row": null,
      "grid_template_areas": null,
      "grid_template_columns": null,
      "grid_template_rows": null,
      "height": null,
      "justify_content": null,
      "justify_items": null,
      "left": null,
      "margin": null,
      "max_height": null,
      "max_width": null,
      "min_height": null,
      "min_width": null,
      "object_fit": null,
      "object_position": null,
      "order": null,
      "overflow": null,
      "overflow_x": null,
      "overflow_y": null,
      "padding": null,
      "right": null,
      "top": null,
      "visibility": null,
      "width": null
     }
    },
    "76d89dce8257477e9922b859b6004b2c": {
     "model_module": "@jupyter-widgets/base",
     "model_module_version": "1.2.0",
     "model_name": "LayoutModel",
     "state": {
      "_model_module": "@jupyter-widgets/base",
      "_model_module_version": "1.2.0",
      "_model_name": "LayoutModel",
      "_view_count": null,
      "_view_module": "@jupyter-widgets/base",
      "_view_module_version": "1.2.0",
      "_view_name": "LayoutView",
      "align_content": null,
      "align_items": null,
      "align_self": null,
      "border": null,
      "bottom": null,
      "display": null,
      "flex": null,
      "flex_flow": null,
      "grid_area": null,
      "grid_auto_columns": null,
      "grid_auto_flow": null,
      "grid_auto_rows": null,
      "grid_column": null,
      "grid_gap": null,
      "grid_row": null,
      "grid_template_areas": null,
      "grid_template_columns": null,
      "grid_template_rows": null,
      "height": null,
      "justify_content": null,
      "justify_items": null,
      "left": null,
      "margin": null,
      "max_height": null,
      "max_width": null,
      "min_height": null,
      "min_width": null,
      "object_fit": null,
      "object_position": null,
      "order": null,
      "overflow": null,
      "overflow_x": null,
      "overflow_y": null,
      "padding": null,
      "right": null,
      "top": null,
      "visibility": null,
      "width": null
     }
    },
    "7f27d77099ad45d09746bebcc22140b2": {
     "model_module": "@jupyter-widgets/base",
     "model_module_version": "1.2.0",
     "model_name": "LayoutModel",
     "state": {
      "_model_module": "@jupyter-widgets/base",
      "_model_module_version": "1.2.0",
      "_model_name": "LayoutModel",
      "_view_count": null,
      "_view_module": "@jupyter-widgets/base",
      "_view_module_version": "1.2.0",
      "_view_name": "LayoutView",
      "align_content": null,
      "align_items": null,
      "align_self": null,
      "border": null,
      "bottom": null,
      "display": null,
      "flex": null,
      "flex_flow": null,
      "grid_area": null,
      "grid_auto_columns": null,
      "grid_auto_flow": null,
      "grid_auto_rows": null,
      "grid_column": null,
      "grid_gap": null,
      "grid_row": null,
      "grid_template_areas": null,
      "grid_template_columns": null,
      "grid_template_rows": null,
      "height": null,
      "justify_content": null,
      "justify_items": null,
      "left": null,
      "margin": null,
      "max_height": null,
      "max_width": null,
      "min_height": null,
      "min_width": null,
      "object_fit": null,
      "object_position": null,
      "order": null,
      "overflow": null,
      "overflow_x": null,
      "overflow_y": null,
      "padding": null,
      "right": null,
      "top": null,
      "visibility": null,
      "width": null
     }
    },
    "802990d5617b40c9a09a17ffbe043dd0": {
     "model_module": "@jupyter-widgets/controls",
     "model_module_version": "1.5.0",
     "model_name": "HTMLModel",
     "state": {
      "_dom_classes": [],
      "_model_module": "@jupyter-widgets/controls",
      "_model_module_version": "1.5.0",
      "_model_name": "HTMLModel",
      "_view_count": null,
      "_view_module": "@jupyter-widgets/controls",
      "_view_module_version": "1.5.0",
      "_view_name": "HTMLView",
      "description": "",
      "description_tooltip": null,
      "layout": "IPY_MODEL_4331ba267a4e4fac81e5f2b7bb6bc639",
      "placeholder": "​",
      "style": "IPY_MODEL_bbcd026e20194a25a9cd6a9ca617f49f",
      "value": " 10999/10999 [01:21&lt;00:00, 111.58it/s]"
     }
    },
    "802a194cdfad405cbb6a54a4d15c480a": {
     "model_module": "@jupyter-widgets/base",
     "model_module_version": "1.2.0",
     "model_name": "LayoutModel",
     "state": {
      "_model_module": "@jupyter-widgets/base",
      "_model_module_version": "1.2.0",
      "_model_name": "LayoutModel",
      "_view_count": null,
      "_view_module": "@jupyter-widgets/base",
      "_view_module_version": "1.2.0",
      "_view_name": "LayoutView",
      "align_content": null,
      "align_items": null,
      "align_self": null,
      "border": null,
      "bottom": null,
      "display": null,
      "flex": null,
      "flex_flow": null,
      "grid_area": null,
      "grid_auto_columns": null,
      "grid_auto_flow": null,
      "grid_auto_rows": null,
      "grid_column": null,
      "grid_gap": null,
      "grid_row": null,
      "grid_template_areas": null,
      "grid_template_columns": null,
      "grid_template_rows": null,
      "height": null,
      "justify_content": null,
      "justify_items": null,
      "left": null,
      "margin": null,
      "max_height": null,
      "max_width": null,
      "min_height": null,
      "min_width": null,
      "object_fit": null,
      "object_position": null,
      "order": null,
      "overflow": null,
      "overflow_x": null,
      "overflow_y": null,
      "padding": null,
      "right": null,
      "top": null,
      "visibility": null,
      "width": null
     }
    },
    "82e5fee8b9244d79998a0cd7e2f9181e": {
     "model_module": "@jupyter-widgets/controls",
     "model_module_version": "1.5.0",
     "model_name": "HTMLModel",
     "state": {
      "_dom_classes": [],
      "_model_module": "@jupyter-widgets/controls",
      "_model_module_version": "1.5.0",
      "_model_name": "HTMLModel",
      "_view_count": null,
      "_view_module": "@jupyter-widgets/controls",
      "_view_module_version": "1.5.0",
      "_view_name": "HTMLView",
      "description": "",
      "description_tooltip": null,
      "layout": "IPY_MODEL_76d89dce8257477e9922b859b6004b2c",
      "placeholder": "​",
      "style": "IPY_MODEL_2037a78270d2460c97bf97abcf02f4aa",
      "value": "100%"
     }
    },
    "8679128f1cf74af28e86a1943af9e61d": {
     "model_module": "@jupyter-widgets/controls",
     "model_module_version": "1.5.0",
     "model_name": "FloatProgressModel",
     "state": {
      "_dom_classes": [],
      "_model_module": "@jupyter-widgets/controls",
      "_model_module_version": "1.5.0",
      "_model_name": "FloatProgressModel",
      "_view_count": null,
      "_view_module": "@jupyter-widgets/controls",
      "_view_module_version": "1.5.0",
      "_view_name": "ProgressView",
      "bar_style": "success",
      "description": "",
      "description_tooltip": null,
      "layout": "IPY_MODEL_7f27d77099ad45d09746bebcc22140b2",
      "max": 15923,
      "min": 0,
      "orientation": "horizontal",
      "style": "IPY_MODEL_4d24560933f0436cac3690fbecb6cd5e",
      "value": 15923
     }
    },
    "8fb6c795b3fe44fd825e1c15fb9a86f1": {
     "model_module": "@jupyter-widgets/controls",
     "model_module_version": "1.5.0",
     "model_name": "HTMLModel",
     "state": {
      "_dom_classes": [],
      "_model_module": "@jupyter-widgets/controls",
      "_model_module_version": "1.5.0",
      "_model_name": "HTMLModel",
      "_view_count": null,
      "_view_module": "@jupyter-widgets/controls",
      "_view_module_version": "1.5.0",
      "_view_name": "HTMLView",
      "description": "",
      "description_tooltip": null,
      "layout": "IPY_MODEL_1d70c084cdad4433a245871d5c5617b3",
      "placeholder": "​",
      "style": "IPY_MODEL_5739e20828284ab6b7dc608b52ec4c6a",
      "value": " 159292/159292 [25:31&lt;00:00, 146.93it/s]"
     }
    },
    "914ae68d767844409b8c8b48c9a99b7c": {
     "model_module": "@jupyter-widgets/controls",
     "model_module_version": "1.5.0",
     "model_name": "HTMLModel",
     "state": {
      "_dom_classes": [],
      "_model_module": "@jupyter-widgets/controls",
      "_model_module_version": "1.5.0",
      "_model_name": "HTMLModel",
      "_view_count": null,
      "_view_module": "@jupyter-widgets/controls",
      "_view_module_version": "1.5.0",
      "_view_name": "HTMLView",
      "description": "",
      "description_tooltip": null,
      "layout": "IPY_MODEL_fad4f2925fd24bc8996db7ff4f7e2744",
      "placeholder": "​",
      "style": "IPY_MODEL_44d038a955d948018ce147e019a06182",
      "value": "100%"
     }
    },
    "964c71a12c9b451b9df4fb7366ac7924": {
     "model_module": "@jupyter-widgets/controls",
     "model_module_version": "1.5.0",
     "model_name": "HBoxModel",
     "state": {
      "_dom_classes": [],
      "_model_module": "@jupyter-widgets/controls",
      "_model_module_version": "1.5.0",
      "_model_name": "HBoxModel",
      "_view_count": null,
      "_view_module": "@jupyter-widgets/controls",
      "_view_module_version": "1.5.0",
      "_view_name": "HBoxView",
      "box_style": "",
      "children": [
       "IPY_MODEL_b481815d555c4ffaa6b3994cf014467e",
       "IPY_MODEL_ec4a53a66f804a2e9b7a7644d0b80c4d",
       "IPY_MODEL_a071d375492b470e89cedaeae08fd46c"
      ],
      "layout": "IPY_MODEL_3c95038355a5418caacbff4534193451"
     }
    },
    "9e1ce26aefc44a8c847051b7f12ed8d7": {
     "model_module": "@jupyter-widgets/base",
     "model_module_version": "1.2.0",
     "model_name": "LayoutModel",
     "state": {
      "_model_module": "@jupyter-widgets/base",
      "_model_module_version": "1.2.0",
      "_model_name": "LayoutModel",
      "_view_count": null,
      "_view_module": "@jupyter-widgets/base",
      "_view_module_version": "1.2.0",
      "_view_name": "LayoutView",
      "align_content": null,
      "align_items": null,
      "align_self": null,
      "border": null,
      "bottom": null,
      "display": null,
      "flex": null,
      "flex_flow": null,
      "grid_area": null,
      "grid_auto_columns": null,
      "grid_auto_flow": null,
      "grid_auto_rows": null,
      "grid_column": null,
      "grid_gap": null,
      "grid_row": null,
      "grid_template_areas": null,
      "grid_template_columns": null,
      "grid_template_rows": null,
      "height": null,
      "justify_content": null,
      "justify_items": null,
      "left": null,
      "margin": null,
      "max_height": null,
      "max_width": null,
      "min_height": null,
      "min_width": null,
      "object_fit": null,
      "object_position": null,
      "order": null,
      "overflow": null,
      "overflow_x": null,
      "overflow_y": null,
      "padding": null,
      "right": null,
      "top": null,
      "visibility": null,
      "width": null
     }
    },
    "a071d375492b470e89cedaeae08fd46c": {
     "model_module": "@jupyter-widgets/controls",
     "model_module_version": "1.5.0",
     "model_name": "HTMLModel",
     "state": {
      "_dom_classes": [],
      "_model_module": "@jupyter-widgets/controls",
      "_model_module_version": "1.5.0",
      "_model_name": "HTMLModel",
      "_view_count": null,
      "_view_module": "@jupyter-widgets/controls",
      "_view_module_version": "1.5.0",
      "_view_name": "HTMLView",
      "description": "",
      "description_tooltip": null,
      "layout": "IPY_MODEL_f4f501159f1d40d2ab664355378d81d1",
      "placeholder": "​",
      "style": "IPY_MODEL_122a192bb5164888a179a630088733c8",
      "value": " 15917/15917 [01:55&lt;00:00, 183.25it/s]"
     }
    },
    "a2096f5855b2406d9188fab4dcf4de16": {
     "model_module": "@jupyter-widgets/controls",
     "model_module_version": "1.5.0",
     "model_name": "HBoxModel",
     "state": {
      "_dom_classes": [],
      "_model_module": "@jupyter-widgets/controls",
      "_model_module_version": "1.5.0",
      "_model_name": "HBoxModel",
      "_view_count": null,
      "_view_module": "@jupyter-widgets/controls",
      "_view_module_version": "1.5.0",
      "_view_name": "HBoxView",
      "box_style": "",
      "children": [
       "IPY_MODEL_914ae68d767844409b8c8b48c9a99b7c",
       "IPY_MODEL_1c94b9b1a7384c9486fe04457a483827",
       "IPY_MODEL_802990d5617b40c9a09a17ffbe043dd0"
      ],
      "layout": "IPY_MODEL_d1b4c0edfb754fe4a7006eec5f881fda"
     }
    },
    "afa72b78ca2c4bd8bbf2c3bf632f07b8": {
     "model_module": "@jupyter-widgets/base",
     "model_module_version": "1.2.0",
     "model_name": "LayoutModel",
     "state": {
      "_model_module": "@jupyter-widgets/base",
      "_model_module_version": "1.2.0",
      "_model_name": "LayoutModel",
      "_view_count": null,
      "_view_module": "@jupyter-widgets/base",
      "_view_module_version": "1.2.0",
      "_view_name": "LayoutView",
      "align_content": null,
      "align_items": null,
      "align_self": null,
      "border": null,
      "bottom": null,
      "display": null,
      "flex": null,
      "flex_flow": null,
      "grid_area": null,
      "grid_auto_columns": null,
      "grid_auto_flow": null,
      "grid_auto_rows": null,
      "grid_column": null,
      "grid_gap": null,
      "grid_row": null,
      "grid_template_areas": null,
      "grid_template_columns": null,
      "grid_template_rows": null,
      "height": null,
      "justify_content": null,
      "justify_items": null,
      "left": null,
      "margin": null,
      "max_height": null,
      "max_width": null,
      "min_height": null,
      "min_width": null,
      "object_fit": null,
      "object_position": null,
      "order": null,
      "overflow": null,
      "overflow_x": null,
      "overflow_y": null,
      "padding": null,
      "right": null,
      "top": null,
      "visibility": null,
      "width": null
     }
    },
    "b481815d555c4ffaa6b3994cf014467e": {
     "model_module": "@jupyter-widgets/controls",
     "model_module_version": "1.5.0",
     "model_name": "HTMLModel",
     "state": {
      "_dom_classes": [],
      "_model_module": "@jupyter-widgets/controls",
      "_model_module_version": "1.5.0",
      "_model_name": "HTMLModel",
      "_view_count": null,
      "_view_module": "@jupyter-widgets/controls",
      "_view_module_version": "1.5.0",
      "_view_name": "HTMLView",
      "description": "",
      "description_tooltip": null,
      "layout": "IPY_MODEL_46f75b5d759e4b34b2cfa8a125ba8e45",
      "placeholder": "​",
      "style": "IPY_MODEL_20578416ef234fe2a279cb5bb2564b44",
      "value": "100%"
     }
    },
    "bbcd026e20194a25a9cd6a9ca617f49f": {
     "model_module": "@jupyter-widgets/controls",
     "model_module_version": "1.5.0",
     "model_name": "DescriptionStyleModel",
     "state": {
      "_model_module": "@jupyter-widgets/controls",
      "_model_module_version": "1.5.0",
      "_model_name": "DescriptionStyleModel",
      "_view_count": null,
      "_view_module": "@jupyter-widgets/base",
      "_view_module_version": "1.2.0",
      "_view_name": "StyleView",
      "description_width": ""
     }
    },
    "d1b4c0edfb754fe4a7006eec5f881fda": {
     "model_module": "@jupyter-widgets/base",
     "model_module_version": "1.2.0",
     "model_name": "LayoutModel",
     "state": {
      "_model_module": "@jupyter-widgets/base",
      "_model_module_version": "1.2.0",
      "_model_name": "LayoutModel",
      "_view_count": null,
      "_view_module": "@jupyter-widgets/base",
      "_view_module_version": "1.2.0",
      "_view_name": "LayoutView",
      "align_content": null,
      "align_items": null,
      "align_self": null,
      "border": null,
      "bottom": null,
      "display": null,
      "flex": null,
      "flex_flow": null,
      "grid_area": null,
      "grid_auto_columns": null,
      "grid_auto_flow": null,
      "grid_auto_rows": null,
      "grid_column": null,
      "grid_gap": null,
      "grid_row": null,
      "grid_template_areas": null,
      "grid_template_columns": null,
      "grid_template_rows": null,
      "height": null,
      "justify_content": null,
      "justify_items": null,
      "left": null,
      "margin": null,
      "max_height": null,
      "max_width": null,
      "min_height": null,
      "min_width": null,
      "object_fit": null,
      "object_position": null,
      "order": null,
      "overflow": null,
      "overflow_x": null,
      "overflow_y": null,
      "padding": null,
      "right": null,
      "top": null,
      "visibility": null,
      "width": null
     }
    },
    "de6d21bfc309409d8bd7a99de0a9ed6c": {
     "model_module": "@jupyter-widgets/controls",
     "model_module_version": "1.5.0",
     "model_name": "HTMLModel",
     "state": {
      "_dom_classes": [],
      "_model_module": "@jupyter-widgets/controls",
      "_model_module_version": "1.5.0",
      "_model_name": "HTMLModel",
      "_view_count": null,
      "_view_module": "@jupyter-widgets/controls",
      "_view_module_version": "1.5.0",
      "_view_name": "HTMLView",
      "description": "",
      "description_tooltip": null,
      "layout": "IPY_MODEL_802a194cdfad405cbb6a54a4d15c480a",
      "placeholder": "​",
      "style": "IPY_MODEL_020c52efbf1643aaa5b25cf601ba3e3e",
      "value": " 15819/15819 [02:06&lt;00:00, 181.64it/s]"
     }
    },
    "df2506c4de80437eb909e9f24c503ed3": {
     "model_module": "@jupyter-widgets/base",
     "model_module_version": "1.2.0",
     "model_name": "LayoutModel",
     "state": {
      "_model_module": "@jupyter-widgets/base",
      "_model_module_version": "1.2.0",
      "_model_name": "LayoutModel",
      "_view_count": null,
      "_view_module": "@jupyter-widgets/base",
      "_view_module_version": "1.2.0",
      "_view_name": "LayoutView",
      "align_content": null,
      "align_items": null,
      "align_self": null,
      "border": null,
      "bottom": null,
      "display": null,
      "flex": null,
      "flex_flow": null,
      "grid_area": null,
      "grid_auto_columns": null,
      "grid_auto_flow": null,
      "grid_auto_rows": null,
      "grid_column": null,
      "grid_gap": null,
      "grid_row": null,
      "grid_template_areas": null,
      "grid_template_columns": null,
      "grid_template_rows": null,
      "height": null,
      "justify_content": null,
      "justify_items": null,
      "left": null,
      "margin": null,
      "max_height": null,
      "max_width": null,
      "min_height": null,
      "min_width": null,
      "object_fit": null,
      "object_position": null,
      "order": null,
      "overflow": null,
      "overflow_x": null,
      "overflow_y": null,
      "padding": null,
      "right": null,
      "top": null,
      "visibility": null,
      "width": null
     }
    },
    "e9349c135c6f43258fd87fe05ca46228": {
     "model_module": "@jupyter-widgets/base",
     "model_module_version": "1.2.0",
     "model_name": "LayoutModel",
     "state": {
      "_model_module": "@jupyter-widgets/base",
      "_model_module_version": "1.2.0",
      "_model_name": "LayoutModel",
      "_view_count": null,
      "_view_module": "@jupyter-widgets/base",
      "_view_module_version": "1.2.0",
      "_view_name": "LayoutView",
      "align_content": null,
      "align_items": null,
      "align_self": null,
      "border": null,
      "bottom": null,
      "display": null,
      "flex": null,
      "flex_flow": null,
      "grid_area": null,
      "grid_auto_columns": null,
      "grid_auto_flow": null,
      "grid_auto_rows": null,
      "grid_column": null,
      "grid_gap": null,
      "grid_row": null,
      "grid_template_areas": null,
      "grid_template_columns": null,
      "grid_template_rows": null,
      "height": null,
      "justify_content": null,
      "justify_items": null,
      "left": null,
      "margin": null,
      "max_height": null,
      "max_width": null,
      "min_height": null,
      "min_width": null,
      "object_fit": null,
      "object_position": null,
      "order": null,
      "overflow": null,
      "overflow_x": null,
      "overflow_y": null,
      "padding": null,
      "right": null,
      "top": null,
      "visibility": null,
      "width": null
     }
    },
    "ec4a53a66f804a2e9b7a7644d0b80c4d": {
     "model_module": "@jupyter-widgets/controls",
     "model_module_version": "1.5.0",
     "model_name": "FloatProgressModel",
     "state": {
      "_dom_classes": [],
      "_model_module": "@jupyter-widgets/controls",
      "_model_module_version": "1.5.0",
      "_model_name": "FloatProgressModel",
      "_view_count": null,
      "_view_module": "@jupyter-widgets/controls",
      "_view_module_version": "1.5.0",
      "_view_name": "ProgressView",
      "bar_style": "success",
      "description": "",
      "description_tooltip": null,
      "layout": "IPY_MODEL_e9349c135c6f43258fd87fe05ca46228",
      "max": 15917,
      "min": 0,
      "orientation": "horizontal",
      "style": "IPY_MODEL_f7340faabc244291aea2bfaac6663119",
      "value": 15917
     }
    },
    "f4f501159f1d40d2ab664355378d81d1": {
     "model_module": "@jupyter-widgets/base",
     "model_module_version": "1.2.0",
     "model_name": "LayoutModel",
     "state": {
      "_model_module": "@jupyter-widgets/base",
      "_model_module_version": "1.2.0",
      "_model_name": "LayoutModel",
      "_view_count": null,
      "_view_module": "@jupyter-widgets/base",
      "_view_module_version": "1.2.0",
      "_view_name": "LayoutView",
      "align_content": null,
      "align_items": null,
      "align_self": null,
      "border": null,
      "bottom": null,
      "display": null,
      "flex": null,
      "flex_flow": null,
      "grid_area": null,
      "grid_auto_columns": null,
      "grid_auto_flow": null,
      "grid_auto_rows": null,
      "grid_column": null,
      "grid_gap": null,
      "grid_row": null,
      "grid_template_areas": null,
      "grid_template_columns": null,
      "grid_template_rows": null,
      "height": null,
      "justify_content": null,
      "justify_items": null,
      "left": null,
      "margin": null,
      "max_height": null,
      "max_width": null,
      "min_height": null,
      "min_width": null,
      "object_fit": null,
      "object_position": null,
      "order": null,
      "overflow": null,
      "overflow_x": null,
      "overflow_y": null,
      "padding": null,
      "right": null,
      "top": null,
      "visibility": null,
      "width": null
     }
    },
    "f7340faabc244291aea2bfaac6663119": {
     "model_module": "@jupyter-widgets/controls",
     "model_module_version": "1.5.0",
     "model_name": "ProgressStyleModel",
     "state": {
      "_model_module": "@jupyter-widgets/controls",
      "_model_module_version": "1.5.0",
      "_model_name": "ProgressStyleModel",
      "_view_count": null,
      "_view_module": "@jupyter-widgets/base",
      "_view_module_version": "1.2.0",
      "_view_name": "StyleView",
      "bar_color": null,
      "description_width": ""
     }
    },
    "f754d94498f040669b4f03446a6f092b": {
     "model_module": "@jupyter-widgets/controls",
     "model_module_version": "1.5.0",
     "model_name": "FloatProgressModel",
     "state": {
      "_dom_classes": [],
      "_model_module": "@jupyter-widgets/controls",
      "_model_module_version": "1.5.0",
      "_model_name": "FloatProgressModel",
      "_view_count": null,
      "_view_module": "@jupyter-widgets/controls",
      "_view_module_version": "1.5.0",
      "_view_name": "ProgressView",
      "bar_style": "success",
      "description": "",
      "description_tooltip": null,
      "layout": "IPY_MODEL_6ff31141cabf459692ec629ff1daf05a",
      "max": 15819,
      "min": 0,
      "orientation": "horizontal",
      "style": "IPY_MODEL_4b7975bcf6454ed5aae6dc9453c92b12",
      "value": 15819
     }
    },
    "f89f26d625594f47bb081dbc1df00e31": {
     "model_module": "@jupyter-widgets/controls",
     "model_module_version": "1.5.0",
     "model_name": "DescriptionStyleModel",
     "state": {
      "_model_module": "@jupyter-widgets/controls",
      "_model_module_version": "1.5.0",
      "_model_name": "DescriptionStyleModel",
      "_view_count": null,
      "_view_module": "@jupyter-widgets/base",
      "_view_module_version": "1.2.0",
      "_view_name": "StyleView",
      "description_width": ""
     }
    },
    "fad4f2925fd24bc8996db7ff4f7e2744": {
     "model_module": "@jupyter-widgets/base",
     "model_module_version": "1.2.0",
     "model_name": "LayoutModel",
     "state": {
      "_model_module": "@jupyter-widgets/base",
      "_model_module_version": "1.2.0",
      "_model_name": "LayoutModel",
      "_view_count": null,
      "_view_module": "@jupyter-widgets/base",
      "_view_module_version": "1.2.0",
      "_view_name": "LayoutView",
      "align_content": null,
      "align_items": null,
      "align_self": null,
      "border": null,
      "bottom": null,
      "display": null,
      "flex": null,
      "flex_flow": null,
      "grid_area": null,
      "grid_auto_columns": null,
      "grid_auto_flow": null,
      "grid_auto_rows": null,
      "grid_column": null,
      "grid_gap": null,
      "grid_row": null,
      "grid_template_areas": null,
      "grid_template_columns": null,
      "grid_template_rows": null,
      "height": null,
      "justify_content": null,
      "justify_items": null,
      "left": null,
      "margin": null,
      "max_height": null,
      "max_width": null,
      "min_height": null,
      "min_width": null,
      "object_fit": null,
      "object_position": null,
      "order": null,
      "overflow": null,
      "overflow_x": null,
      "overflow_y": null,
      "padding": null,
      "right": null,
      "top": null,
      "visibility": null,
      "width": null
     }
    },
    "ff4538ab03714ef7a65c93f503fcc65d": {
     "model_module": "@jupyter-widgets/controls",
     "model_module_version": "1.5.0",
     "model_name": "HBoxModel",
     "state": {
      "_dom_classes": [],
      "_model_module": "@jupyter-widgets/controls",
      "_model_module_version": "1.5.0",
      "_model_name": "HBoxModel",
      "_view_count": null,
      "_view_module": "@jupyter-widgets/controls",
      "_view_module_version": "1.5.0",
      "_view_name": "HBoxView",
      "box_style": "",
      "children": [
       "IPY_MODEL_6d5282f27c6f4bf9858e08408b25ec51",
       "IPY_MODEL_2f3ee8da99724f2f8845fd5ecdfe680f",
       "IPY_MODEL_8fb6c795b3fe44fd825e1c15fb9a86f1"
      ],
      "layout": "IPY_MODEL_afa72b78ca2c4bd8bbf2c3bf632f07b8"
     }
    }
   }
  }
 },
 "nbformat": 4,
 "nbformat_minor": 4
}
